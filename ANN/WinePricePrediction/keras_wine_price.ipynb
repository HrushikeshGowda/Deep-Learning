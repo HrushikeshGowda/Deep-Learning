{
 "cells": [
  {
   "cell_type": "code",
   "execution_count": 1,
   "id": "336fdaa0",
   "metadata": {},
   "outputs": [],
   "source": [
    "import keras"
   ]
  },
  {
   "cell_type": "code",
   "execution_count": 2,
   "id": "4afacdf4",
   "metadata": {},
   "outputs": [
    {
     "data": {
      "text/plain": [
       "'2.6.0'"
      ]
     },
     "execution_count": 2,
     "metadata": {},
     "output_type": "execute_result"
    }
   ],
   "source": [
    "keras.__version__"
   ]
  },
  {
   "cell_type": "code",
   "execution_count": 3,
   "id": "cf0150fd",
   "metadata": {},
   "outputs": [],
   "source": [
    "from __future__ import absolute_import\n",
    "from __future__ import division\n",
    "from __future__ import print_function"
   ]
  },
  {
   "cell_type": "code",
   "execution_count": 4,
   "id": "2060e17f",
   "metadata": {},
   "outputs": [],
   "source": [
    "import itertools\n",
    "import os\n",
    "import math\n",
    "import numpy as np\n",
    "import pandas as pd\n",
    "import tensorflow as tf\n",
    "import tensorflow.compat.v1 as tfc\n",
    "\n",
    "from sklearn.preprocessing import LabelEncoder\n",
    "from tensorflow import keras"
   ]
  },
  {
   "cell_type": "code",
   "execution_count": 5,
   "id": "125b5284",
   "metadata": {},
   "outputs": [],
   "source": [
    "layers = keras.layers"
   ]
  },
  {
   "cell_type": "code",
   "execution_count": 6,
   "id": "57e62ffb",
   "metadata": {},
   "outputs": [],
   "source": [
    "data = pd.read_csv(r'wine_data\\winemag-data_first150k.csv')"
   ]
  },
  {
   "cell_type": "code",
   "execution_count": 7,
   "id": "94c37ce9",
   "metadata": {},
   "outputs": [],
   "source": [
    "pd.set_option('max_columns' , 12)"
   ]
  },
  {
   "cell_type": "code",
   "execution_count": 8,
   "id": "2121d9a7",
   "metadata": {},
   "outputs": [
    {
     "data": {
      "text/html": [
       "<div>\n",
       "<style scoped>\n",
       "    .dataframe tbody tr th:only-of-type {\n",
       "        vertical-align: middle;\n",
       "    }\n",
       "\n",
       "    .dataframe tbody tr th {\n",
       "        vertical-align: top;\n",
       "    }\n",
       "\n",
       "    .dataframe thead th {\n",
       "        text-align: right;\n",
       "    }\n",
       "</style>\n",
       "<table border=\"1\" class=\"dataframe\">\n",
       "  <thead>\n",
       "    <tr style=\"text-align: right;\">\n",
       "      <th></th>\n",
       "      <th>Unnamed: 0</th>\n",
       "      <th>country</th>\n",
       "      <th>description</th>\n",
       "      <th>designation</th>\n",
       "      <th>points</th>\n",
       "      <th>price</th>\n",
       "      <th>province</th>\n",
       "      <th>region_1</th>\n",
       "      <th>region_2</th>\n",
       "      <th>variety</th>\n",
       "      <th>winery</th>\n",
       "    </tr>\n",
       "  </thead>\n",
       "  <tbody>\n",
       "    <tr>\n",
       "      <th>0</th>\n",
       "      <td>0</td>\n",
       "      <td>US</td>\n",
       "      <td>This tremendous 100% varietal wine hails from ...</td>\n",
       "      <td>Martha's Vineyard</td>\n",
       "      <td>96</td>\n",
       "      <td>235.0</td>\n",
       "      <td>California</td>\n",
       "      <td>Napa Valley</td>\n",
       "      <td>Napa</td>\n",
       "      <td>Cabernet Sauvignon</td>\n",
       "      <td>Heitz</td>\n",
       "    </tr>\n",
       "    <tr>\n",
       "      <th>1</th>\n",
       "      <td>1</td>\n",
       "      <td>Spain</td>\n",
       "      <td>Ripe aromas of fig, blackberry and cassis are ...</td>\n",
       "      <td>Carodorum Selección Especial Reserva</td>\n",
       "      <td>96</td>\n",
       "      <td>110.0</td>\n",
       "      <td>Northern Spain</td>\n",
       "      <td>Toro</td>\n",
       "      <td>NaN</td>\n",
       "      <td>Tinta de Toro</td>\n",
       "      <td>Bodega Carmen Rodríguez</td>\n",
       "    </tr>\n",
       "    <tr>\n",
       "      <th>2</th>\n",
       "      <td>2</td>\n",
       "      <td>US</td>\n",
       "      <td>Mac Watson honors the memory of a wine once ma...</td>\n",
       "      <td>Special Selected Late Harvest</td>\n",
       "      <td>96</td>\n",
       "      <td>90.0</td>\n",
       "      <td>California</td>\n",
       "      <td>Knights Valley</td>\n",
       "      <td>Sonoma</td>\n",
       "      <td>Sauvignon Blanc</td>\n",
       "      <td>Macauley</td>\n",
       "    </tr>\n",
       "    <tr>\n",
       "      <th>3</th>\n",
       "      <td>3</td>\n",
       "      <td>US</td>\n",
       "      <td>This spent 20 months in 30% new French oak, an...</td>\n",
       "      <td>Reserve</td>\n",
       "      <td>96</td>\n",
       "      <td>65.0</td>\n",
       "      <td>Oregon</td>\n",
       "      <td>Willamette Valley</td>\n",
       "      <td>Willamette Valley</td>\n",
       "      <td>Pinot Noir</td>\n",
       "      <td>Ponzi</td>\n",
       "    </tr>\n",
       "    <tr>\n",
       "      <th>4</th>\n",
       "      <td>4</td>\n",
       "      <td>France</td>\n",
       "      <td>This is the top wine from La Bégude, named aft...</td>\n",
       "      <td>La Brûlade</td>\n",
       "      <td>95</td>\n",
       "      <td>66.0</td>\n",
       "      <td>Provence</td>\n",
       "      <td>Bandol</td>\n",
       "      <td>NaN</td>\n",
       "      <td>Provence red blend</td>\n",
       "      <td>Domaine de la Bégude</td>\n",
       "    </tr>\n",
       "  </tbody>\n",
       "</table>\n",
       "</div>"
      ],
      "text/plain": [
       "   Unnamed: 0 country                                        description  \\\n",
       "0           0      US  This tremendous 100% varietal wine hails from ...   \n",
       "1           1   Spain  Ripe aromas of fig, blackberry and cassis are ...   \n",
       "2           2      US  Mac Watson honors the memory of a wine once ma...   \n",
       "3           3      US  This spent 20 months in 30% new French oak, an...   \n",
       "4           4  France  This is the top wine from La Bégude, named aft...   \n",
       "\n",
       "                            designation  points  price        province  \\\n",
       "0                     Martha's Vineyard      96  235.0      California   \n",
       "1  Carodorum Selección Especial Reserva      96  110.0  Northern Spain   \n",
       "2         Special Selected Late Harvest      96   90.0      California   \n",
       "3                               Reserve      96   65.0          Oregon   \n",
       "4                            La Brûlade      95   66.0        Provence   \n",
       "\n",
       "            region_1           region_2             variety  \\\n",
       "0        Napa Valley               Napa  Cabernet Sauvignon   \n",
       "1               Toro                NaN       Tinta de Toro   \n",
       "2     Knights Valley             Sonoma     Sauvignon Blanc   \n",
       "3  Willamette Valley  Willamette Valley          Pinot Noir   \n",
       "4             Bandol                NaN  Provence red blend   \n",
       "\n",
       "                    winery  \n",
       "0                    Heitz  \n",
       "1  Bodega Carmen Rodríguez  \n",
       "2                 Macauley  \n",
       "3                    Ponzi  \n",
       "4     Domaine de la Bégude  "
      ]
     },
     "execution_count": 8,
     "metadata": {},
     "output_type": "execute_result"
    }
   ],
   "source": [
    "data.head()"
   ]
  },
  {
   "cell_type": "code",
   "execution_count": 9,
   "id": "83028db9",
   "metadata": {},
   "outputs": [
    {
     "data": {
      "text/plain": [
       "(150930, 11)"
      ]
     },
     "execution_count": 9,
     "metadata": {},
     "output_type": "execute_result"
    }
   ],
   "source": [
    "data.shape"
   ]
  },
  {
   "cell_type": "code",
   "execution_count": 10,
   "id": "b2a68b50",
   "metadata": {},
   "outputs": [
    {
     "data": {
      "text/plain": [
       "True     150925\n",
       "False         5\n",
       "Name: country, dtype: int64"
      ]
     },
     "execution_count": 10,
     "metadata": {},
     "output_type": "execute_result"
    }
   ],
   "source": [
    "pd.notnull(data['country']).value_counts()"
   ]
  },
  {
   "cell_type": "code",
   "execution_count": 11,
   "id": "77e63a05",
   "metadata": {},
   "outputs": [
    {
     "data": {
      "text/plain": [
       "Unnamed: 0         0\n",
       "country            5\n",
       "description        0\n",
       "designation    45735\n",
       "points             0\n",
       "price          13695\n",
       "province           5\n",
       "region_1       25060\n",
       "region_2       89977\n",
       "variety            0\n",
       "winery             0\n",
       "dtype: int64"
      ]
     },
     "execution_count": 11,
     "metadata": {},
     "output_type": "execute_result"
    }
   ],
   "source": [
    "data.isnull().sum()"
   ]
  },
  {
   "cell_type": "code",
   "execution_count": 12,
   "id": "83e5aac9",
   "metadata": {},
   "outputs": [],
   "source": [
    "data = data[pd.notnull(data['country'])]\n",
    "data = data[pd.notnull(data['price'])]\n",
    "data = data.drop(data.columns[0] , axis = 1)"
   ]
  },
  {
   "cell_type": "code",
   "execution_count": 13,
   "id": "606b3ef8",
   "metadata": {},
   "outputs": [
    {
     "data": {
      "text/plain": [
       "country            0\n",
       "description        0\n",
       "designation    42311\n",
       "points             0\n",
       "price              0\n",
       "province           0\n",
       "region_1       22837\n",
       "region_2       76526\n",
       "variety            0\n",
       "winery             0\n",
       "dtype: int64"
      ]
     },
     "execution_count": 13,
     "metadata": {},
     "output_type": "execute_result"
    }
   ],
   "source": [
    "data.isnull().sum()"
   ]
  },
  {
   "cell_type": "code",
   "execution_count": 14,
   "id": "4de0d46b",
   "metadata": {},
   "outputs": [],
   "source": [
    "variety_threshold = 500 #Anything that occurs less than this will be removed\n",
    "value_counts = data['variety'].value_counts()\n",
    "to_remove = value_counts[value_counts <= variety_threshold].index"
   ]
  },
  {
   "cell_type": "code",
   "execution_count": 15,
   "id": "b780738a",
   "metadata": {},
   "outputs": [],
   "source": [
    "data.replace(to_remove , np.nan , inplace = True)"
   ]
  },
  {
   "cell_type": "code",
   "execution_count": 16,
   "id": "7ee131a7",
   "metadata": {},
   "outputs": [],
   "source": [
    "data = data[pd.notnull(data['variety'])]"
   ]
  },
  {
   "cell_type": "code",
   "execution_count": 17,
   "id": "06f270a6",
   "metadata": {},
   "outputs": [
    {
     "name": "stdout",
     "output_type": "stream",
     "text": [
      "Train size: 95647\n",
      "Test size: 23912\n"
     ]
    }
   ],
   "source": [
    "train_size = int(len(data) * 0.8)\n",
    "print('Train size: %d' % train_size)\n",
    "print('Test size: %d' % (len(data) - train_size))"
   ]
  },
  {
   "cell_type": "code",
   "execution_count": 18,
   "id": "87dedf81",
   "metadata": {},
   "outputs": [],
   "source": [
    "description_train = data['description'][:train_size]\n",
    "variety_train = data['variety'][:train_size]\n",
    "labels_train = data['price'][:train_size]\n",
    "\n",
    "description_test = data['description'][train_size:]\n",
    "variety_test = data['variety'][train_size:]\n",
    "labels_test = data['price'][train_size:]"
   ]
  },
  {
   "cell_type": "code",
   "execution_count": 19,
   "id": "abd282c2",
   "metadata": {},
   "outputs": [],
   "source": [
    "vocab_size = 12000 #This is hyperparameter , try with different values\n",
    "tokensize = keras.preprocessing.text.Tokenizer(num_words = vocab_size ,char_level = False)\n",
    "tokensize.fit_on_texts(description_train)"
   ]
  },
  {
   "cell_type": "code",
   "execution_count": 22,
   "id": "8fae2d17",
   "metadata": {},
   "outputs": [],
   "source": [
    "description_bow_train = tokensize.texts_to_matrix(description_train).astype('uint8')\n",
    "description_bow_test = tokensize.texts_to_matrix(description_test).astype('uint8')"
   ]
  },
  {
   "cell_type": "code",
   "execution_count": 25,
   "id": "075431c7",
   "metadata": {},
   "outputs": [],
   "source": [
    "encoder = LabelEncoder()\n",
    "encoder.fit(variety_train)\n",
    "variety_train = encoder.transform(variety_train).astype('uint8')\n",
    "variety_test = encoder.transform(variety_test).astype('uint8')"
   ]
  },
  {
   "cell_type": "code",
   "execution_count": 26,
   "id": "055d1a12",
   "metadata": {},
   "outputs": [],
   "source": [
    "num_classes = np.max(variety_train) + 1"
   ]
  },
  {
   "cell_type": "code",
   "execution_count": 30,
   "id": "c172e4a4",
   "metadata": {},
   "outputs": [],
   "source": [
    "variety_train = keras.utils.to_categorical(variety_train , num_classes).astype('uint8')\n",
    "variety_test = keras.utils.to_categorical(variety_test , num_classes).astype('uint8')"
   ]
  },
  {
   "cell_type": "code",
   "execution_count": 31,
   "id": "b14d4075",
   "metadata": {},
   "outputs": [
    {
     "data": {
      "text/plain": [
       "(95647, 40)"
      ]
     },
     "execution_count": 31,
     "metadata": {},
     "output_type": "execute_result"
    }
   ],
   "source": [
    "variety_train.shape"
   ]
  },
  {
   "cell_type": "code",
   "execution_count": 32,
   "id": "4f7dd65e",
   "metadata": {},
   "outputs": [
    {
     "data": {
      "text/plain": [
       "40"
      ]
     },
     "execution_count": 32,
     "metadata": {},
     "output_type": "execute_result"
    }
   ],
   "source": [
    "num_classes"
   ]
  },
  {
   "cell_type": "code",
   "execution_count": 33,
   "id": "7cf2eb59",
   "metadata": {},
   "outputs": [],
   "source": [
    "bow_inputs = layers.Input(shape = (vocab_size , ))\n",
    "variety_inputs = layers.Input(shape = (num_classes , ))\n",
    "merged_layer = layers.concatenate([bow_inputs , variety_inputs])\n",
    "merged_layer = layers.Dense(256 , activation = 'relu')(merged_layer)\n",
    "predictions = layers.Dense(1)(merged_layer)\n",
    "wide_model = keras.Model(inputs = [bow_inputs , variety_inputs] , outputs = predictions)"
   ]
  },
  {
   "cell_type": "code",
   "execution_count": 34,
   "id": "d250aec1",
   "metadata": {},
   "outputs": [],
   "source": [
    "wide_model.compile(loss = 'mse' , optimizer = 'adam' , metrics = ['accuracy'])"
   ]
  },
  {
   "cell_type": "code",
   "execution_count": 35,
   "id": "322c7ac0",
   "metadata": {},
   "outputs": [
    {
     "name": "stdout",
     "output_type": "stream",
     "text": [
      "Model: \"model\"\n",
      "__________________________________________________________________________________________________\n",
      "Layer (type)                    Output Shape         Param #     Connected to                     \n",
      "==================================================================================================\n",
      "input_1 (InputLayer)            [(None, 12000)]      0                                            \n",
      "__________________________________________________________________________________________________\n",
      "input_2 (InputLayer)            [(None, 40)]         0                                            \n",
      "__________________________________________________________________________________________________\n",
      "concatenate (Concatenate)       (None, 12040)        0           input_1[0][0]                    \n",
      "                                                                 input_2[0][0]                    \n",
      "__________________________________________________________________________________________________\n",
      "dense (Dense)                   (None, 256)          3082496     concatenate[0][0]                \n",
      "__________________________________________________________________________________________________\n",
      "dense_1 (Dense)                 (None, 1)            257         dense[0][0]                      \n",
      "==================================================================================================\n",
      "Total params: 3,082,753\n",
      "Trainable params: 3,082,753\n",
      "Non-trainable params: 0\n",
      "__________________________________________________________________________________________________\n"
     ]
    }
   ],
   "source": [
    "wide_model.summary()"
   ]
  },
  {
   "cell_type": "code",
   "execution_count": 36,
   "id": "eca32f7c",
   "metadata": {},
   "outputs": [],
   "source": [
    "#Deep model feature: word embeddings of wine descriptions\n",
    "\n",
    "train_embed = tokensize.texts_to_sequences(description_train)\n",
    "test_embed = tokensize.texts_to_sequences(description_test)\n",
    "\n",
    "max_seq_length = 170\n",
    "train_embed = keras.preprocessing.sequence.pad_sequences(\n",
    "    train_embed , maxlen = max_seq_length , padding = 'post')\n",
    "test_embed = keras.preprocessing.sequence.pad_sequences(\n",
    "    test_embed , maxlen = max_seq_length , padding = 'post')"
   ]
  },
  {
   "cell_type": "code",
   "execution_count": 37,
   "id": "05bda855",
   "metadata": {},
   "outputs": [
    {
     "name": "stdout",
     "output_type": "stream",
     "text": [
      "Model: \"model_1\"\n",
      "_________________________________________________________________\n",
      "Layer (type)                 Output Shape              Param #   \n",
      "=================================================================\n",
      "input_3 (InputLayer)         [(None, 170)]             0         \n",
      "_________________________________________________________________\n",
      "embedding (Embedding)        (None, 170, 8)            96000     \n",
      "_________________________________________________________________\n",
      "flatten (Flatten)            (None, 1360)              0         \n",
      "_________________________________________________________________\n",
      "dense_2 (Dense)              (None, 1)                 1361      \n",
      "=================================================================\n",
      "Total params: 97,361\n",
      "Trainable params: 97,361\n",
      "Non-trainable params: 0\n",
      "_________________________________________________________________\n",
      "None\n"
     ]
    }
   ],
   "source": [
    "deep_inputs = layers.Input(shape = (max_seq_length , ))\n",
    "embedding = layers.Embedding(vocab_size , 8 , input_length = max_seq_length)(deep_inputs)\n",
    "embedding = layers.Flatten()(embedding)\n",
    "embed_out = layers.Dense(1)(embedding)\n",
    "deep_model = keras.Model(inputs = deep_inputs , outputs = embed_out)\n",
    "print(deep_model.summary())"
   ]
  },
  {
   "cell_type": "code",
   "execution_count": 38,
   "id": "c50a12fc",
   "metadata": {},
   "outputs": [],
   "source": [
    "deep_model.compile(loss = 'mse' , optimizer = 'adam' , metrics = ['accuracy'])"
   ]
  },
  {
   "cell_type": "code",
   "execution_count": 39,
   "id": "672703b8",
   "metadata": {},
   "outputs": [
    {
     "name": "stdout",
     "output_type": "stream",
     "text": [
      "Model: \"model_2\"\n",
      "__________________________________________________________________________________________________\n",
      "Layer (type)                    Output Shape         Param #     Connected to                     \n",
      "==================================================================================================\n",
      "input_1 (InputLayer)            [(None, 12000)]      0                                            \n",
      "__________________________________________________________________________________________________\n",
      "input_2 (InputLayer)            [(None, 40)]         0                                            \n",
      "__________________________________________________________________________________________________\n",
      "input_3 (InputLayer)            [(None, 170)]        0                                            \n",
      "__________________________________________________________________________________________________\n",
      "concatenate (Concatenate)       (None, 12040)        0           input_1[0][0]                    \n",
      "                                                                 input_2[0][0]                    \n",
      "__________________________________________________________________________________________________\n",
      "embedding (Embedding)           (None, 170, 8)       96000       input_3[0][0]                    \n",
      "__________________________________________________________________________________________________\n",
      "dense (Dense)                   (None, 256)          3082496     concatenate[0][0]                \n",
      "__________________________________________________________________________________________________\n",
      "flatten (Flatten)               (None, 1360)         0           embedding[0][0]                  \n",
      "__________________________________________________________________________________________________\n",
      "dense_1 (Dense)                 (None, 1)            257         dense[0][0]                      \n",
      "__________________________________________________________________________________________________\n",
      "dense_2 (Dense)                 (None, 1)            1361        flatten[0][0]                    \n",
      "__________________________________________________________________________________________________\n",
      "concatenate_1 (Concatenate)     (None, 2)            0           dense_1[0][0]                    \n",
      "                                                                 dense_2[0][0]                    \n",
      "__________________________________________________________________________________________________\n",
      "dense_3 (Dense)                 (None, 1)            3           concatenate_1[0][0]              \n",
      "==================================================================================================\n",
      "Total params: 3,180,117\n",
      "Trainable params: 3,180,117\n",
      "Non-trainable params: 0\n",
      "__________________________________________________________________________________________________\n"
     ]
    }
   ],
   "source": [
    "merged_out = layers.concatenate([wide_model.output , deep_model.output])\n",
    "merged_out = layers.Dense(1)(merged_out)\n",
    "combined_model = keras.Model(wide_model.input+[deep_model.input] , merged_out)\n",
    "combined_model.summary()"
   ]
  },
  {
   "cell_type": "code",
   "execution_count": 40,
   "id": "c73780f3",
   "metadata": {},
   "outputs": [],
   "source": [
    "combined_model.compile(loss = 'mse' , optimizer = 'adam' , metrics = ['accuracy'])"
   ]
  },
  {
   "cell_type": "code",
   "execution_count": 41,
   "id": "61e9d441",
   "metadata": {},
   "outputs": [
    {
     "name": "stdout",
     "output_type": "stream",
     "text": [
      "Epoch 1/10\n",
      "2989/2989 [==============================] - 23s 5ms/step - loss: 1098.0377 - accuracy: 0.0000e+00\n",
      "Epoch 2/10\n",
      "2989/2989 [==============================] - 14s 5ms/step - loss: 805.1874 - accuracy: 0.0000e+00\n",
      "Epoch 3/10\n",
      "2989/2989 [==============================] - 15s 5ms/step - loss: 584.3972 - accuracy: 0.0000e+00\n",
      "Epoch 4/10\n",
      "2989/2989 [==============================] - 15s 5ms/step - loss: 406.3238 - accuracy: 0.0000e+00\n",
      "Epoch 5/10\n",
      "2989/2989 [==============================] - 14s 5ms/step - loss: 282.4486 - accuracy: 0.0000e+00\n",
      "Epoch 6/10\n",
      "2989/2989 [==============================] - 14s 5ms/step - loss: 195.6394 - accuracy: 0.0000e+00\n",
      "Epoch 7/10\n",
      "2989/2989 [==============================] - 14s 5ms/step - loss: 144.6219 - accuracy: 0.0000e+00\n",
      "Epoch 8/10\n",
      "2989/2989 [==============================] - 14s 5ms/step - loss: 108.4006 - accuracy: 0.0000e+00\n",
      "Epoch 9/10\n",
      "2989/2989 [==============================] - 14s 5ms/step - loss: 84.5164 - accuracy: 0.0000e+00\n",
      "Epoch 10/10\n",
      "2989/2989 [==============================] - 14s 5ms/step - loss: 71.3953 - accuracy: 0.0000e+00\n"
     ]
    },
    {
     "data": {
      "text/plain": [
       "<keras.callbacks.History at 0x1b3e6d81730>"
      ]
     },
     "execution_count": 41,
     "metadata": {},
     "output_type": "execute_result"
    }
   ],
   "source": [
    "combined_model.fit([description_bow_train , variety_train] + [train_embed] , labels_train , epochs = 10 , batch_size = 32)"
   ]
  },
  {
   "cell_type": "code",
   "execution_count": 42,
   "id": "a595e08f",
   "metadata": {},
   "outputs": [
    {
     "name": "stdout",
     "output_type": "stream",
     "text": [
      "748/748 [==============================] - 2s 2ms/step - loss: 352.7181 - accuracy: 0.0000e+00\n"
     ]
    },
    {
     "data": {
      "text/plain": [
       "[352.71807861328125, 0.0]"
      ]
     },
     "execution_count": 42,
     "metadata": {},
     "output_type": "execute_result"
    }
   ],
   "source": [
    "combined_model.evaluate([description_bow_test , variety_test] + [test_embed] , labels_test , batch_size = 32)"
   ]
  },
  {
   "cell_type": "code",
   "execution_count": 43,
   "id": "42fc7bb5",
   "metadata": {},
   "outputs": [],
   "source": [
    "predictions = combined_model.predict([description_bow_test , variety_test] + [test_embed])"
   ]
  },
  {
   "cell_type": "code",
   "execution_count": 44,
   "id": "e7201294",
   "metadata": {},
   "outputs": [
    {
     "name": "stdout",
     "output_type": "stream",
     "text": [
      "H3 is Columbia Crest's line of wines from the Horse Heaven Hills AVA—the winery's home turf—and the wines seem to have a bit more cut and flair than the slightly less expensive Columbia Valley bottlings. Here you will find a more complex blend of fruits—starfruit, apple, melon and a hint of banana—and less focus on butter and toast. In other words, more of a food and sipping wine.\n",
      "Predicted:  16.56811 Actual:  15.0 \n",
      "\n",
      "Very ripe and fruity in the modern style, almost too strong in blackberry jam, black currant and oak flavors that are not particularly subtle or delicate, although the wine is thoroughly dry. The tannins are significant, but negotiable. The suggestion is ageability. Give it 2–4 years and try again.\n",
      "Predicted:  48.076202 Actual:  45.0 \n",
      "\n",
      "Notes of olive and bay leaves add some interesting complexity to the nose of this blend, otherwise dominated by typical red berry flavors. Ripe and rich on the palate with medium acidity and lighter tannins. The finish, dominated by beautiful notes of wild strawberries, is long and satisfying.\n",
      "Predicted:  45.637386 Actual:  45.0 \n",
      "\n",
      "Some green tannins and stemmy scents can be found in the nose and tasted in the finish, but this has good concentration and stiff black fruits as well. Licorice and vanilla are woven into a wine that is still pulling itself together.\n",
      "Predicted:  27.329275 Actual:  30.0 \n",
      "\n",
      "A lovely, rich Sauvignon Blanc that benefits from full ripeness. No trace of green in the Meyer lemon, lime, vanilla and spice flavors that finish so clean and vibrant.\n",
      "Predicted:  21.43093 Actual:  22.0 \n",
      "\n",
      "Bright and sweetly fruity, with blackberry and black cherry fruit matched to vanilla-flavored oak. A bit high-toned, soft and fresh, with lots of immediate drinking appeal.\n",
      "Predicted:  31.844265 Actual:  29.0 \n",
      "\n",
      "This is a smooth, easy-drinking, chocolaty Cabernet. The ripe red fruit is laced with streaks of black olive, mushroom and loam. Barrel aging in both American and French oak (half new) brings in coffee and chocolate.\n",
      "Predicted:  29.219728 Actual:  29.0 \n",
      "\n",
      "Nice black cherry, cassis and earthy rubber aromas form a familiar, friendly type of Malbec nose, while the palate is juicy and lifted by acidity. Flavors of blackberry and chocolate are solid and under control, and the finish is mildly peppered and consistent with what comes before it. Drink now through 2011.\n",
      "Predicted:  13.983864 Actual:  15.0 \n",
      "\n",
      "Here's a gorgeous expression of Pinot Grigio from Alto Adige with crisp aromas of stone fruit and wild flowers backed by a brilliant, luminous appearance and a richly creamy mouthfeel. This shows the best of what this popular white variety can do.\n",
      "Predicted:  23.23628 Actual:  21.0 \n",
      "\n",
      "A very tasty and tasteful Zinfandel, dry and balanced, that offers plenty of classic Dry Creek personality. With briary, wild berry, currant and pepper flavors, its tannins are rich and complicated. A lovely wine to drink with roasts and stews.\n",
      "Predicted:  22.66819 Actual:  25.0 \n",
      "\n",
      "Spiced gumdrop and rooty sweetness carry the massive nose to a big but balky palate of baked, roasted black fruits, cassis and tire rubber. There's sweetness, beef, marshmallow and burn along with tannic weight and grab. A lot of power; needs more touch. Believe it or not, Medalla Real Cabernet is now a 73,000-case product.\n",
      "Predicted:  19.745428 Actual:  20.0 \n",
      "\n",
      "Spring Valley Vineyard, now being dramatically expanded by new owners Ste. Michelle Wine Estates, sits in a unique spot in the Walla Walla appellation. Now, if only the powers-that-be could make these wines at moderate levels of alcohol. Yes, this is delicious. Loaded with raspberry jam, peppery spice, hints of caramel. But the alcohol blows out the detail. Please—pull it back.\n",
      "Predicted:  53.478752 Actual:  50.0 \n",
      "\n",
      "Shows serious chops via crisp, pungent aromas of citrus and nettles. The palate is fresh, clean and citric, with flavors of passionfruit, lemon, white grapefruit and minerality. Keeps its form from start to finish. A true Casablanca SB for a good price; drink this spring and summer.\n",
      "Predicted:  11.822481 Actual:  12.0 \n",
      "\n",
      "Nutty, toasty aromas open a wine that has yellow fruits, strong ripe peach flavors, some green plum acidity. The texture brings out the toast, flavored with toffee, the aftertaste full of creamy acidity.\n",
      "Predicted:  24.009062 Actual:  19.0 \n",
      "\n",
      "A strongly flavored Cabernet, powerful in blackberry, currant and cedar flavors, that impresses for sheer volume, although it is drinkable now with a brief decant. It's a bit rude now, but could calm down and develop some bottle sophistication in a few years.\n",
      "Predicted:  28.954346 Actual:  25.0 \n",
      "\n",
      "This is a 50-50 blend of estate-grown Merlot and Cabernet Sauvignon, aged in neutral oak. Dark, plush, well-ripened fruit is the focus of a wine still a bit stiff and steely. It's classic in the way a Bordeaux is classic, firm and confidently blended.\n",
      "Predicted:  12.680902 Actual:  16.0 \n",
      "\n",
      "This is the best Cab from Two Vines to date. It's got real concentration and fruit flavor, enhanced with the addition of 11% Cab Franc and 7% Syrah in the blend. Berries, cherries, cassis, plums, coffee and smoke filter through the palate, with just a little bite to the tannins. Very impressive.\n",
      "Predicted:  10.775014 Actual:  8.0 \n",
      "\n",
      "Pronounced garrigue notes dominate the nose here—rosemary, menthol and lavender—with soft notes of red fruit in the background. More cherry and raspberry show themselves in the mouth. Medium weight with a gripping structure and medium-length finish.\n",
      "Predicted:  17.244036 Actual:  15.0 \n",
      "\n",
      "A nice Zinfandel that's dry and fruity, with briary, brambly blackberry, tobacco and spice flavors. It's a clean, vibrant Zin, but a very tough, tannic one. Needs ultrarich fare to crack through the astringency.\n",
      "Predicted:  35.764526 Actual:  38.0 \n",
      "\n",
      "A very fine effort, with classic cassis and black cherry in the fruit core, but also offering interesting details of bark, earth and herb. The wine lingers, perhaps due to excellent natural acidity, and without overpowering the palate it keeps tantalizing it with nuances of moist earth and wet rock.\n",
      "Predicted:  23.60781 Actual:  22.0 \n",
      "\n",
      "A dusty-textured wine, its fruit like grains scattered over the surface of a fresh crisp structure. The freshness is palpable and so is the depth of flavor. A food-friendly wine.\n",
      "Predicted:  37.718384 Actual:  37.0 \n",
      "\n",
      "Sourced entirely from Les Collines, this perfectly expresses the house style—scents of strawberry jam, hints of pepper, and flavors that seem to focus on rocky minerality. An austere yet thrilling wine, almost like a Chinon, though this is Syrah, and not Cabernet Franc.\n",
      "Predicted:  37.496128 Actual:  40.0 \n",
      "\n",
      "Here's a wine that opens beautifully to all your senses. It boasts a dense, vibrant ruby color and delivers bright aromas of cherry, blackberry and bitter cranberry. In the mouth, however, this wine is softer and plusher than you'd expect. Sure, that trademark Barbera acidity is present, but its natural sharpness has been dulled.\n",
      "Predicted:  96.18182 Actual:  90.0 \n",
      "\n",
      "Aged in neutral oak and 100% varietal, this is a fine value. There is great fruit flavor—raspberry and Bing cherry—supported with natural acidity and just a hint of chocolate. This could be a Dry Creek Zinfandel, in terms of its bright berry fruit and lively acidity.\n",
      "Predicted:  18.943602 Actual:  16.0 \n",
      "\n",
      "A very pretty Merlot, and a good price for the elegant quality. It's dry and tannic, showing the Clos du Val style of controlled, somewhat aloof ripeness. There's a rich, attractive core of black cherry fruit. Will develop for a few years, but it's really best now, with a brief decant.\n",
      "Predicted:  28.84375 Actual:  26.0 \n",
      "\n",
      "Chocolate, coffee and espresso come to life thanks to the solid base of natural fruit that keeps the wine lively and fresh. Fruit and oak-related aromas work well together and give the wine brightness, softness and a velvety texture.\n",
      "Predicted:  15.938208 Actual:  19.0 \n",
      "\n",
      "Another fine value from Kirkland, the Costco house brand. Vineyard sources are first rate, mostly Wahluke Slope, and the wine has exceptional grip, depth and structure for Merlot at this price point. Cassis, dark plum, black cherry, licorice, espresso and smoke are woven together nicely. Tannins are lush, substantial and quite ripe; they wrap up the wine with a blanket of smoke and tar. A great steak wine.\n",
      "Predicted:  5.2966833 Actual:  10.0 \n",
      "\n",
      "A very good Chardonnay, fancy and elegant, although it's a little sharp in the mouth, and lacks a certain hedonistic appeal, especially at this price. Shows dry, oak-inspired flavors of pineapples, green apples and pears, with a firm minerality.\n",
      "Predicted:  48.5891 Actual:  46.0 \n",
      "\n",
      "Representing a good value in top-flight Cabernet, Jim Barry's 2008 The Cover Drive (a cricketing term) features subtle hints of cinnamon, coffee and vanilla layered over blueberry and plum fruit. It's on the full-bodied side, with plush, velvety tannins balanced by crisp acids. Drink now–2018.\n",
      "Predicted:  21.237242 Actual:  18.0 \n",
      "\n",
      "A top value, this full-bodied yet supple Shiraz packs in the flavor, starting with dark, brooding fruit on the nose, developing intensely flavored mixed berries on the palate and finishing warm and long. Drink now.\n",
      "Predicted:  24.201101 Actual:  19.0 \n",
      "\n",
      "Smooth and sophisticated with rich blackberry and plum aromas backed by oak-driven tones of spice and leather, this is a very rich expression of Barbera (that sees eight months in oak barrels). The overall effect is excellent and the mouthfeel culminates with bright tones of prune and crushed black pepper.\n",
      "Predicted:  22.408182 Actual:  20.0 \n",
      "\n",
      "Crisp red apples and tight fruit skins give this wine a taut, lively character. Just a touch of caramel to broaden the acidity.\n",
      "Predicted:  20.112371 Actual:  18.0 \n",
      "\n",
      "Gold in color, with an ebullient nose of spiced melon and sweet flavors of candied pineapple tinged with white pepper and grapefruit. At 12.5% alcohol and 117 g/L residual sugar, it's rich and sweet without being over the top. Drink now.\n",
      "Predicted:  18.695555 Actual:  19.0 \n",
      "\n",
      "Winemaker Joe Forest has brightened the fruit and livened up the mouthfeel by blending in 20% Grenache. Fresh raspberry flavors are wrapped into the earthier, herbal, lightly chocolaty character of the Syrah. Once-filled French barrels were used.\n",
      "Predicted:  27.736473 Actual:  25.0 \n",
      "\n",
      "It's unfortunate that only 56 cases of this wine were imported, so be sure to snag it when you see it. Intense and powerful on the nose, with attractive forest, licorice, tea leaves and menthol adding complexity to the small red berries and plum skins. The velvety texture and firm structure lead nicely into the mocha-flavored finish, with flecks of white pepper gleaming through on the very end.\n",
      "Predicted:  48.55365 Actual:  37.0 \n",
      "\n",
      "This winery, part of the San Pedro group, is on the right path as its wines have improved in recent vintages. This particular wine marks a high-water point; the nose mixes dry wood notes, leather, herbal berry and even some fine aged cheese. The palate is tight and forceful, with cassis, cherry and cola flavors. Powerful but poised. Drink now through 2012.\n",
      "Predicted:  28.025797 Actual:  23.0 \n",
      "\n",
      "Back on form after the disappointing 2008, Nobilo's Icon deftly combines hints of honey and stone fruit with a leafy overlay of herbal flavors. It's medium bodied, with a finish that's tinged with tobacco leaf. Drink now and over the next 6–9 months.\n",
      "Predicted:  16.304693 Actual:  20.0 \n",
      "\n",
      "Sidewood's consulting winemaker, Nathasha Mooney (who made the still-stunning 1998 E&E; Black Pepper Shiraz while at Barossa Valley Estate), is putting together some excellent wines that also represent good value, including this grapefruit-scented Sauvignon Blanc. This medium-bodied offering is long and intense, blending citrus with minerally spice reminiscent of white pepper.\n",
      "Predicted:  17.859745 Actual:  16.0 \n",
      "\n",
      "This Bordeaux blend shows an interesting range of fruit flavors and textures from the blend, which includes Cabernet Sauvignon, Cabernet Franc, Petit Verdot and Merlot. The flavors tend toward red fruits, as in cherries and red currants, while the tannins are quite strong. Shows an immaturity now that strongly suggests 5–6 years in the cellar.\n",
      "Predicted:  67.33353 Actual:  65.0 \n",
      "\n",
      "This is a rich and chocolaty expression of Barbera d'Alba with thick concentration and immediate aromas of black currant and cherry. The wine is dense and extracted with smooth, drying tannins and a piquant blast of acidity on the close.\n",
      "Predicted:  33.022083 Actual:  30.0 \n",
      "\n"
     ]
    }
   ],
   "source": [
    "num_predictions = 40\n",
    "diff = 0\n",
    "\n",
    "for i in range(num_predictions):\n",
    "    val = predictions[i]\n",
    "    print(description_test.iloc[i])\n",
    "    print('Predicted: ' , val[0], 'Actual: ' , labels_test.iloc[i] , '\\n')\n",
    "    diff += abs(val[0] - labels_test.iloc[i])"
   ]
  },
  {
   "cell_type": "code",
   "execution_count": 45,
   "id": "3baa9bcd",
   "metadata": {},
   "outputs": [
    {
     "name": "stdout",
     "output_type": "stream",
     "text": [
      "Average Prediciton Difference:  2.7815239667892455\n"
     ]
    }
   ],
   "source": [
    "print('Average Prediciton Difference: ' , diff / num_predictions)"
   ]
  },
  {
   "cell_type": "code",
   "execution_count": null,
   "id": "d055eee3",
   "metadata": {},
   "outputs": [],
   "source": []
  },
  {
   "cell_type": "code",
   "execution_count": null,
   "id": "8cf576f0",
   "metadata": {},
   "outputs": [],
   "source": []
  }
 ],
 "metadata": {
  "kernelspec": {
   "display_name": "Python 3 (ipykernel)",
   "language": "python",
   "name": "python3"
  },
  "language_info": {
   "codemirror_mode": {
    "name": "ipython",
    "version": 3
   },
   "file_extension": ".py",
   "mimetype": "text/x-python",
   "name": "python",
   "nbconvert_exporter": "python",
   "pygments_lexer": "ipython3",
   "version": "3.9.13"
  }
 },
 "nbformat": 4,
 "nbformat_minor": 5
}
