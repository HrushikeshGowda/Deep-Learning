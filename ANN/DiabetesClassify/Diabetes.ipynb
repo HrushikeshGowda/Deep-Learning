{
 "cells": [
  {
   "cell_type": "code",
   "execution_count": 1,
   "id": "3b53a12a",
   "metadata": {},
   "outputs": [],
   "source": [
    "import numpy as np\n",
    "import pandas as pd\n",
    "import keras\n",
    "from keras.models import Sequential\n",
    "from keras.layers import Dense"
   ]
  },
  {
   "cell_type": "code",
   "execution_count": 2,
   "id": "9eb84482",
   "metadata": {},
   "outputs": [],
   "source": [
    "data = pd.read_csv(r'diabetes.csv')"
   ]
  },
  {
   "cell_type": "code",
   "execution_count": 3,
   "id": "bcf02c1d",
   "metadata": {},
   "outputs": [
    {
     "data": {
      "text/html": [
       "<div>\n",
       "<style scoped>\n",
       "    .dataframe tbody tr th:only-of-type {\n",
       "        vertical-align: middle;\n",
       "    }\n",
       "\n",
       "    .dataframe tbody tr th {\n",
       "        vertical-align: top;\n",
       "    }\n",
       "\n",
       "    .dataframe thead th {\n",
       "        text-align: right;\n",
       "    }\n",
       "</style>\n",
       "<table border=\"1\" class=\"dataframe\">\n",
       "  <thead>\n",
       "    <tr style=\"text-align: right;\">\n",
       "      <th></th>\n",
       "      <th>Pregnancies</th>\n",
       "      <th>Glucose</th>\n",
       "      <th>BloodPressure</th>\n",
       "      <th>SkinThickness</th>\n",
       "      <th>Insulin</th>\n",
       "      <th>BMI</th>\n",
       "      <th>DiabetesPedigreeFunction</th>\n",
       "      <th>Age</th>\n",
       "      <th>Outcome</th>\n",
       "    </tr>\n",
       "  </thead>\n",
       "  <tbody>\n",
       "    <tr>\n",
       "      <th>0</th>\n",
       "      <td>6</td>\n",
       "      <td>148</td>\n",
       "      <td>72</td>\n",
       "      <td>35</td>\n",
       "      <td>0</td>\n",
       "      <td>33.6</td>\n",
       "      <td>0.627</td>\n",
       "      <td>50</td>\n",
       "      <td>1</td>\n",
       "    </tr>\n",
       "    <tr>\n",
       "      <th>1</th>\n",
       "      <td>1</td>\n",
       "      <td>85</td>\n",
       "      <td>66</td>\n",
       "      <td>29</td>\n",
       "      <td>0</td>\n",
       "      <td>26.6</td>\n",
       "      <td>0.351</td>\n",
       "      <td>31</td>\n",
       "      <td>0</td>\n",
       "    </tr>\n",
       "    <tr>\n",
       "      <th>2</th>\n",
       "      <td>8</td>\n",
       "      <td>183</td>\n",
       "      <td>64</td>\n",
       "      <td>0</td>\n",
       "      <td>0</td>\n",
       "      <td>23.3</td>\n",
       "      <td>0.672</td>\n",
       "      <td>32</td>\n",
       "      <td>1</td>\n",
       "    </tr>\n",
       "    <tr>\n",
       "      <th>3</th>\n",
       "      <td>1</td>\n",
       "      <td>89</td>\n",
       "      <td>66</td>\n",
       "      <td>23</td>\n",
       "      <td>94</td>\n",
       "      <td>28.1</td>\n",
       "      <td>0.167</td>\n",
       "      <td>21</td>\n",
       "      <td>0</td>\n",
       "    </tr>\n",
       "    <tr>\n",
       "      <th>4</th>\n",
       "      <td>0</td>\n",
       "      <td>137</td>\n",
       "      <td>40</td>\n",
       "      <td>35</td>\n",
       "      <td>168</td>\n",
       "      <td>43.1</td>\n",
       "      <td>2.288</td>\n",
       "      <td>33</td>\n",
       "      <td>1</td>\n",
       "    </tr>\n",
       "  </tbody>\n",
       "</table>\n",
       "</div>"
      ],
      "text/plain": [
       "   Pregnancies  Glucose  BloodPressure  SkinThickness  Insulin   BMI  \\\n",
       "0            6      148             72             35        0  33.6   \n",
       "1            1       85             66             29        0  26.6   \n",
       "2            8      183             64              0        0  23.3   \n",
       "3            1       89             66             23       94  28.1   \n",
       "4            0      137             40             35      168  43.1   \n",
       "\n",
       "   DiabetesPedigreeFunction  Age  Outcome  \n",
       "0                     0.627   50        1  \n",
       "1                     0.351   31        0  \n",
       "2                     0.672   32        1  \n",
       "3                     0.167   21        0  \n",
       "4                     2.288   33        1  "
      ]
     },
     "execution_count": 3,
     "metadata": {},
     "output_type": "execute_result"
    }
   ],
   "source": [
    "data.head()"
   ]
  },
  {
   "cell_type": "code",
   "execution_count": 15,
   "id": "c540fe3b",
   "metadata": {},
   "outputs": [],
   "source": [
    "X = data.drop('Outcome' , axis = 1).values\n",
    "Y = data['Outcome'].values"
   ]
  },
  {
   "cell_type": "code",
   "execution_count": 18,
   "id": "19543e1f",
   "metadata": {},
   "outputs": [
    {
     "data": {
      "text/plain": [
       "(768, 8)"
      ]
     },
     "execution_count": 18,
     "metadata": {},
     "output_type": "execute_result"
    }
   ],
   "source": [
    "X.shape"
   ]
  },
  {
   "cell_type": "code",
   "execution_count": 20,
   "id": "cab440c5",
   "metadata": {},
   "outputs": [],
   "source": [
    "model = Sequential()\n",
    "model.add(Dense(12 , input_dim = 8 , activation = 'relu'))\n",
    "model.add(Dense(8, activation = 'relu'))\n",
    "model.add(Dense(1, activation = 'sigmoid'))"
   ]
  },
  {
   "cell_type": "code",
   "execution_count": 21,
   "id": "119c2475",
   "metadata": {},
   "outputs": [],
   "source": [
    "model.compile(loss = 'binary_crossentropy' , optimizer = 'adam' , metrics = ['accuracy'])"
   ]
  },
  {
   "cell_type": "code",
   "execution_count": 23,
   "id": "24f4210f",
   "metadata": {},
   "outputs": [],
   "source": [
    "from sklearn.model_selection import train_test_split"
   ]
  },
  {
   "cell_type": "code",
   "execution_count": 24,
   "id": "aa1051bb",
   "metadata": {},
   "outputs": [],
   "source": [
    "X_Train , X_Test , Y_Train , Y_Test = train_test_split(X , Y, test_size = 0.2 , random_state = 42)"
   ]
  },
  {
   "cell_type": "code",
   "execution_count": 28,
   "id": "e9afdac0",
   "metadata": {},
   "outputs": [
    {
     "name": "stdout",
     "output_type": "stream",
     "text": [
      "Epoch 1/40\n",
      "77/77 [==============================] - 1s 7ms/step - loss: 0.6096 - accuracy: 0.7052 - val_loss: 0.7319 - val_accuracy: 0.6948\n",
      "Epoch 2/40\n",
      "77/77 [==============================] - 0s 6ms/step - loss: 0.5956 - accuracy: 0.7134 - val_loss: 0.7173 - val_accuracy: 0.6299\n",
      "Epoch 3/40\n",
      "77/77 [==============================] - 0s 6ms/step - loss: 0.6100 - accuracy: 0.7134 - val_loss: 0.6795 - val_accuracy: 0.7013\n",
      "Epoch 4/40\n",
      "77/77 [==============================] - 1s 11ms/step - loss: 0.5685 - accuracy: 0.7150 - val_loss: 0.6976 - val_accuracy: 0.6948\n",
      "Epoch 5/40\n",
      "77/77 [==============================] - 0s 6ms/step - loss: 0.5812 - accuracy: 0.7199 - val_loss: 0.6937 - val_accuracy: 0.6883\n",
      "Epoch 6/40\n",
      "77/77 [==============================] - 1s 8ms/step - loss: 0.6154 - accuracy: 0.7020 - val_loss: 0.6517 - val_accuracy: 0.6818\n",
      "Epoch 7/40\n",
      "77/77 [==============================] - 0s 6ms/step - loss: 0.5728 - accuracy: 0.7085 - val_loss: 0.6520 - val_accuracy: 0.7273\n",
      "Epoch 8/40\n",
      "77/77 [==============================] - 0s 6ms/step - loss: 0.5682 - accuracy: 0.7296 - val_loss: 0.6307 - val_accuracy: 0.6948\n",
      "Epoch 9/40\n",
      "77/77 [==============================] - 0s 6ms/step - loss: 0.5699 - accuracy: 0.7362 - val_loss: 0.6431 - val_accuracy: 0.6818\n",
      "Epoch 10/40\n",
      "77/77 [==============================] - 0s 6ms/step - loss: 0.5989 - accuracy: 0.7101 - val_loss: 0.6789 - val_accuracy: 0.6818\n",
      "Epoch 11/40\n",
      "77/77 [==============================] - 0s 6ms/step - loss: 0.5597 - accuracy: 0.7378 - val_loss: 0.6685 - val_accuracy: 0.6948\n",
      "Epoch 12/40\n",
      "77/77 [==============================] - 0s 6ms/step - loss: 0.5391 - accuracy: 0.7345 - val_loss: 0.6453 - val_accuracy: 0.6948\n",
      "Epoch 13/40\n",
      "77/77 [==============================] - 0s 6ms/step - loss: 0.5311 - accuracy: 0.7476 - val_loss: 0.6704 - val_accuracy: 0.6688\n",
      "Epoch 14/40\n",
      "77/77 [==============================] - 1s 7ms/step - loss: 0.5539 - accuracy: 0.7248 - val_loss: 0.6677 - val_accuracy: 0.6948\n",
      "Epoch 15/40\n",
      "77/77 [==============================] - 1s 7ms/step - loss: 0.5666 - accuracy: 0.7231 - val_loss: 0.6460 - val_accuracy: 0.6623\n",
      "Epoch 16/40\n",
      "77/77 [==============================] - 0s 6ms/step - loss: 0.5679 - accuracy: 0.7117 - val_loss: 0.6670 - val_accuracy: 0.6104\n",
      "Epoch 17/40\n",
      "77/77 [==============================] - 1s 7ms/step - loss: 0.5571 - accuracy: 0.7362 - val_loss: 0.8541 - val_accuracy: 0.6753\n",
      "Epoch 18/40\n",
      "77/77 [==============================] - 0s 6ms/step - loss: 0.5514 - accuracy: 0.7459 - val_loss: 0.6211 - val_accuracy: 0.7273\n",
      "Epoch 19/40\n",
      "77/77 [==============================] - 0s 6ms/step - loss: 0.5524 - accuracy: 0.7329 - val_loss: 0.6182 - val_accuracy: 0.7013\n",
      "Epoch 20/40\n",
      "77/77 [==============================] - 0s 6ms/step - loss: 0.5348 - accuracy: 0.7231 - val_loss: 0.6133 - val_accuracy: 0.7338\n",
      "Epoch 21/40\n",
      "77/77 [==============================] - 1s 7ms/step - loss: 0.5624 - accuracy: 0.7182 - val_loss: 0.6693 - val_accuracy: 0.6818\n",
      "Epoch 22/40\n",
      "77/77 [==============================] - 1s 7ms/step - loss: 0.5281 - accuracy: 0.7410 - val_loss: 0.6178 - val_accuracy: 0.7273\n",
      "Epoch 23/40\n",
      "77/77 [==============================] - 0s 6ms/step - loss: 0.5210 - accuracy: 0.7443 - val_loss: 0.6154 - val_accuracy: 0.7143\n",
      "Epoch 24/40\n",
      "77/77 [==============================] - 0s 6ms/step - loss: 0.5335 - accuracy: 0.7541 - val_loss: 0.6990 - val_accuracy: 0.6753\n",
      "Epoch 25/40\n",
      "77/77 [==============================] - 1s 7ms/step - loss: 0.5366 - accuracy: 0.7476 - val_loss: 0.6101 - val_accuracy: 0.7078\n",
      "Epoch 26/40\n",
      "77/77 [==============================] - 1s 7ms/step - loss: 0.5242 - accuracy: 0.7378 - val_loss: 0.6514 - val_accuracy: 0.6948\n",
      "Epoch 27/40\n",
      "77/77 [==============================] - 0s 6ms/step - loss: 0.5417 - accuracy: 0.7410 - val_loss: 0.6221 - val_accuracy: 0.7143\n",
      "Epoch 28/40\n",
      "77/77 [==============================] - 1s 7ms/step - loss: 0.5317 - accuracy: 0.7329 - val_loss: 0.6592 - val_accuracy: 0.7208\n",
      "Epoch 29/40\n",
      "77/77 [==============================] - 0s 6ms/step - loss: 0.5171 - accuracy: 0.7557 - val_loss: 0.6034 - val_accuracy: 0.7273\n",
      "Epoch 30/40\n",
      "77/77 [==============================] - 0s 6ms/step - loss: 0.5113 - accuracy: 0.7655 - val_loss: 0.6132 - val_accuracy: 0.7078\n",
      "Epoch 31/40\n",
      "77/77 [==============================] - 0s 6ms/step - loss: 0.5440 - accuracy: 0.7345 - val_loss: 0.6762 - val_accuracy: 0.6948\n",
      "Epoch 32/40\n",
      "77/77 [==============================] - 1s 7ms/step - loss: 0.5203 - accuracy: 0.7476 - val_loss: 0.5952 - val_accuracy: 0.7208\n",
      "Epoch 33/40\n",
      "77/77 [==============================] - 0s 6ms/step - loss: 0.5342 - accuracy: 0.7182 - val_loss: 0.6104 - val_accuracy: 0.7208\n",
      "Epoch 34/40\n",
      "77/77 [==============================] - 0s 6ms/step - loss: 0.5152 - accuracy: 0.7557 - val_loss: 0.6228 - val_accuracy: 0.7273\n",
      "Epoch 35/40\n",
      "77/77 [==============================] - 1s 7ms/step - loss: 0.5125 - accuracy: 0.7622 - val_loss: 0.5996 - val_accuracy: 0.7273\n",
      "Epoch 36/40\n",
      "77/77 [==============================] - 0s 6ms/step - loss: 0.5158 - accuracy: 0.7524 - val_loss: 0.6093 - val_accuracy: 0.7273\n",
      "Epoch 37/40\n",
      "77/77 [==============================] - 0s 6ms/step - loss: 0.5135 - accuracy: 0.7671 - val_loss: 0.6235 - val_accuracy: 0.6623\n",
      "Epoch 38/40\n",
      "77/77 [==============================] - 0s 6ms/step - loss: 0.5402 - accuracy: 0.7508 - val_loss: 0.6083 - val_accuracy: 0.7013\n",
      "Epoch 39/40\n",
      "77/77 [==============================] - 1s 7ms/step - loss: 0.5311 - accuracy: 0.7296 - val_loss: 0.6279 - val_accuracy: 0.7078\n",
      "Epoch 40/40\n",
      "77/77 [==============================] - 1s 7ms/step - loss: 0.5171 - accuracy: 0.7573 - val_loss: 0.6050 - val_accuracy: 0.7468\n"
     ]
    },
    {
     "data": {
      "text/plain": [
       "<keras.callbacks.History at 0x2d07a63e4c0>"
      ]
     },
     "execution_count": 28,
     "metadata": {},
     "output_type": "execute_result"
    }
   ],
   "source": [
    "model.fit(X_Train , Y_Train , batch_size = 8 , epochs = 40 , validation_data = (X_Test , Y_Test))"
   ]
  },
  {
   "cell_type": "code",
   "execution_count": 29,
   "id": "4b61d5ef",
   "metadata": {},
   "outputs": [
    {
     "name": "stdout",
     "output_type": "stream",
     "text": [
      "5/5 [==============================] - 0s 6ms/step - loss: 0.6050 - accuracy: 0.7468\n"
     ]
    },
    {
     "data": {
      "text/plain": [
       "[0.6050292253494263, 0.7467532753944397]"
      ]
     },
     "execution_count": 29,
     "metadata": {},
     "output_type": "execute_result"
    }
   ],
   "source": [
    "model.evaluate(X_Test , Y_Test)"
   ]
  },
  {
   "cell_type": "code",
   "execution_count": 32,
   "id": "39f19138",
   "metadata": {},
   "outputs": [],
   "source": [
    "score = model.evaluate(X_Train , Y_Train , verbose = 0)"
   ]
  },
  {
   "cell_type": "code",
   "execution_count": 33,
   "id": "662206c9",
   "metadata": {},
   "outputs": [
    {
     "data": {
      "text/plain": [
       "[0.49577608704566956, 0.7654722929000854]"
      ]
     },
     "execution_count": 33,
     "metadata": {},
     "output_type": "execute_result"
    }
   ],
   "source": [
    "score"
   ]
  },
  {
   "cell_type": "code",
   "execution_count": 34,
   "id": "0563c330",
   "metadata": {},
   "outputs": [],
   "source": [
    "preds = model.predict(X_Test)"
   ]
  },
  {
   "cell_type": "code",
   "execution_count": 42,
   "id": "818cd740",
   "metadata": {},
   "outputs": [],
   "source": [
    "from sklearn.metrics import classification_report"
   ]
  },
  {
   "cell_type": "code",
   "execution_count": 45,
   "id": "726d9586",
   "metadata": {},
   "outputs": [],
   "source": [
    "pred = np.round(preds)"
   ]
  },
  {
   "cell_type": "code",
   "execution_count": 47,
   "id": "6ec7ab23",
   "metadata": {},
   "outputs": [
    {
     "name": "stdout",
     "output_type": "stream",
     "text": [
      "              precision    recall  f1-score   support\n",
      "\n",
      "           0       0.75      0.92      0.82        99\n",
      "           1       0.75      0.44      0.55        55\n",
      "\n",
      "    accuracy                           0.75       154\n",
      "   macro avg       0.75      0.68      0.69       154\n",
      "weighted avg       0.75      0.75      0.73       154\n",
      "\n"
     ]
    }
   ],
   "source": [
    "print(classification_report(y_true = Y_Test , y_pred = pred))"
   ]
  },
  {
   "cell_type": "code",
   "execution_count": null,
   "id": "9a426e5e",
   "metadata": {},
   "outputs": [],
   "source": []
  }
 ],
 "metadata": {
  "kernelspec": {
   "display_name": "Python 3 (ipykernel)",
   "language": "python",
   "name": "python3"
  },
  "language_info": {
   "codemirror_mode": {
    "name": "ipython",
    "version": 3
   },
   "file_extension": ".py",
   "mimetype": "text/x-python",
   "name": "python",
   "nbconvert_exporter": "python",
   "pygments_lexer": "ipython3",
   "version": "3.9.13"
  }
 },
 "nbformat": 4,
 "nbformat_minor": 5
}
