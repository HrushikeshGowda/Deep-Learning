{
 "cells": [
  {
   "cell_type": "code",
   "execution_count": 66,
   "id": "f2819141",
   "metadata": {},
   "outputs": [],
   "source": [
    "import tensorflow as tf\n",
    "import pandas as pd\n",
    "import numpy as np\n",
    "import matplotlib.pyplot as plt\n",
    "from tensorflow import keras\n",
    "import sklearn"
   ]
  },
  {
   "cell_type": "code",
   "execution_count": 6,
   "id": "721afba7",
   "metadata": {},
   "outputs": [
    {
     "data": {
      "text/plain": [
       "'2.5.0'"
      ]
     },
     "execution_count": 6,
     "metadata": {},
     "output_type": "execute_result"
    }
   ],
   "source": [
    "keras.__version__"
   ]
  },
  {
   "cell_type": "code",
   "execution_count": 7,
   "id": "c12e0e11",
   "metadata": {},
   "outputs": [
    {
     "data": {
      "text/plain": [
       "'2.5.0'"
      ]
     },
     "execution_count": 7,
     "metadata": {},
     "output_type": "execute_result"
    }
   ],
   "source": [
    "tf.__version__"
   ]
  },
  {
   "cell_type": "code",
   "execution_count": 4,
   "id": "30582c95",
   "metadata": {},
   "outputs": [],
   "source": [
    "from tensorflow.keras.datasets import mnist"
   ]
  },
  {
   "cell_type": "code",
   "execution_count": 5,
   "id": "a2b341b2",
   "metadata": {},
   "outputs": [],
   "source": [
    "# import sys\n",
    "\n",
    "# sys.path.insert(0 , r'fashion-mnist-master\\fashion-mnist-master\\utils')\n",
    "\n",
    "import mnist_reader"
   ]
  },
  {
   "cell_type": "code",
   "execution_count": 6,
   "id": "70b4c793",
   "metadata": {},
   "outputs": [],
   "source": [
    "(X_train), (y_train) = mnist_reader.load_mnist(r'fashion-mnist-master\\fashion-mnist-master\\data\\fashion', kind='train')\n",
    "(X_test), (y_test) = mnist_reader.load_mnist(r'fashion-mnist-master\\fashion-mnist-master\\data\\fashion', kind='t10k')"
   ]
  },
  {
   "cell_type": "markdown",
   "id": "008daaa8",
   "metadata": {},
   "source": [
    "| Label | Description |\n",
    "| --- | --- |\n",
    "| 0 | T-shirt/top |\n",
    "| 1 | Trouser |\n",
    "| 2 | Pullover |\n",
    "| 3 | Dress |\n",
    "| 4 | Coat |\n",
    "| 5 | Sandal |\n",
    "| 6 | Shirt |\n",
    "| 7 | Sneaker |\n",
    "| 8 | Bag |\n",
    "| 9 | Ankle boot |"
   ]
  },
  {
   "cell_type": "code",
   "execution_count": 17,
   "id": "626daa11",
   "metadata": {},
   "outputs": [
    {
     "data": {
      "text/plain": [
       "(60000, 784)"
      ]
     },
     "execution_count": 17,
     "metadata": {},
     "output_type": "execute_result"
    }
   ],
   "source": [
    "X_train.shape"
   ]
  },
  {
   "cell_type": "code",
   "execution_count": 18,
   "id": "07010ef7",
   "metadata": {},
   "outputs": [
    {
     "data": {
      "image/png": "[encoded data removed]",
      "text/plain": [
       "<Figure size 640x480 with 1 Axes>"
      ]
     },
     "metadata": {},
     "output_type": "display_data"
    }
   ],
   "source": [
    "plt.imshow(X_train.reshape(60000,28,28)[0])\n",
    "plt.show()"
   ]
  },
  {
   "cell_type": "code",
   "execution_count": 27,
   "id": "f127335a",
   "metadata": {},
   "outputs": [],
   "source": [
    "X_train = X_train.reshape(60000,28,28)\n",
    "X_test = X_test.reshape(10000,28,28)"
   ]
  },
  {
   "cell_type": "code",
   "execution_count": 28,
   "id": "c98257d5",
   "metadata": {},
   "outputs": [],
   "source": [
    "Y_train = y_train.copy()\n",
    "Y_test = y_test.copy()"
   ]
  },
  {
   "cell_type": "code",
   "execution_count": 9,
   "id": "b29fef32",
   "metadata": {},
   "outputs": [
    {
     "data": {
      "text/plain": [
       "'Ankle boot'"
      ]
     },
     "execution_count": 9,
     "metadata": {},
     "output_type": "execute_result"
    }
   ],
   "source": [
    "class_names = ['T-shirt/top','Trouser','Pullover','Dress','Coat','Sandal','Shirt','Sneaker','Bag','Ankle boot']\n",
    "\n",
    "class_names[Y_Train[0]]"
   ]
  },
  {
   "cell_type": "code",
   "execution_count": 29,
   "id": "e094d006",
   "metadata": {},
   "outputs": [
    {
     "data": {
      "image/png": "[encoded data removed]",
      "text/plain": [
       "<Figure size 640x480 with 1 Axes>"
      ]
     },
     "metadata": {},
     "output_type": "display_data"
    }
   ],
   "source": [
    "plt.imshow(X_train[20])\n",
    "plt.show()"
   ]
  },
  {
   "cell_type": "code",
   "execution_count": 30,
   "id": "f48b731a",
   "metadata": {},
   "outputs": [
    {
     "data": {
      "text/plain": [
       "'Dress'"
      ]
     },
     "execution_count": 30,
     "metadata": {},
     "output_type": "execute_result"
    }
   ],
   "source": [
    "class_names[Y_train[20]]"
   ]
  },
  {
   "cell_type": "markdown",
   "id": "1ba881d7",
   "metadata": {},
   "source": [
    "## Data Normalistion\n",
    "\n",
    "### we normalise the data dimensions so that they are of approx the same scale"
   ]
  },
  {
   "cell_type": "code",
   "execution_count": 31,
   "id": "b31b3c74",
   "metadata": {},
   "outputs": [],
   "source": [
    "X_train = X_train /255.0\n",
    "X_test = X_test /255.0"
   ]
  },
  {
   "cell_type": "code",
   "execution_count": 32,
   "id": "3d387260",
   "metadata": {},
   "outputs": [
    {
     "data": {
      "text/plain": [
       "array([0.        , 0.        , 0.        , 0.        , 0.        ,\n",
       "       0.        , 0.        , 0.        , 0.        , 0.        ,\n",
       "       0.        , 0.        , 0.        , 0.75686275, 0.89411765,\n",
       "       0.85490196, 0.83529412, 0.77647059, 0.70588235, 0.83137255,\n",
       "       0.82352941, 0.82745098, 0.83529412, 0.8745098 , 0.8627451 ,\n",
       "       0.95294118, 0.79215686, 0.        ])"
      ]
     },
     "execution_count": 32,
     "metadata": {},
     "output_type": "execute_result"
    }
   ],
   "source": [
    "X_train[0][10]"
   ]
  },
  {
   "cell_type": "code",
   "execution_count": 33,
   "id": "9d2e7c79",
   "metadata": {},
   "outputs": [],
   "source": [
    "X_Valid , X_Train = X_train[:5000] , X_train[5000:]\n",
    "Y_Valid , Y_Train = Y_train[:5000] , Y_train[5000:]"
   ]
  },
  {
   "cell_type": "code",
   "execution_count": 34,
   "id": "d5dc6524",
   "metadata": {},
   "outputs": [
    {
     "name": "stdout",
     "output_type": "stream",
     "text": [
      "X Train:  (55000, 28, 28)\n",
      "Y Train:  (55000,)\n",
      "X Valid:  (5000, 28, 28)\n",
      "Y Valid:  (5000,)\n",
      "X Test:  (10000, 28, 28)\n",
      "Y Test:  (10000,)\n"
     ]
    }
   ],
   "source": [
    "print('X Train: ' , X_Train.shape)\n",
    "print('Y Train: ' , Y_Train.shape)\n",
    "print('X Valid: ' , X_Valid.shape)\n",
    "print('Y Valid: ' , Y_Valid.shape)\n",
    "print('X Test: ' , X_Test.shape)\n",
    "print('Y Test: ' , Y_Test.shape)"
   ]
  },
  {
   "cell_type": "markdown",
   "id": "21bf663e",
   "metadata": {},
   "source": [
    "# Create Model\n",
    "* ### Sequential API = straight frward and simple\n",
    "* ### Functional API = little complex , but flexible to comples neural networks"
   ]
  },
  {
   "cell_type": "code",
   "execution_count": 44,
   "id": "150e8cc1",
   "metadata": {},
   "outputs": [],
   "source": [
    "np.random.seed(4)\n",
    "tf.random.set_seed(4)"
   ]
  },
  {
   "cell_type": "markdown",
   "id": "7b47dbb2",
   "metadata": {},
   "source": [
    "### ReLU is 0 for all -ve numbers & equal to input for all +ve number\n",
    "### Softmax equates the sum of all the class probability to 1"
   ]
  },
  {
   "cell_type": "code",
   "execution_count": 45,
   "id": "3cdf830e",
   "metadata": {},
   "outputs": [],
   "source": [
    "model = keras.models.Sequential()\n",
    "model.add(keras.layers.Flatten(input_shape = [28,28]))   # Input Layer\n",
    "model.add(keras.layers.Dense(300 , activation = 'relu'))  # Hidden Layer\n",
    "model.add(keras.layers.Dense(100 , activation = 'relu'))  # Hidden Layer\n",
    "model.add(keras.layers.Dense(10 , activation = 'softmax'))  # Output Layer.....softmax for multiclass classfication"
   ]
  },
  {
   "cell_type": "code",
   "execution_count": 46,
   "id": "269a258c",
   "metadata": {},
   "outputs": [
    {
     "name": "stdout",
     "output_type": "stream",
     "text": [
      "Model: \"sequential_4\"\n",
      "_________________________________________________________________\n",
      "Layer (type)                 Output Shape              Param #   \n",
      "=================================================================\n",
      "flatten_4 (Flatten)          (None, 784)               0         \n",
      "_________________________________________________________________\n",
      "dense_12 (Dense)             (None, 300)               235500    \n",
      "_________________________________________________________________\n",
      "dense_13 (Dense)             (None, 100)               30100     \n",
      "_________________________________________________________________\n",
      "dense_14 (Dense)             (None, 10)                1010      \n",
      "=================================================================\n",
      "Total params: 266,610\n",
      "Trainable params: 266,610\n",
      "Non-trainable params: 0\n",
      "_________________________________________________________________\n"
     ]
    }
   ],
   "source": [
    "model.summary()   # None means no limit on input data.....trainable parameters for each layer"
   ]
  },
  {
   "cell_type": "markdown",
   "id": "d416f2bc",
   "metadata": {},
   "source": [
    "#### (784x300) + (300...baised values in neuron) .......  (300x100) + 100"
   ]
  },
  {
   "cell_type": "markdown",
   "id": "1b35ba15",
   "metadata": {},
   "source": [
    "### Visualise Neural Network"
   ]
  },
  {
   "cell_type": "code",
   "execution_count": null,
   "id": "f649cfd8",
   "metadata": {},
   "outputs": [],
   "source": [
    "import pydot"
   ]
  },
  {
   "cell_type": "code",
   "execution_count": 19,
   "id": "1364e487",
   "metadata": {},
   "outputs": [
    {
     "name": "stdout",
     "output_type": "stream",
     "text": [
      "('You must install pydot (`pip install pydot`) and install graphviz (see instructions at https://graphviz.gitlab.io/download/) ', 'for plot_model/model_to_dot to work.')\n"
     ]
    }
   ],
   "source": [
    "keras.utils.plot_model(model)"
   ]
  },
  {
   "cell_type": "code",
   "execution_count": 37,
   "id": "684ba363",
   "metadata": {},
   "outputs": [],
   "source": [
    "weights , biases = model.layers[1].get_weights()"
   ]
  },
  {
   "cell_type": "code",
   "execution_count": 38,
   "id": "0f98d33a",
   "metadata": {},
   "outputs": [
    {
     "data": {
      "text/plain": [
       "array([[-0.00958908,  0.00369985, -0.00048406, ..., -0.07357587,\n",
       "        -0.02742664, -0.04121105],\n",
       "       [ 0.06529447, -0.07138363,  0.05846708, ..., -0.0041897 ,\n",
       "         0.06529114, -0.03365361],\n",
       "       [ 0.05264154, -0.03162553,  0.01164634, ..., -0.04076129,\n",
       "         0.01914155, -0.03140609],\n",
       "       ...,\n",
       "       [ 0.0286293 ,  0.03434967, -0.00212682, ..., -0.0253939 ,\n",
       "         0.06216036,  0.01375941],\n",
       "       [ 0.00351328,  0.05891068, -0.01023991, ...,  0.05314083,\n",
       "        -0.06726155,  0.07313393],\n",
       "       [-0.00130923,  0.045985  ,  0.04936647, ...,  0.02184285,\n",
       "        -0.01658475,  0.06170258]], dtype=float32)"
      ]
     },
     "execution_count": 38,
     "metadata": {},
     "output_type": "execute_result"
    }
   ],
   "source": [
    "weights"
   ]
  },
  {
   "cell_type": "code",
   "execution_count": 22,
   "id": "38fadaef",
   "metadata": {},
   "outputs": [
    {
     "data": {
      "text/plain": [
       "(784, 300)"
      ]
     },
     "execution_count": 22,
     "metadata": {},
     "output_type": "execute_result"
    }
   ],
   "source": [
    "weights.shape"
   ]
  },
  {
   "cell_type": "code",
   "execution_count": 52,
   "id": "69ed8889",
   "metadata": {},
   "outputs": [
    {
     "data": {
      "text/plain": [
       "(300,)"
      ]
     },
     "execution_count": 52,
     "metadata": {},
     "output_type": "execute_result"
    }
   ],
   "source": [
    "biases.shape"
   ]
  },
  {
   "cell_type": "markdown",
   "id": "7e871185",
   "metadata": {},
   "source": [
    "## Compiling Model"
   ]
  },
  {
   "cell_type": "code",
   "execution_count": 47,
   "id": "9a7fc56a",
   "metadata": {},
   "outputs": [],
   "source": [
    "model.compile(loss = 'sparse_categorical_crossentropy', #loss function = cross entropy,for binary classify = binary_crossentropy\n",
    "             optimizer = 'sgd',                          # stochastic gradient descent optimizer\n",
    "             metrics = ['accuracy'])                     "
   ]
  },
  {
   "cell_type": "code",
   "execution_count": 51,
   "id": "3cc09044",
   "metadata": {},
   "outputs": [
    {
     "data": {
      "text/plain": [
       "((55000, 28, 28), (60000, 28, 28), (55000,), (60000,), (5000, 28, 28), (5000,))"
      ]
     },
     "execution_count": 51,
     "metadata": {},
     "output_type": "execute_result"
    }
   ],
   "source": [
    "X_Train.shape , X_train.shape , Y_Train.shape , Y_train.shape , X_Valid.shape , Y_Valid.shape"
   ]
  },
  {
   "cell_type": "code",
   "execution_count": 52,
   "id": "810d3b84",
   "metadata": {},
   "outputs": [
    {
     "name": "stdout",
     "output_type": "stream",
     "text": [
      "Epoch 1/30\n",
      "1875/1875 [==============================] - 7s 3ms/step - loss: 0.2321 - accuracy: 0.9161 - val_loss: 0.2815 - val_accuracy: 0.8984\n",
      "Epoch 2/30\n",
      "1875/1875 [==============================] - 6s 3ms/step - loss: 0.2277 - accuracy: 0.9184 - val_loss: 0.2633 - val_accuracy: 0.9038\n",
      "Epoch 3/30\n",
      "1875/1875 [==============================] - 6s 3ms/step - loss: 0.2230 - accuracy: 0.9207 - val_loss: 0.2643 - val_accuracy: 0.9022\n",
      "Epoch 4/30\n",
      "1875/1875 [==============================] - 6s 3ms/step - loss: 0.2204 - accuracy: 0.9210 - val_loss: 0.2520 - val_accuracy: 0.9090\n",
      "Epoch 5/30\n",
      "1875/1875 [==============================] - 6s 3ms/step - loss: 0.2163 - accuracy: 0.9220 - val_loss: 0.2565 - val_accuracy: 0.9074\n",
      "Epoch 6/30\n",
      "1875/1875 [==============================] - 6s 3ms/step - loss: 0.2135 - accuracy: 0.9234 - val_loss: 0.2445 - val_accuracy: 0.9106\n",
      "Epoch 7/30\n",
      "1875/1875 [==============================] - 6s 3ms/step - loss: 0.2093 - accuracy: 0.9259 - val_loss: 0.2298 - val_accuracy: 0.9142\n",
      "Epoch 8/30\n",
      "1875/1875 [==============================] - 6s 3ms/step - loss: 0.2054 - accuracy: 0.9263 - val_loss: 0.2300 - val_accuracy: 0.9138\n",
      "Epoch 9/30\n",
      "1875/1875 [==============================] - 6s 3ms/step - loss: 0.2032 - accuracy: 0.9273 - val_loss: 0.2388 - val_accuracy: 0.9088\n",
      "Epoch 10/30\n",
      "1875/1875 [==============================] - 6s 3ms/step - loss: 0.1996 - accuracy: 0.9286 - val_loss: 0.2256 - val_accuracy: 0.9136\n",
      "Epoch 11/30\n",
      "1875/1875 [==============================] - 5s 3ms/step - loss: 0.1963 - accuracy: 0.9296 - val_loss: 0.2183 - val_accuracy: 0.9208\n",
      "Epoch 12/30\n",
      "1875/1875 [==============================] - 5s 3ms/step - loss: 0.1933 - accuracy: 0.9310 - val_loss: 0.2174 - val_accuracy: 0.9204\n",
      "Epoch 13/30\n",
      "1875/1875 [==============================] - 5s 3ms/step - loss: 0.1898 - accuracy: 0.9319 - val_loss: 0.2059 - val_accuracy: 0.9244\n",
      "Epoch 14/30\n",
      "1875/1875 [==============================] - 5s 3ms/step - loss: 0.1870 - accuracy: 0.9329 - val_loss: 0.2063 - val_accuracy: 0.9250\n",
      "Epoch 15/30\n",
      "1875/1875 [==============================] - 6s 3ms/step - loss: 0.1838 - accuracy: 0.9340 - val_loss: 0.1980 - val_accuracy: 0.9288\n",
      "Epoch 16/30\n",
      "1875/1875 [==============================] - 5s 3ms/step - loss: 0.1814 - accuracy: 0.9354 - val_loss: 0.1912 - val_accuracy: 0.9320\n",
      "Epoch 17/30\n",
      "1875/1875 [==============================] - 5s 3ms/step - loss: 0.1776 - accuracy: 0.9366 - val_loss: 0.2122 - val_accuracy: 0.9202\n",
      "Epoch 18/30\n",
      "1875/1875 [==============================] - 5s 3ms/step - loss: 0.1754 - accuracy: 0.9377 - val_loss: 0.1959 - val_accuracy: 0.9264\n",
      "Epoch 19/30\n",
      "1875/1875 [==============================] - 5s 3ms/step - loss: 0.1718 - accuracy: 0.9390 - val_loss: 0.1875 - val_accuracy: 0.9304\n",
      "Epoch 20/30\n",
      "1875/1875 [==============================] - 5s 3ms/step - loss: 0.1694 - accuracy: 0.9402 - val_loss: 0.1867 - val_accuracy: 0.9280\n",
      "Epoch 21/30\n",
      "1875/1875 [==============================] - 5s 3ms/step - loss: 0.1669 - accuracy: 0.9406 - val_loss: 0.1767 - val_accuracy: 0.9368\n",
      "Epoch 22/30\n",
      "1875/1875 [==============================] - 5s 3ms/step - loss: 0.1648 - accuracy: 0.9412 - val_loss: 0.1671 - val_accuracy: 0.9392\n",
      "Epoch 23/30\n",
      "1875/1875 [==============================] - 5s 3ms/step - loss: 0.1620 - accuracy: 0.9425 - val_loss: 0.1615 - val_accuracy: 0.9408\n",
      "Epoch 24/30\n",
      "1875/1875 [==============================] - 5s 3ms/step - loss: 0.1592 - accuracy: 0.9432 - val_loss: 0.1665 - val_accuracy: 0.9358\n",
      "Epoch 25/30\n",
      "1875/1875 [==============================] - 6s 3ms/step - loss: 0.1572 - accuracy: 0.9443 - val_loss: 0.1562 - val_accuracy: 0.9452\n",
      "Epoch 26/30\n",
      "1875/1875 [==============================] - 5s 3ms/step - loss: 0.1545 - accuracy: 0.9457 - val_loss: 0.1728 - val_accuracy: 0.9328\n",
      "Epoch 27/30\n",
      "1875/1875 [==============================] - 5s 3ms/step - loss: 0.1535 - accuracy: 0.9450 - val_loss: 0.1497 - val_accuracy: 0.9466\n",
      "Epoch 28/30\n",
      "1875/1875 [==============================] - 6s 3ms/step - loss: 0.1489 - accuracy: 0.9470 - val_loss: 0.1681 - val_accuracy: 0.9388\n",
      "Epoch 29/30\n",
      "1875/1875 [==============================] - 6s 3ms/step - loss: 0.1478 - accuracy: 0.9480 - val_loss: 0.1444 - val_accuracy: 0.9484\n",
      "Epoch 30/30\n",
      "1875/1875 [==============================] - 5s 3ms/step - loss: 0.1455 - accuracy: 0.9495 - val_loss: 0.1417 - val_accuracy: 0.9530\n"
     ]
    }
   ],
   "source": [
    "model_history = model.fit(X_train , Y_train , epochs = 30 , validation_data = (X_Valid , Y_Valid))"
   ]
  },
  {
   "cell_type": "code",
   "execution_count": 53,
   "id": "9c0cfb8b",
   "metadata": {},
   "outputs": [
    {
     "data": {
      "text/plain": [
       "{'verbose': 1, 'epochs': 30, 'steps': 1875}"
      ]
     },
     "execution_count": 53,
     "metadata": {},
     "output_type": "execute_result"
    }
   ],
   "source": [
    "model.history.params   # verbose should be 0"
   ]
  },
  {
   "cell_type": "code",
   "execution_count": 63,
   "id": "3e1ca466",
   "metadata": {},
   "outputs": [
    {
     "data": {
      "text/plain": [
       "dict_keys(['loss', 'accuracy', 'val_loss', 'val_accuracy'])"
      ]
     },
     "execution_count": 63,
     "metadata": {},
     "output_type": "execute_result"
    }
   ],
   "source": [
    "model.history.history.keys()"
   ]
  },
  {
   "cell_type": "code",
   "execution_count": 55,
   "id": "acceace3",
   "metadata": {},
   "outputs": [
    {
     "data": {
      "image/png": "[encoded data removed]",
      "text/plain": [
       "<Figure size 800x500 with 1 Axes>"
      ]
     },
     "metadata": {},
     "output_type": "display_data"
    }
   ],
   "source": [
    "pd.DataFrame(model.history.history).plot(figsize = (8,5))\n",
    "plt.grid(True)\n",
    "plt.ylim(0,1)\n",
    "plt.show()"
   ]
  },
  {
   "cell_type": "markdown",
   "id": "6c944abe",
   "metadata": {},
   "source": [
    "### Model is not coverged yet....if again fitted....the new model will start from old model last point....it means old models 30 epoch + this new models 50 epochs"
   ]
  },
  {
   "cell_type": "code",
   "execution_count": 65,
   "id": "5af79f44",
   "metadata": {},
   "outputs": [
    {
     "data": {
      "image/png": "[encoded data removed]",
      "text/plain": [
       "<Figure size 800x500 with 1 Axes>"
      ]
     },
     "metadata": {},
     "output_type": "display_data"
    }
   ],
   "source": [
    "model_history = model.fit(X_Train , Y_Train , epochs = 50 , validation_data = (X_Valid , Y_Valid) , verbose = 0)\n",
    "\n",
    "pd.DataFrame(model.history.history).plot(figsize = (8,5))\n",
    "plt.grid(True)\n",
    "plt.ylim(0,1)\n",
    "plt.show()"
   ]
  },
  {
   "cell_type": "markdown",
   "id": "dfff9d8e",
   "metadata": {},
   "source": [
    "### Graph started from the end of last epochs graph"
   ]
  },
  {
   "cell_type": "markdown",
   "id": "977e622f",
   "metadata": {},
   "source": [
    "# Predicting & Evaluating"
   ]
  },
  {
   "cell_type": "code",
   "execution_count": 66,
   "id": "973d779b",
   "metadata": {},
   "outputs": [
    {
     "name": "stdout",
     "output_type": "stream",
     "text": [
      "313/313 [==============================] - 1s 2ms/step - loss: 0.3687 - accuracy: 0.8892\n"
     ]
    },
    {
     "data": {
      "text/plain": [
       "[0.3687297999858856, 0.88919997215271]"
      ]
     },
     "execution_count": 66,
     "metadata": {},
     "output_type": "execute_result"
    }
   ],
   "source": [
    "model.evaluate(X_Test , Y_Test)"
   ]
  },
  {
   "cell_type": "code",
   "execution_count": 69,
   "id": "22556040",
   "metadata": {},
   "outputs": [],
   "source": [
    "X_New = X_Test[:3]"
   ]
  },
  {
   "cell_type": "code",
   "execution_count": 70,
   "id": "85cccda8",
   "metadata": {},
   "outputs": [
    {
     "data": {
      "text/plain": [
       "array([[0., 0., 0., 0., 0., 0., 0., 0., 0., 1.],\n",
       "       [0., 0., 1., 0., 0., 0., 0., 0., 0., 0.],\n",
       "       [0., 1., 0., 0., 0., 0., 0., 0., 0., 0.]], dtype=float32)"
      ]
     },
     "execution_count": 70,
     "metadata": {},
     "output_type": "execute_result"
    }
   ],
   "source": [
    "Y_Prob = model.predict(X_New)\n",
    "Y_Prob.round(2)    # Probability Score For All Classes"
   ]
  },
  {
   "cell_type": "code",
   "execution_count": 71,
   "id": "f1552710",
   "metadata": {},
   "outputs": [
    {
     "name": "stderr",
     "output_type": "stream",
     "text": [
      "D:\\Anaconda\\envs\\myenv\\lib\\site-packages\\tensorflow\\python\\keras\\engine\\sequential.py:455: UserWarning: `model.predict_classes()` is deprecated and will be removed after 2021-01-01. Please use instead:* `np.argmax(model.predict(x), axis=-1)`,   if your model does multi-class classification   (e.g. if it uses a `softmax` last-layer activation).* `(model.predict(x) > 0.5).astype(\"int32\")`,   if your model does binary classification   (e.g. if it uses a `sigmoid` last-layer activation).\n",
      "  warnings.warn('`model.predict_classes()` is deprecated and '\n"
     ]
    },
    {
     "data": {
      "text/plain": [
       "array([9, 2, 1], dtype=int64)"
      ]
     },
     "execution_count": 71,
     "metadata": {},
     "output_type": "execute_result"
    }
   ],
   "source": [
    "Y_Pred = model.predict_classes(X_New)\n",
    "Y_Pred"
   ]
  },
  {
   "cell_type": "code",
   "execution_count": 72,
   "id": "a0fc08b6",
   "metadata": {},
   "outputs": [
    {
     "data": {
      "text/plain": [
       "array(['Ankle boot', 'Pullover', 'Trouser'], dtype='<U11')"
      ]
     },
     "execution_count": 72,
     "metadata": {},
     "output_type": "execute_result"
    }
   ],
   "source": [
    "np.array(class_names)[Y_Pred]"
   ]
  },
  {
   "cell_type": "code",
   "execution_count": 73,
   "id": "5e722d0c",
   "metadata": {},
   "outputs": [
    {
     "data": {
      "text/plain": [
       "['T-shirt/top',\n",
       " 'Trouser',\n",
       " 'Pullover',\n",
       " 'Dress',\n",
       " 'Coat',\n",
       " 'Sandal',\n",
       " 'Shirt',\n",
       " 'Sneaker',\n",
       " 'Bag',\n",
       " 'Ankle boot']"
      ]
     },
     "execution_count": 73,
     "metadata": {},
     "output_type": "execute_result"
    }
   ],
   "source": [
    "class_names"
   ]
  },
  {
   "cell_type": "code",
   "execution_count": 74,
   "id": "c84c8308",
   "metadata": {},
   "outputs": [
    {
     "data": {
      "image/png": "[encoded data removed]",
      "text/plain": [
       "<Figure size 640x480 with 1 Axes>"
      ]
     },
     "metadata": {},
     "output_type": "display_data"
    }
   ],
   "source": [
    "plt.imshow(X_Test[0])\n",
    "plt.show()"
   ]
  },
  {
   "cell_type": "code",
   "execution_count": 75,
   "id": "a4d8d765",
   "metadata": {},
   "outputs": [
    {
     "data": {
      "image/png": "[encoded data removed]",
      "text/plain": [
       "<Figure size 640x480 with 1 Axes>"
      ]
     },
     "metadata": {},
     "output_type": "display_data"
    }
   ],
   "source": [
    "plt.imshow(X_Test[1])\n",
    "plt.show()"
   ]
  },
  {
   "cell_type": "code",
   "execution_count": 76,
   "id": "02b03e30",
   "metadata": {},
   "outputs": [
    {
     "data": {
      "image/png": "[encoded data removed]",
      "text/plain": [
       "<Figure size 640x480 with 1 Axes>"
      ]
     },
     "metadata": {},
     "output_type": "display_data"
    }
   ],
   "source": [
    "plt.imshow(X_Test[2])\n",
    "plt.show()"
   ]
  },
  {
   "cell_type": "code",
   "execution_count": 62,
   "id": "accee424",
   "metadata": {},
   "outputs": [
    {
     "data": {
      "text/plain": [
       "((60000, 28, 28), (5000, 28, 28))"
      ]
     },
     "execution_count": 62,
     "metadata": {},
     "output_type": "execute_result"
    }
   ],
   "source": [
    "X_train.shape , X_Valid.shape"
   ]
  },
  {
   "cell_type": "code",
   "execution_count": 63,
   "id": "740beee1",
   "metadata": {},
   "outputs": [
    {
     "data": {
      "text/plain": [
       "((60000, 784), (5000, 784))"
      ]
     },
     "execution_count": 63,
     "metadata": {},
     "output_type": "execute_result"
    }
   ],
   "source": [
    "X = X_train.reshape(60000 , 28*28)\n",
    "X_V = X_Valid.reshape(5000 , 28*28)\n",
    "X.shape , X_V.shape"
   ]
  },
  {
   "cell_type": "code",
   "execution_count": 64,
   "id": "1cd59efa",
   "metadata": {},
   "outputs": [
    {
     "name": "stdout",
     "output_type": "stream",
     "text": [
      "Epoch 1/30\n",
      "1875/1875 [==============================] - 5s 3ms/step - loss: 0.7030 - accuracy: 0.7703 - val_loss: 0.4800 - val_accuracy: 0.8378\n",
      "Epoch 2/30\n",
      "1875/1875 [==============================] - 5s 2ms/step - loss: 0.4810 - accuracy: 0.8312 - val_loss: 0.4370 - val_accuracy: 0.8478\n",
      "Epoch 3/30\n",
      "1875/1875 [==============================] - 5s 2ms/step - loss: 0.4363 - accuracy: 0.8479 - val_loss: 0.3997 - val_accuracy: 0.8620\n",
      "Epoch 4/30\n",
      "1875/1875 [==============================] - 5s 2ms/step - loss: 0.4102 - accuracy: 0.8560 - val_loss: 0.3702 - val_accuracy: 0.8736\n",
      "Epoch 5/30\n",
      "1875/1875 [==============================] - 5s 2ms/step - loss: 0.3887 - accuracy: 0.8630 - val_loss: 0.3580 - val_accuracy: 0.8772\n",
      "Epoch 6/30\n",
      "1875/1875 [==============================] - 5s 2ms/step - loss: 0.3733 - accuracy: 0.8685 - val_loss: 0.3538 - val_accuracy: 0.8798\n",
      "Epoch 7/30\n",
      "1875/1875 [==============================] - 5s 2ms/step - loss: 0.3603 - accuracy: 0.8718 - val_loss: 0.3365 - val_accuracy: 0.8830\n",
      "Epoch 8/30\n",
      "1875/1875 [==============================] - 5s 2ms/step - loss: 0.3480 - accuracy: 0.8765 - val_loss: 0.3306 - val_accuracy: 0.8828\n",
      "Epoch 9/30\n",
      "1875/1875 [==============================] - 5s 2ms/step - loss: 0.3389 - accuracy: 0.8799 - val_loss: 0.3160 - val_accuracy: 0.8872\n",
      "Epoch 10/30\n",
      "1875/1875 [==============================] - 5s 3ms/step - loss: 0.3291 - accuracy: 0.8820 - val_loss: 0.3073 - val_accuracy: 0.8914\n",
      "Epoch 11/30\n",
      "1875/1875 [==============================] - 4s 2ms/step - loss: 0.3209 - accuracy: 0.8833 - val_loss: 0.2987 - val_accuracy: 0.8916\n",
      "Epoch 12/30\n",
      "1875/1875 [==============================] - 4s 2ms/step - loss: 0.3126 - accuracy: 0.8868 - val_loss: 0.3035 - val_accuracy: 0.8894\n",
      "Epoch 13/30\n",
      "1875/1875 [==============================] - 4s 2ms/step - loss: 0.3061 - accuracy: 0.8896 - val_loss: 0.2925 - val_accuracy: 0.8972\n",
      "Epoch 14/30\n",
      "1875/1875 [==============================] - 4s 2ms/step - loss: 0.2989 - accuracy: 0.8921 - val_loss: 0.2817 - val_accuracy: 0.8952\n",
      "Epoch 15/30\n",
      "1875/1875 [==============================] - 4s 2ms/step - loss: 0.2926 - accuracy: 0.8946 - val_loss: 0.2722 - val_accuracy: 0.9018\n",
      "Epoch 16/30\n",
      "1875/1875 [==============================] - 4s 2ms/step - loss: 0.2868 - accuracy: 0.8960 - val_loss: 0.2727 - val_accuracy: 0.9022\n",
      "Epoch 17/30\n",
      "1875/1875 [==============================] - 4s 2ms/step - loss: 0.2806 - accuracy: 0.8987 - val_loss: 0.2762 - val_accuracy: 0.8988\n",
      "Epoch 18/30\n",
      "1875/1875 [==============================] - 4s 2ms/step - loss: 0.2754 - accuracy: 0.9005 - val_loss: 0.2682 - val_accuracy: 0.9022\n",
      "Epoch 19/30\n",
      "1875/1875 [==============================] - 4s 2ms/step - loss: 0.2704 - accuracy: 0.9023 - val_loss: 0.2605 - val_accuracy: 0.9088\n",
      "Epoch 20/30\n",
      "1875/1875 [==============================] - 4s 2ms/step - loss: 0.2653 - accuracy: 0.9043 - val_loss: 0.2480 - val_accuracy: 0.9086\n",
      "Epoch 21/30\n",
      "1875/1875 [==============================] - 4s 2ms/step - loss: 0.2605 - accuracy: 0.9060 - val_loss: 0.2504 - val_accuracy: 0.9052\n",
      "Epoch 22/30\n",
      "1875/1875 [==============================] - 4s 2ms/step - loss: 0.2573 - accuracy: 0.9077 - val_loss: 0.2357 - val_accuracy: 0.9158\n",
      "Epoch 23/30\n",
      "1875/1875 [==============================] - 4s 2ms/step - loss: 0.2520 - accuracy: 0.9086 - val_loss: 0.2369 - val_accuracy: 0.9166\n",
      "Epoch 24/30\n",
      "1875/1875 [==============================] - 4s 2ms/step - loss: 0.2476 - accuracy: 0.9107 - val_loss: 0.2385 - val_accuracy: 0.9124\n",
      "Epoch 25/30\n",
      "1875/1875 [==============================] - 4s 2ms/step - loss: 0.2435 - accuracy: 0.9121 - val_loss: 0.2339 - val_accuracy: 0.9138\n",
      "Epoch 26/30\n",
      "1875/1875 [==============================] - 4s 2ms/step - loss: 0.2399 - accuracy: 0.9135 - val_loss: 0.2312 - val_accuracy: 0.9144\n",
      "Epoch 27/30\n",
      "1875/1875 [==============================] - 4s 2ms/step - loss: 0.2366 - accuracy: 0.9148 - val_loss: 0.2137 - val_accuracy: 0.9220\n",
      "Epoch 28/30\n",
      "1875/1875 [==============================] - 4s 2ms/step - loss: 0.2316 - accuracy: 0.9165 - val_loss: 0.2303 - val_accuracy: 0.9150\n",
      "Epoch 29/30\n",
      "1875/1875 [==============================] - 4s 2ms/step - loss: 0.2288 - accuracy: 0.9181 - val_loss: 0.2120 - val_accuracy: 0.9234\n",
      "Epoch 30/30\n",
      "1875/1875 [==============================] - 4s 2ms/step - loss: 0.2255 - accuracy: 0.9187 - val_loss: 0.2135 - val_accuracy: 0.9208\n"
     ]
    }
   ],
   "source": [
    "# This time we are using already flattened data\n",
    "\n",
    "model = keras.models.Sequential()\n",
    "# model.add(keras.layers.Flatten(input_shape = [28,28]))   # Input Layer\n",
    "model.add(keras.layers.InputLayer(input_shape = (784,)))\n",
    "model.add(keras.layers.Dense(300 , activation = 'relu'))  # Hidden Layer\n",
    "model.add(keras.layers.Dense(100 , activation = 'relu'))  # Hidden Layer\n",
    "model.add(keras.layers.Dense(10 , activation = 'softmax'))  # Output Layer.....softmax for multiclass classfication\n",
    "\n",
    "model.compile(loss = 'sparse_categorical_crossentropy', #loss function = cross entropy,for binary classify = binary_crossentropy\n",
    "             optimizer = 'sgd',                          # stochastic gradient descent optimizer\n",
    "             metrics = ['accuracy'])                     \n",
    "\n",
    "model_history = model.fit(X , Y_train , epochs = 30 , validation_data = (X_V , Y_Valid))"
   ]
  },
  {
   "cell_type": "code",
   "execution_count": 69,
   "id": "92f816cb",
   "metadata": {},
   "outputs": [
    {
     "data": {
      "text/plain": [
       "(10000, 784)"
      ]
     },
     "execution_count": 69,
     "metadata": {},
     "output_type": "execute_result"
    }
   ],
   "source": [
    "X_Test = X_Test.reshape(10000 , 28*28)\n",
    "X_Test.shape"
   ]
  },
  {
   "cell_type": "code",
   "execution_count": 70,
   "id": "86de9cc2",
   "metadata": {},
   "outputs": [
    {
     "data": {
      "text/plain": [
       "array([[0., 0., 0., 0., 0., 0., 0., 0., 0., 1.],\n",
       "       [0., 0., 1., 0., 0., 0., 0., 0., 0., 0.],\n",
       "       [0., 1., 0., 0., 0., 0., 0., 0., 0., 0.]], dtype=float32)"
      ]
     },
     "execution_count": 70,
     "metadata": {},
     "output_type": "execute_result"
    }
   ],
   "source": [
    "X_New = X_Test[:3]\n",
    "\n",
    "Y_Prob = model.predict(X_New)\n",
    "Y_Prob.round(2)"
   ]
  },
  {
   "cell_type": "code",
   "execution_count": 71,
   "id": "8ae831dc",
   "metadata": {},
   "outputs": [
    {
     "name": "stderr",
     "output_type": "stream",
     "text": [
      "D:\\Anaconda\\envs\\myenv\\lib\\site-packages\\tensorflow\\python\\keras\\engine\\sequential.py:455: UserWarning: `model.predict_classes()` is deprecated and will be removed after 2021-01-01. Please use instead:* `np.argmax(model.predict(x), axis=-1)`,   if your model does multi-class classification   (e.g. if it uses a `softmax` last-layer activation).* `(model.predict(x) > 0.5).astype(\"int32\")`,   if your model does binary classification   (e.g. if it uses a `sigmoid` last-layer activation).\n",
      "  warnings.warn('`model.predict_classes()` is deprecated and '\n"
     ]
    },
    {
     "data": {
      "text/plain": [
       "array([9, 2, 1], dtype=int64)"
      ]
     },
     "execution_count": 71,
     "metadata": {},
     "output_type": "execute_result"
    }
   ],
   "source": [
    "Y_Pred = model.predict_classes(X_New)\n",
    "Y_Pred"
   ]
  },
  {
   "cell_type": "code",
   "execution_count": 76,
   "id": "a398e97c",
   "metadata": {},
   "outputs": [
    {
     "data": {
      "text/plain": [
       "array(['Ankle boot', 'Pullover', 'Trouser'], dtype='<U11')"
      ]
     },
     "execution_count": 76,
     "metadata": {},
     "output_type": "execute_result"
    }
   ],
   "source": [
    "np.array(class_names)[Y_Pred]"
   ]
  },
  {
   "cell_type": "code",
   "execution_count": 79,
   "id": "b6b87bb3",
   "metadata": {},
   "outputs": [
    {
     "data": {
      "image/png": "[encoded data removed]",
      "text/plain": [
       "<Figure size 640x480 with 1 Axes>"
      ]
     },
     "metadata": {},
     "output_type": "display_data"
    }
   ],
   "source": [
    "plt.imshow(X_Test[0].reshape(28,28))\n",
    "plt.show()"
   ]
  },
  {
   "cell_type": "code",
   "execution_count": null,
   "id": "4e23ff53",
   "metadata": {},
   "outputs": [],
   "source": []
  }
 ],
 "metadata": {
  "kernelspec": {
   "display_name": "Python 3 (ipykernel)",
   "language": "python",
   "name": "python3"
  },
  "language_info": {
   "codemirror_mode": {
    "name": "ipython",
    "version": 3
   },
   "file_extension": ".py",
   "mimetype": "text/x-python",
   "name": "python",
   "nbconvert_exporter": "python",
   "pygments_lexer": "ipython3",
   "version": "3.9.13"
  }
 },
 "nbformat": 4,
 "nbformat_minor": 5
}
