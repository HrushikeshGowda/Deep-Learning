{
 "cells": [
  {
   "cell_type": "markdown",
   "id": "cd34764c",
   "metadata": {},
   "source": [
    "# Functional API\n",
    "#### Not all the network models are simply sequential.Some may have complex topologies.Some may have multiple inputs and/or multiple outputs.For example, a Wide & Deep neural network connects all or part of the inputs directly to the output layer"
   ]
  },
  {
   "cell_type": "code",
   "execution_count": 1,
   "id": "cf83630b",
   "metadata": {},
   "outputs": [],
   "source": [
    "import tensorflow as tf\n",
    "import pandas as pd\n",
    "import numpy as np\n",
    "import matplotlib.pyplot as plt\n",
    "from tensorflow import keras\n",
    "import sklearn"
   ]
  },
  {
   "cell_type": "code",
   "execution_count": 2,
   "id": "38de3cf8",
   "metadata": {},
   "outputs": [],
   "source": [
    "from sklearn.datasets import fetch_california_housing\n",
    "housing = fetch_california_housing()\n",
    "\n",
    "from sklearn.model_selection import train_test_split\n",
    "\n",
    "X_Train , X_Test , Y_Train , Y_Test = train_test_split(housing.data , housing.target , random_state = 4)\n",
    "X_Train , X_Valid , Y_Train , Y_Valid = train_test_split(X_Train , Y_Train , random_state = 4)\n",
    "\n",
    "from sklearn.preprocessing import StandardScaler\n",
    "\n",
    "SC = StandardScaler()\n",
    "X_Train = SC.fit_transform(X_Train)\n",
    "X_Test = SC.transform(X_Test)\n",
    "X_Valid = SC.transform(X_Valid)\n",
    "\n",
    "np.random.seed(4)\n",
    "tf.random.set_seed(4)"
   ]
  },
  {
   "cell_type": "code",
   "execution_count": 254,
   "id": "932c3f10",
   "metadata": {},
   "outputs": [
    {
     "data": {
      "text/plain": [
       "(8,)"
      ]
     },
     "execution_count": 254,
     "metadata": {},
     "output_type": "execute_result"
    }
   ],
   "source": [
    "X_Train.shape[1:]"
   ]
  },
  {
   "cell_type": "code",
   "execution_count": 261,
   "id": "a7291cdf",
   "metadata": {},
   "outputs": [],
   "source": [
    "input_ = keras.layers.Input(shape = X_Train.shape[1:]) # (8,)\n",
    "hidden1 = keras.layers.Dense(30 , keras.layers.LeakyReLU(alpha = 0.1))(input_)\n",
    "hidden1 = keras.layers.Dropout(0.2)(hidden1)\n",
    "hidden2 = keras.layers.Dense(30 , keras.layers.LeakyReLU(alpha = 0.1))(hidden1)\n",
    "hidden2 = keras.layers.Dropout(0.2)(hidden2)\n",
    "concat = keras.layers.concatenate([input_ , hidden2])\n",
    "output = keras.layers.Dense(1)(concat)\n",
    "\n",
    "model = keras.models.Model(inputs = [input_] , outputs = [output])"
   ]
  },
  {
   "cell_type": "code",
   "execution_count": 262,
   "id": "24b48ca7",
   "metadata": {},
   "outputs": [
    {
     "name": "stdout",
     "output_type": "stream",
     "text": [
      "Model: \"model_2\"\n",
      "__________________________________________________________________________________________________\n",
      "Layer (type)                    Output Shape         Param #     Connected to                     \n",
      "==================================================================================================\n",
      "input_4 (InputLayer)            [(None, 8)]          0                                            \n",
      "__________________________________________________________________________________________________\n",
      "dense_9 (Dense)                 (None, 30)           270         input_4[0][0]                    \n",
      "__________________________________________________________________________________________________\n",
      "dropout_4 (Dropout)             (None, 30)           0           dense_9[0][0]                    \n",
      "__________________________________________________________________________________________________\n",
      "dense_10 (Dense)                (None, 30)           930         dropout_4[0][0]                  \n",
      "__________________________________________________________________________________________________\n",
      "dropout_5 (Dropout)             (None, 30)           0           dense_10[0][0]                   \n",
      "__________________________________________________________________________________________________\n",
      "concatenate_2 (Concatenate)     (None, 38)           0           input_4[0][0]                    \n",
      "                                                                 dropout_5[0][0]                  \n",
      "__________________________________________________________________________________________________\n",
      "dense_11 (Dense)                (None, 1)            39          concatenate_2[0][0]              \n",
      "==================================================================================================\n",
      "Total params: 1,239\n",
      "Trainable params: 1,239\n",
      "Non-trainable params: 0\n",
      "__________________________________________________________________________________________________\n"
     ]
    }
   ],
   "source": [
    "model.summary()"
   ]
  },
  {
   "cell_type": "code",
   "execution_count": 263,
   "id": "6a2d44da",
   "metadata": {},
   "outputs": [
    {
     "data": {
      "text/plain": [
       "((11610, 8), (11610,))"
      ]
     },
     "execution_count": 263,
     "metadata": {},
     "output_type": "execute_result"
    }
   ],
   "source": [
    "X_Train.shape , Y_Train.shape"
   ]
  },
  {
   "cell_type": "code",
   "execution_count": 264,
   "id": "dcc524bf",
   "metadata": {},
   "outputs": [],
   "source": [
    "model.compile(loss = 'mean_squared_error' , optimizer = keras.optimizers.SGD(learning_rate = 1e-4) , metrics = ['mae'])"
   ]
  },
  {
   "cell_type": "code",
   "execution_count": 265,
   "id": "62ce2568",
   "metadata": {},
   "outputs": [
    {
     "data": {
      "text/plain": [
       "(11610, 8)"
      ]
     },
     "execution_count": 265,
     "metadata": {},
     "output_type": "execute_result"
    }
   ],
   "source": [
    "X_Train.shape"
   ]
  },
  {
   "cell_type": "code",
   "execution_count": 266,
   "id": "37edf96b",
   "metadata": {},
   "outputs": [
    {
     "data": {
      "text/plain": [
       "30000"
      ]
     },
     "execution_count": 266,
     "metadata": {},
     "output_type": "execute_result"
    }
   ],
   "source": [
    "1000*30"
   ]
  },
  {
   "cell_type": "code",
   "execution_count": 166,
   "id": "adeee15d",
   "metadata": {},
   "outputs": [
    {
     "name": "stdout",
     "output_type": "stream",
     "text": [
      "Epoch 1/30\n",
      "363/363 [==============================] - 2s 3ms/step - loss: 2.4892 - mae: 1.1683 - val_loss: 0.8843 - val_mae: 0.6574\n",
      "Epoch 2/30\n",
      "363/363 [==============================] - 1s 2ms/step - loss: 0.9608 - mae: 0.6998 - val_loss: 0.6864 - val_mae: 0.6029\n",
      "Epoch 3/30\n",
      "363/363 [==============================] - 1s 2ms/step - loss: 0.8494 - mae: 0.6667 - val_loss: 0.6506 - val_mae: 0.5886\n",
      "Epoch 4/30\n",
      "363/363 [==============================] - 1s 2ms/step - loss: 0.8058 - mae: 0.6423 - val_loss: 0.6712 - val_mae: 0.5731\n",
      "Epoch 5/30\n",
      "363/363 [==============================] - 1s 2ms/step - loss: 0.7644 - mae: 0.6254 - val_loss: 0.6018 - val_mae: 0.5701\n",
      "Epoch 6/30\n",
      "363/363 [==============================] - 1s 2ms/step - loss: 0.7027 - mae: 0.6139 - val_loss: 0.5790 - val_mae: 0.5541\n",
      "Epoch 7/30\n",
      "363/363 [==============================] - 1s 2ms/step - loss: 0.6891 - mae: 0.5995 - val_loss: 0.5709 - val_mae: 0.5494\n",
      "Epoch 8/30\n",
      "363/363 [==============================] - 1s 2ms/step - loss: 0.6900 - mae: 0.5930 - val_loss: 0.5767 - val_mae: 0.5485\n",
      "Epoch 9/30\n",
      "363/363 [==============================] - 1s 2ms/step - loss: 0.6722 - mae: 0.5818 - val_loss: 0.5808 - val_mae: 0.5365\n",
      "Epoch 10/30\n",
      "363/363 [==============================] - 1s 2ms/step - loss: 0.6505 - mae: 0.5730 - val_loss: 0.5437 - val_mae: 0.5373\n",
      "Epoch 11/30\n",
      "363/363 [==============================] - 1s 2ms/step - loss: 0.6180 - mae: 0.5712 - val_loss: 0.5373 - val_mae: 0.5330\n",
      "Epoch 12/30\n",
      "363/363 [==============================] - 1s 2ms/step - loss: 0.6181 - mae: 0.5671 - val_loss: 0.5832 - val_mae: 0.5285\n",
      "Epoch 13/30\n",
      "363/363 [==============================] - 1s 2ms/step - loss: 0.6353 - mae: 0.5626 - val_loss: 0.5272 - val_mae: 0.5290\n",
      "Epoch 14/30\n",
      "363/363 [==============================] - 1s 2ms/step - loss: 0.5927 - mae: 0.5615 - val_loss: 0.5261 - val_mae: 0.5289\n",
      "Epoch 15/30\n",
      "363/363 [==============================] - 1s 2ms/step - loss: 0.6015 - mae: 0.5571 - val_loss: 0.5257 - val_mae: 0.5254\n",
      "Epoch 16/30\n",
      "363/363 [==============================] - 1s 2ms/step - loss: 0.5933 - mae: 0.5543 - val_loss: 0.5293 - val_mae: 0.5264\n",
      "Epoch 17/30\n",
      "363/363 [==============================] - 1s 2ms/step - loss: 0.5886 - mae: 0.5542 - val_loss: 0.5170 - val_mae: 0.5244\n",
      "Epoch 18/30\n",
      "363/363 [==============================] - 1s 2ms/step - loss: 0.5694 - mae: 0.5488 - val_loss: 0.5162 - val_mae: 0.5208\n",
      "Epoch 19/30\n",
      "363/363 [==============================] - 1s 2ms/step - loss: 0.5840 - mae: 0.5474 - val_loss: 0.5143 - val_mae: 0.5229\n",
      "Epoch 20/30\n",
      "363/363 [==============================] - 1s 2ms/step - loss: 0.5699 - mae: 0.5476 - val_loss: 0.5126 - val_mae: 0.5205\n",
      "Epoch 21/30\n",
      "363/363 [==============================] - 1s 2ms/step - loss: 0.5546 - mae: 0.5419 - val_loss: 0.5077 - val_mae: 0.5183\n",
      "Epoch 22/30\n",
      "363/363 [==============================] - 1s 2ms/step - loss: 0.5520 - mae: 0.5418 - val_loss: 0.5045 - val_mae: 0.5172\n",
      "Epoch 23/30\n",
      "363/363 [==============================] - 1s 2ms/step - loss: 0.5480 - mae: 0.5392 - val_loss: 0.5051 - val_mae: 0.5172\n",
      "Epoch 24/30\n",
      "363/363 [==============================] - 1s 2ms/step - loss: 0.5422 - mae: 0.5389 - val_loss: 0.5017 - val_mae: 0.5157\n",
      "Epoch 25/30\n",
      "363/363 [==============================] - 1s 2ms/step - loss: 0.5491 - mae: 0.5362 - val_loss: 0.5049 - val_mae: 0.5160\n",
      "Epoch 26/30\n",
      "363/363 [==============================] - 1s 2ms/step - loss: 0.5449 - mae: 0.5369 - val_loss: 0.5026 - val_mae: 0.5136\n",
      "Epoch 27/30\n",
      "363/363 [==============================] - 1s 2ms/step - loss: 0.5400 - mae: 0.5364 - val_loss: 0.4977 - val_mae: 0.5127\n",
      "Epoch 28/30\n",
      "363/363 [==============================] - 1s 2ms/step - loss: 0.5440 - mae: 0.5362 - val_loss: 0.4968 - val_mae: 0.5126\n",
      "Epoch 29/30\n",
      "363/363 [==============================] - 1s 2ms/step - loss: 0.5365 - mae: 0.5344 - val_loss: 0.4951 - val_mae: 0.5122\n",
      "Epoch 30/30\n",
      "363/363 [==============================] - 1s 2ms/step - loss: 0.5414 - mae: 0.5367 - val_loss: 0.4949 - val_mae: 0.5126\n"
     ]
    }
   ],
   "source": [
    "model_history = model.fit(X_Train , Y_Train , epochs = 30 , validation_data = (X_Valid , Y_Valid))"
   ]
  },
  {
   "cell_type": "code",
   "execution_count": 167,
   "id": "c887d848",
   "metadata": {},
   "outputs": [
    {
     "name": "stdout",
     "output_type": "stream",
     "text": [
      "162/162 [==============================] - 0s 1ms/step - loss: 0.5092 - mae: 0.5152\n"
     ]
    }
   ],
   "source": [
    "mae_test = model.evaluate(X_Test , Y_Test)"
   ]
  },
  {
   "cell_type": "code",
   "execution_count": 168,
   "id": "badf24d5",
   "metadata": {},
   "outputs": [
    {
     "data": {
      "text/plain": [
       "{'loss': [2.4891774654388428,\n",
       "  0.9608081579208374,\n",
       "  0.8493687510490417,\n",
       "  0.8057725429534912,\n",
       "  0.7644456624984741,\n",
       "  0.7026780843734741,\n",
       "  0.6890973448753357,\n",
       "  0.6900328397750854,\n",
       "  0.6721681356430054,\n",
       "  0.6505157947540283,\n",
       "  0.6180430054664612,\n",
       "  0.6181443333625793,\n",
       "  0.6352986693382263,\n",
       "  0.592666506767273,\n",
       "  0.6014870405197144,\n",
       "  0.5932869911193848,\n",
       "  0.588641881942749,\n",
       "  0.5693727135658264,\n",
       "  0.5839959979057312,\n",
       "  0.5699043273925781,\n",
       "  0.5545918345451355,\n",
       "  0.5519731640815735,\n",
       "  0.5479506850242615,\n",
       "  0.5422165393829346,\n",
       "  0.5491456389427185,\n",
       "  0.5448940992355347,\n",
       "  0.5399926900863647,\n",
       "  0.544039785861969,\n",
       "  0.536510169506073,\n",
       "  0.5414388179779053],\n",
       " 'mae': [1.1683331727981567,\n",
       "  0.699822187423706,\n",
       "  0.6667211651802063,\n",
       "  0.6422563791275024,\n",
       "  0.6253868341445923,\n",
       "  0.6138855218887329,\n",
       "  0.5995426774024963,\n",
       "  0.5930244326591492,\n",
       "  0.5818021893501282,\n",
       "  0.5730451345443726,\n",
       "  0.5712220072746277,\n",
       "  0.5670750141143799,\n",
       "  0.5626115798950195,\n",
       "  0.5614659190177917,\n",
       "  0.5570877194404602,\n",
       "  0.5542734861373901,\n",
       "  0.5541934370994568,\n",
       "  0.548843502998352,\n",
       "  0.5473628044128418,\n",
       "  0.547564685344696,\n",
       "  0.5418906807899475,\n",
       "  0.5417985916137695,\n",
       "  0.5391652584075928,\n",
       "  0.5389406085014343,\n",
       "  0.5362275838851929,\n",
       "  0.5368567705154419,\n",
       "  0.5363897681236267,\n",
       "  0.5361884832382202,\n",
       "  0.5343835949897766,\n",
       "  0.5366917252540588],\n",
       " 'val_loss': [0.8842592835426331,\n",
       "  0.6863899230957031,\n",
       "  0.6505940556526184,\n",
       "  0.6712215542793274,\n",
       "  0.6018383502960205,\n",
       "  0.5790119171142578,\n",
       "  0.5709248185157776,\n",
       "  0.5766980051994324,\n",
       "  0.5808037519454956,\n",
       "  0.543674886226654,\n",
       "  0.5373052954673767,\n",
       "  0.5832492113113403,\n",
       "  0.5272097587585449,\n",
       "  0.526083767414093,\n",
       "  0.5256550908088684,\n",
       "  0.5292798280715942,\n",
       "  0.5170335173606873,\n",
       "  0.5161784887313843,\n",
       "  0.5143234729766846,\n",
       "  0.5125607848167419,\n",
       "  0.5077494382858276,\n",
       "  0.5045413374900818,\n",
       "  0.5051098465919495,\n",
       "  0.5016584396362305,\n",
       "  0.5048555731773376,\n",
       "  0.5026388764381409,\n",
       "  0.49767163395881653,\n",
       "  0.49683818221092224,\n",
       "  0.4950900971889496,\n",
       "  0.49493128061294556],\n",
       " 'val_mae': [0.6573823690414429,\n",
       "  0.6029279828071594,\n",
       "  0.5886342525482178,\n",
       "  0.5731136202812195,\n",
       "  0.570114016532898,\n",
       "  0.5541468858718872,\n",
       "  0.5493913888931274,\n",
       "  0.5485172867774963,\n",
       "  0.5365164279937744,\n",
       "  0.5372503995895386,\n",
       "  0.5329799056053162,\n",
       "  0.5284977555274963,\n",
       "  0.5290317535400391,\n",
       "  0.5289078950881958,\n",
       "  0.525373637676239,\n",
       "  0.5263527035713196,\n",
       "  0.5243543386459351,\n",
       "  0.5207971334457397,\n",
       "  0.5228641033172607,\n",
       "  0.5205491781234741,\n",
       "  0.5182723999023438,\n",
       "  0.5172367095947266,\n",
       "  0.5171812772750854,\n",
       "  0.5156810879707336,\n",
       "  0.5160251259803772,\n",
       "  0.5136362910270691,\n",
       "  0.5126935839653015,\n",
       "  0.5126497745513916,\n",
       "  0.512204110622406,\n",
       "  0.5125929713249207]}"
      ]
     },
     "execution_count": 168,
     "metadata": {},
     "output_type": "execute_result"
    }
   ],
   "source": [
    "model_history.history"
   ]
  },
  {
   "cell_type": "code",
   "execution_count": 169,
   "id": "e009b61d",
   "metadata": {},
   "outputs": [
    {
     "data": {
      "image/png": "[encoded data removed]",
      "text/plain": [
       "<Figure size 2000x1200 with 1 Axes>"
      ]
     },
     "metadata": {},
     "output_type": "display_data"
    }
   ],
   "source": [
    "pd.DataFrame(model_history.history).plot(figsize = (20,12))\n",
    "plt.grid(True)\n",
    "plt.gca().set_ylim(0 , 1)\n",
    "plt.show()"
   ]
  },
  {
   "cell_type": "markdown",
   "id": "8dc6ef8d",
   "metadata": {},
   "source": [
    "## Saving & Restoring Model"
   ]
  },
  {
   "cell_type": "code",
   "execution_count": 170,
   "id": "8790a174",
   "metadata": {},
   "outputs": [],
   "source": [
    "model.save('my_func_model.h5')"
   ]
  },
  {
   "cell_type": "code",
   "execution_count": 173,
   "id": "c3f828d4",
   "metadata": {},
   "outputs": [],
   "source": [
    "del model"
   ]
  },
  {
   "cell_type": "code",
   "execution_count": 174,
   "id": "a739ec3e",
   "metadata": {},
   "outputs": [],
   "source": [
    "keras.backend.clear_session()"
   ]
  },
  {
   "cell_type": "code",
   "execution_count": 175,
   "id": "632c1603",
   "metadata": {},
   "outputs": [],
   "source": [
    "model = keras.models.load_model('my_func_model.h5')"
   ]
  },
  {
   "cell_type": "code",
   "execution_count": 176,
   "id": "9de3fb24",
   "metadata": {},
   "outputs": [
    {
     "name": "stdout",
     "output_type": "stream",
     "text": [
      "Model: \"model_11\"\n",
      "__________________________________________________________________________________________________\n",
      "Layer (type)                    Output Shape         Param #     Connected to                     \n",
      "==================================================================================================\n",
      "input_14 (InputLayer)           [(None, 8)]          0                                            \n",
      "__________________________________________________________________________________________________\n",
      "dense_35 (Dense)                (None, 30)           270         input_14[0][0]                   \n",
      "__________________________________________________________________________________________________\n",
      "dropout_16 (Dropout)            (None, 30)           0           dense_35[0][0]                   \n",
      "__________________________________________________________________________________________________\n",
      "dense_36 (Dense)                (None, 30)           930         dropout_16[0][0]                 \n",
      "__________________________________________________________________________________________________\n",
      "dropout_17 (Dropout)            (None, 30)           0           dense_36[0][0]                   \n",
      "__________________________________________________________________________________________________\n",
      "concatenate_11 (Concatenate)    (None, 38)           0           input_14[0][0]                   \n",
      "                                                                 dropout_17[0][0]                 \n",
      "__________________________________________________________________________________________________\n",
      "dense_37 (Dense)                (None, 1)            39          concatenate_11[0][0]             \n",
      "==================================================================================================\n",
      "Total params: 1,239\n",
      "Trainable params: 1,239\n",
      "Non-trainable params: 0\n",
      "__________________________________________________________________________________________________\n"
     ]
    }
   ],
   "source": [
    "model.summary()"
   ]
  },
  {
   "cell_type": "code",
   "execution_count": 178,
   "id": "95ebfbd8",
   "metadata": {},
   "outputs": [
    {
     "name": "stdout",
     "output_type": "stream",
     "text": [
      "[[1.993581 ]\n",
      " [2.57317  ]\n",
      " [1.5447407]]\n"
     ]
    }
   ],
   "source": [
    "X_New = X_Test[:3]\n",
    "\n",
    "Y_Pred = model.predict(X_New)\n",
    "print(Y_Pred)"
   ]
  },
  {
   "cell_type": "markdown",
   "id": "b83d772d",
   "metadata": {},
   "source": [
    "## Using Callbacks During Training\n",
    "\n",
    "### Saving every epoch"
   ]
  },
  {
   "cell_type": "code",
   "execution_count": 197,
   "id": "ff30617b",
   "metadata": {},
   "outputs": [],
   "source": [
    "del model"
   ]
  },
  {
   "cell_type": "code",
   "execution_count": 198,
   "id": "23b821e9",
   "metadata": {},
   "outputs": [],
   "source": [
    "keras.backend.clear_session()"
   ]
  },
  {
   "cell_type": "code",
   "execution_count": 199,
   "id": "9e8a71f6",
   "metadata": {},
   "outputs": [],
   "source": [
    "model = keras.models.Sequential([\n",
    "    keras.layers.Dense(30 , activation = 'relu' , input_shape = (8,)),\n",
    "    keras.layers.Dense(30 , activation = 'relu'),\n",
    "    keras.layers.Dense(1)\n",
    "])"
   ]
  },
  {
   "cell_type": "code",
   "execution_count": 200,
   "id": "c05c807b",
   "metadata": {},
   "outputs": [],
   "source": [
    "model.compile(loss = 'mse' , optimizer =keras.optimizers.SGD(learning_rate = 1e-3))"
   ]
  },
  {
   "cell_type": "code",
   "execution_count": 201,
   "id": "68808dba",
   "metadata": {},
   "outputs": [],
   "source": [
    "checkpoint_cb = keras.callbacks.ModelCheckpoint(\"Model-{epoch:02d}.h5\")  # each epoch will be saved # 02 for 2 digits numbers"
   ]
  },
  {
   "cell_type": "code",
   "execution_count": 202,
   "id": "3f99db2f",
   "metadata": {},
   "outputs": [
    {
     "name": "stdout",
     "output_type": "stream",
     "text": [
      "Epoch 1/10\n",
      "363/363 [==============================] - 1s 2ms/step - loss: 1.6358 - val_loss: 0.7451\n",
      "Epoch 2/10\n",
      "363/363 [==============================] - 1s 2ms/step - loss: 0.7459 - val_loss: 0.6806\n",
      "Epoch 3/10\n",
      "363/363 [==============================] - 1s 2ms/step - loss: 0.6881 - val_loss: 0.6366\n",
      "Epoch 4/10\n",
      "363/363 [==============================] - 1s 2ms/step - loss: 0.6423 - val_loss: 0.5995\n",
      "Epoch 5/10\n",
      "363/363 [==============================] - 1s 2ms/step - loss: 0.6037 - val_loss: 0.5665\n",
      "Epoch 6/10\n",
      "363/363 [==============================] - 1s 2ms/step - loss: 0.5712 - val_loss: 0.5401\n",
      "Epoch 7/10\n",
      "363/363 [==============================] - 1s 2ms/step - loss: 0.5451 - val_loss: 0.5177\n",
      "Epoch 8/10\n",
      "363/363 [==============================] - 1s 2ms/step - loss: 0.5220 - val_loss: 0.4997\n",
      "Epoch 9/10\n",
      "363/363 [==============================] - 1s 2ms/step - loss: 0.5036 - val_loss: 0.4838\n",
      "Epoch 10/10\n",
      "363/363 [==============================] - 1s 2ms/step - loss: 0.4880 - val_loss: 0.4722\n"
     ]
    }
   ],
   "source": [
    "history = model.fit(X_Train , Y_Train , epochs = 10 , validation_data = (X_Valid , Y_Valid) , callbacks = [checkpoint_cb])"
   ]
  },
  {
   "cell_type": "code",
   "execution_count": 203,
   "id": "e4650bd8",
   "metadata": {},
   "outputs": [],
   "source": [
    "del model\n",
    "keras.backend.clear_session()"
   ]
  },
  {
   "cell_type": "code",
   "execution_count": 204,
   "id": "569d6523",
   "metadata": {},
   "outputs": [],
   "source": [
    "model = keras.models.load_model('Model-10.h5')"
   ]
  },
  {
   "cell_type": "code",
   "execution_count": 205,
   "id": "d76e3731",
   "metadata": {},
   "outputs": [
    {
     "name": "stdout",
     "output_type": "stream",
     "text": [
      "162/162 [==============================] - 1s 1ms/step - loss: 0.4849\n"
     ]
    }
   ],
   "source": [
    "mse_test = model.evaluate(X_Test , Y_Test)"
   ]
  },
  {
   "cell_type": "markdown",
   "id": "8b28c06b",
   "metadata": {},
   "source": [
    "## Best Model Only\n",
    "\n",
    "### Saving epoch which has less error"
   ]
  },
  {
   "cell_type": "code",
   "execution_count": 215,
   "id": "99674e02",
   "metadata": {},
   "outputs": [],
   "source": [
    "del model\n",
    "keras.backend.clear_session()"
   ]
  },
  {
   "cell_type": "code",
   "execution_count": 216,
   "id": "d73222a0",
   "metadata": {},
   "outputs": [],
   "source": [
    "model = keras.models.Sequential([\n",
    "    keras.layers.Dense(30 , activation = 'relu' , input_shape = (8,)),\n",
    "    keras.layers.Dense(30 , activation = 'relu'),\n",
    "    keras.layers.Dense(1)\n",
    "])"
   ]
  },
  {
   "cell_type": "code",
   "execution_count": 217,
   "id": "b6182786",
   "metadata": {},
   "outputs": [],
   "source": [
    "model.compile(loss = 'mse' , optimizer =keras.optimizers.SGD(learning_rate = 1e-3))"
   ]
  },
  {
   "cell_type": "code",
   "execution_count": 218,
   "id": "6ee92aaa",
   "metadata": {},
   "outputs": [],
   "source": [
    "checkpoint_cb = keras.callbacks.ModelCheckpoint(\"Model-Best.h5\" , save_best_only = True)"
   ]
  },
  {
   "cell_type": "code",
   "execution_count": 219,
   "id": "6945db9f",
   "metadata": {},
   "outputs": [
    {
     "name": "stdout",
     "output_type": "stream",
     "text": [
      "Epoch 1/10\n",
      "363/363 [==============================] - 1s 2ms/step - loss: 1.8762 - val_loss: 0.8986\n",
      "Epoch 2/10\n",
      "363/363 [==============================] - 1s 2ms/step - loss: 0.8136 - val_loss: 0.7305\n",
      "Epoch 3/10\n",
      "363/363 [==============================] - 1s 2ms/step - loss: 0.7136 - val_loss: 0.6710\n",
      "Epoch 4/10\n",
      "363/363 [==============================] - 1s 2ms/step - loss: 0.6633 - val_loss: 0.6309\n",
      "Epoch 5/10\n",
      "363/363 [==============================] - 1s 2ms/step - loss: 0.6290 - val_loss: 0.6014\n",
      "Epoch 6/10\n",
      "363/363 [==============================] - 1s 2ms/step - loss: 0.6009 - val_loss: 0.5775\n",
      "Epoch 7/10\n",
      "363/363 [==============================] - 1s 2ms/step - loss: 0.5780 - val_loss: 0.5571\n",
      "Epoch 8/10\n",
      "363/363 [==============================] - 1s 2ms/step - loss: 0.5581 - val_loss: 0.5407\n",
      "Epoch 9/10\n",
      "363/363 [==============================] - 1s 2ms/step - loss: 0.5413 - val_loss: 0.5258\n",
      "Epoch 10/10\n",
      "363/363 [==============================] - 1s 2ms/step - loss: 0.5267 - val_loss: 0.5139\n"
     ]
    }
   ],
   "source": [
    "history = model.fit(X_Train , Y_Train , epochs = 10 , validation_data = (X_Valid , Y_Valid) , callbacks = [checkpoint_cb])"
   ]
  },
  {
   "cell_type": "code",
   "execution_count": 220,
   "id": "828b9ef7",
   "metadata": {},
   "outputs": [],
   "source": [
    "model = keras.models.load_model('Model-Best.h5')"
   ]
  },
  {
   "cell_type": "code",
   "execution_count": 221,
   "id": "a32c7ff5",
   "metadata": {},
   "outputs": [
    {
     "name": "stdout",
     "output_type": "stream",
     "text": [
      "162/162 [==============================] - 0s 1ms/step - loss: 0.5242\n"
     ]
    }
   ],
   "source": [
    "mse_test = model.evaluate(X_Test , Y_Test)"
   ]
  },
  {
   "cell_type": "markdown",
   "id": "7cb8e83a",
   "metadata": {},
   "source": [
    "## Early Stop Model\n",
    "\n",
    "### If i have given 200 epochs and my validation set accuracy is not improving after 80 epochs.......it will stop the training and loads epoch which has best value"
   ]
  },
  {
   "cell_type": "code",
   "execution_count": 231,
   "id": "58b35be9",
   "metadata": {},
   "outputs": [],
   "source": [
    "del model\n",
    "keras.backend.clear_session()"
   ]
  },
  {
   "cell_type": "code",
   "execution_count": 232,
   "id": "c5350986",
   "metadata": {},
   "outputs": [],
   "source": [
    "model = keras.models.Sequential([\n",
    "    keras.layers.Dense(30 , activation = 'relu' , input_shape = (8,)),\n",
    "    keras.layers.Dense(30 , activation = 'relu'),\n",
    "    keras.layers.Dense(1)\n",
    "])"
   ]
  },
  {
   "cell_type": "code",
   "execution_count": 233,
   "id": "aeba1481",
   "metadata": {},
   "outputs": [],
   "source": [
    "model.compile(loss = 'mse' , optimizer =keras.optimizers.SGD(learning_rate = 1e-3))"
   ]
  },
  {
   "cell_type": "code",
   "execution_count": 234,
   "id": "d687b7e2",
   "metadata": {},
   "outputs": [],
   "source": [
    "checkpoint_cb = keras.callbacks.ModelCheckpoint(\"Early-Stop-Model.h5\" , save_best_only = True)"
   ]
  },
  {
   "cell_type": "code",
   "execution_count": 235,
   "id": "463d0516",
   "metadata": {},
   "outputs": [],
   "source": [
    "early_stopping_cb = keras.callbacks.EarlyStopping(patience = 10 , # if 80 has best value then training will stop at 90\n",
    "                                                 restore_best_weights = True)"
   ]
  },
  {
   "cell_type": "code",
   "execution_count": 236,
   "id": "7a0c570d",
   "metadata": {},
   "outputs": [
    {
     "name": "stdout",
     "output_type": "stream",
     "text": [
      "Epoch 1/200\n",
      "363/363 [==============================] - 2s 4ms/step - loss: 2.0373 - val_loss: 0.8022\n",
      "Epoch 2/200\n",
      "363/363 [==============================] - 1s 3ms/step - loss: 0.7622 - val_loss: 0.6870\n",
      "Epoch 3/200\n",
      "363/363 [==============================] - 1s 3ms/step - loss: 0.6897 - val_loss: 0.6440\n",
      "Epoch 4/200\n",
      "363/363 [==============================] - 1s 3ms/step - loss: 0.6468 - val_loss: 0.6113\n",
      "Epoch 5/200\n",
      "363/363 [==============================] - 1s 3ms/step - loss: 0.6165 - val_loss: 0.5859\n",
      "Epoch 6/200\n",
      "363/363 [==============================] - 1s 2ms/step - loss: 0.5910 - val_loss: 0.5645\n",
      "Epoch 7/200\n",
      "363/363 [==============================] - 1s 3ms/step - loss: 0.5701 - val_loss: 0.5470\n",
      "Epoch 8/200\n",
      "363/363 [==============================] - 1s 2ms/step - loss: 0.5521 - val_loss: 0.5328\n",
      "Epoch 9/200\n",
      "363/363 [==============================] - 1s 3ms/step - loss: 0.5374 - val_loss: 0.5204\n",
      "Epoch 10/200\n",
      "363/363 [==============================] - 1s 2ms/step - loss: 0.5251 - val_loss: 0.5100\n",
      "Epoch 11/200\n",
      "363/363 [==============================] - 1s 3ms/step - loss: 0.5151 - val_loss: 0.5006\n",
      "Epoch 12/200\n",
      "363/363 [==============================] - 1s 2ms/step - loss: 0.5064 - val_loss: 0.4929\n",
      "Epoch 13/200\n",
      "363/363 [==============================] - 1s 2ms/step - loss: 0.4983 - val_loss: 0.4851\n",
      "Epoch 14/200\n",
      "363/363 [==============================] - 1s 2ms/step - loss: 0.4920 - val_loss: 0.4791\n",
      "Epoch 15/200\n",
      "363/363 [==============================] - 1s 2ms/step - loss: 0.4856 - val_loss: 0.4740\n",
      "Epoch 16/200\n",
      "363/363 [==============================] - 1s 3ms/step - loss: 0.4798 - val_loss: 0.4695\n",
      "Epoch 17/200\n",
      "363/363 [==============================] - 1s 2ms/step - loss: 0.4753 - val_loss: 0.4633\n",
      "Epoch 18/200\n",
      "363/363 [==============================] - 1s 2ms/step - loss: 0.4705 - val_loss: 0.4598\n",
      "Epoch 19/200\n",
      "363/363 [==============================] - 1s 3ms/step - loss: 0.4664 - val_loss: 0.4557\n",
      "Epoch 20/200\n",
      "363/363 [==============================] - 1s 3ms/step - loss: 0.4629 - val_loss: 0.4513\n",
      "Epoch 21/200\n",
      "363/363 [==============================] - 1s 2ms/step - loss: 0.4593 - val_loss: 0.4503\n",
      "Epoch 22/200\n",
      "363/363 [==============================] - 1s 2ms/step - loss: 0.4566 - val_loss: 0.4460\n",
      "Epoch 23/200\n",
      "363/363 [==============================] - 1s 2ms/step - loss: 0.4526 - val_loss: 0.4423\n",
      "Epoch 24/200\n",
      "363/363 [==============================] - 1s 2ms/step - loss: 0.4505 - val_loss: 0.4400\n",
      "Epoch 25/200\n",
      "363/363 [==============================] - 1s 2ms/step - loss: 0.4472 - val_loss: 0.4393\n",
      "Epoch 26/200\n",
      "363/363 [==============================] - 1s 2ms/step - loss: 0.4450 - val_loss: 0.4370\n",
      "Epoch 27/200\n",
      "363/363 [==============================] - 1s 2ms/step - loss: 0.4429 - val_loss: 0.4338\n",
      "Epoch 28/200\n",
      "363/363 [==============================] - 1s 3ms/step - loss: 0.4405 - val_loss: 0.4316\n",
      "Epoch 29/200\n",
      "363/363 [==============================] - 1s 2ms/step - loss: 0.4377 - val_loss: 0.4293\n",
      "Epoch 30/200\n",
      "363/363 [==============================] - 1s 2ms/step - loss: 0.4360 - val_loss: 0.4284\n",
      "Epoch 31/200\n",
      "363/363 [==============================] - 1s 2ms/step - loss: 0.4337 - val_loss: 0.4269\n",
      "Epoch 32/200\n",
      "363/363 [==============================] - 1s 2ms/step - loss: 0.4326 - val_loss: 0.4253\n",
      "Epoch 33/200\n",
      "363/363 [==============================] - 1s 2ms/step - loss: 0.4297 - val_loss: 0.4232\n",
      "Epoch 34/200\n",
      "363/363 [==============================] - 1s 2ms/step - loss: 0.4284 - val_loss: 0.4223\n",
      "Epoch 35/200\n",
      "363/363 [==============================] - 1s 2ms/step - loss: 0.4265 - val_loss: 0.4210\n",
      "Epoch 36/200\n",
      "363/363 [==============================] - 1s 3ms/step - loss: 0.4243 - val_loss: 0.4184\n",
      "Epoch 37/200\n",
      "363/363 [==============================] - 1s 2ms/step - loss: 0.4228 - val_loss: 0.4163\n",
      "Epoch 38/200\n",
      "363/363 [==============================] - 1s 2ms/step - loss: 0.4207 - val_loss: 0.4153\n",
      "Epoch 39/200\n",
      "363/363 [==============================] - 1s 2ms/step - loss: 0.4206 - val_loss: 0.4146\n",
      "Epoch 40/200\n",
      "363/363 [==============================] - 1s 2ms/step - loss: 0.4173 - val_loss: 0.4127\n",
      "Epoch 41/200\n",
      "363/363 [==============================] - 1s 2ms/step - loss: 0.4155 - val_loss: 0.4120\n",
      "Epoch 42/200\n",
      "363/363 [==============================] - 1s 2ms/step - loss: 0.4144 - val_loss: 0.4113\n",
      "Epoch 43/200\n",
      "363/363 [==============================] - 1s 2ms/step - loss: 0.4126 - val_loss: 0.4085\n",
      "Epoch 44/200\n",
      "363/363 [==============================] - 1s 2ms/step - loss: 0.4112 - val_loss: 0.4090\n",
      "Epoch 45/200\n",
      "363/363 [==============================] - 1s 2ms/step - loss: 0.4101 - val_loss: 0.4064\n",
      "Epoch 46/200\n",
      "363/363 [==============================] - 1s 2ms/step - loss: 0.4089 - val_loss: 0.4065\n",
      "Epoch 47/200\n",
      "363/363 [==============================] - 1s 2ms/step - loss: 0.4076 - val_loss: 0.4036\n",
      "Epoch 48/200\n",
      "363/363 [==============================] - 1s 2ms/step - loss: 0.4063 - val_loss: 0.4032\n",
      "Epoch 49/200\n",
      "363/363 [==============================] - 1s 2ms/step - loss: 0.4045 - val_loss: 0.4011\n",
      "Epoch 50/200\n",
      "363/363 [==============================] - 1s 2ms/step - loss: 0.4029 - val_loss: 0.4010\n",
      "Epoch 51/200\n",
      "363/363 [==============================] - 1s 3ms/step - loss: 0.4019 - val_loss: 0.3992\n",
      "Epoch 52/200\n",
      "363/363 [==============================] - 1s 2ms/step - loss: 0.4004 - val_loss: 0.3977\n",
      "Epoch 53/200\n",
      "363/363 [==============================] - 1s 2ms/step - loss: 0.3995 - val_loss: 0.3964\n",
      "Epoch 54/200\n",
      "363/363 [==============================] - 1s 2ms/step - loss: 0.3980 - val_loss: 0.3960\n",
      "Epoch 55/200\n",
      "363/363 [==============================] - 1s 2ms/step - loss: 0.3970 - val_loss: 0.3948\n",
      "Epoch 56/200\n",
      "363/363 [==============================] - 1s 2ms/step - loss: 0.3960 - val_loss: 0.3946\n",
      "Epoch 57/200\n",
      "363/363 [==============================] - 1s 2ms/step - loss: 0.3950 - val_loss: 0.3922\n",
      "Epoch 58/200\n",
      "363/363 [==============================] - 1s 2ms/step - loss: 0.3938 - val_loss: 0.3921\n",
      "Epoch 59/200\n",
      "363/363 [==============================] - 1s 3ms/step - loss: 0.3927 - val_loss: 0.3907\n",
      "Epoch 60/200\n",
      "363/363 [==============================] - 1s 2ms/step - loss: 0.3917 - val_loss: 0.3894\n",
      "Epoch 61/200\n",
      "363/363 [==============================] - 1s 2ms/step - loss: 0.3905 - val_loss: 0.3891\n",
      "Epoch 62/200\n",
      "363/363 [==============================] - 1s 2ms/step - loss: 0.3890 - val_loss: 0.3877\n",
      "Epoch 63/200\n",
      "363/363 [==============================] - 1s 2ms/step - loss: 0.3887 - val_loss: 0.3865\n",
      "Epoch 64/200\n",
      "363/363 [==============================] - 1s 2ms/step - loss: 0.3871 - val_loss: 0.3850\n",
      "Epoch 65/200\n",
      "363/363 [==============================] - 1s 2ms/step - loss: 0.3866 - val_loss: 0.3850\n",
      "Epoch 66/200\n",
      "363/363 [==============================] - 1s 2ms/step - loss: 0.3855 - val_loss: 0.3831\n",
      "Epoch 67/200\n",
      "363/363 [==============================] - 1s 2ms/step - loss: 0.3846 - val_loss: 0.3836\n",
      "Epoch 68/200\n",
      "363/363 [==============================] - 1s 2ms/step - loss: 0.3835 - val_loss: 0.3816\n",
      "Epoch 69/200\n",
      "363/363 [==============================] - 1s 2ms/step - loss: 0.3819 - val_loss: 0.3805\n",
      "Epoch 70/200\n",
      "363/363 [==============================] - 1s 2ms/step - loss: 0.3814 - val_loss: 0.3814\n",
      "Epoch 71/200\n",
      "363/363 [==============================] - 1s 2ms/step - loss: 0.3810 - val_loss: 0.3790\n",
      "Epoch 72/200\n",
      "363/363 [==============================] - 1s 2ms/step - loss: 0.3796 - val_loss: 0.3775\n",
      "Epoch 73/200\n",
      "363/363 [==============================] - 1s 2ms/step - loss: 0.3786 - val_loss: 0.3770\n",
      "Epoch 74/200\n",
      "363/363 [==============================] - 1s 2ms/step - loss: 0.3779 - val_loss: 0.3758\n",
      "Epoch 75/200\n",
      "363/363 [==============================] - 1s 2ms/step - loss: 0.3766 - val_loss: 0.3763\n",
      "Epoch 76/200\n",
      "363/363 [==============================] - 1s 2ms/step - loss: 0.3762 - val_loss: 0.3747\n",
      "Epoch 77/200\n",
      "363/363 [==============================] - 1s 2ms/step - loss: 0.3751 - val_loss: 0.3747\n",
      "Epoch 78/200\n",
      "363/363 [==============================] - 1s 2ms/step - loss: 0.3747 - val_loss: 0.3727\n",
      "Epoch 79/200\n",
      "363/363 [==============================] - 1s 2ms/step - loss: 0.3733 - val_loss: 0.3745\n",
      "Epoch 80/200\n",
      "363/363 [==============================] - 1s 2ms/step - loss: 0.3721 - val_loss: 0.3710\n",
      "Epoch 81/200\n",
      "363/363 [==============================] - 1s 2ms/step - loss: 0.3718 - val_loss: 0.3707\n",
      "Epoch 82/200\n",
      "363/363 [==============================] - 1s 3ms/step - loss: 0.3706 - val_loss: 0.3692\n",
      "Epoch 83/200\n",
      "363/363 [==============================] - 1s 3ms/step - loss: 0.3697 - val_loss: 0.3682\n",
      "Epoch 84/200\n",
      "363/363 [==============================] - 1s 3ms/step - loss: 0.3688 - val_loss: 0.3674\n",
      "Epoch 85/200\n",
      "363/363 [==============================] - 1s 2ms/step - loss: 0.3676 - val_loss: 0.3675\n",
      "Epoch 86/200\n",
      "363/363 [==============================] - 1s 2ms/step - loss: 0.3678 - val_loss: 0.3656\n",
      "Epoch 87/200\n",
      "363/363 [==============================] - 1s 2ms/step - loss: 0.3666 - val_loss: 0.3652\n",
      "Epoch 88/200\n",
      "363/363 [==============================] - 1s 2ms/step - loss: 0.3652 - val_loss: 0.3662\n",
      "Epoch 89/200\n",
      "363/363 [==============================] - 1s 2ms/step - loss: 0.3650 - val_loss: 0.3646\n",
      "Epoch 90/200\n",
      "363/363 [==============================] - 1s 2ms/step - loss: 0.3639 - val_loss: 0.3631\n",
      "Epoch 91/200\n",
      "363/363 [==============================] - 1s 3ms/step - loss: 0.3635 - val_loss: 0.3626\n",
      "Epoch 92/200\n",
      "363/363 [==============================] - 1s 2ms/step - loss: 0.3623 - val_loss: 0.3614\n",
      "Epoch 93/200\n",
      "363/363 [==============================] - 1s 2ms/step - loss: 0.3622 - val_loss: 0.3620\n",
      "Epoch 94/200\n",
      "363/363 [==============================] - 1s 3ms/step - loss: 0.3615 - val_loss: 0.3600\n",
      "Epoch 95/200\n",
      "363/363 [==============================] - 1s 3ms/step - loss: 0.3601 - val_loss: 0.3600\n",
      "Epoch 96/200\n",
      "363/363 [==============================] - 1s 2ms/step - loss: 0.3592 - val_loss: 0.3594\n",
      "Epoch 97/200\n",
      "363/363 [==============================] - 1s 2ms/step - loss: 0.3595 - val_loss: 0.3588\n",
      "Epoch 98/200\n",
      "363/363 [==============================] - 1s 2ms/step - loss: 0.3587 - val_loss: 0.3579\n",
      "Epoch 99/200\n",
      "363/363 [==============================] - 1s 2ms/step - loss: 0.3587 - val_loss: 0.3572\n",
      "Epoch 100/200\n",
      "363/363 [==============================] - 1s 2ms/step - loss: 0.3569 - val_loss: 0.3560\n",
      "Epoch 101/200\n",
      "363/363 [==============================] - 1s 2ms/step - loss: 0.3561 - val_loss: 0.3561\n",
      "Epoch 102/200\n",
      "363/363 [==============================] - 1s 2ms/step - loss: 0.3555 - val_loss: 0.3561\n",
      "Epoch 103/200\n",
      "363/363 [==============================] - 1s 2ms/step - loss: 0.3553 - val_loss: 0.3551\n",
      "Epoch 104/200\n",
      "363/363 [==============================] - 1s 2ms/step - loss: 0.3545 - val_loss: 0.3543\n",
      "Epoch 105/200\n",
      "363/363 [==============================] - 1s 3ms/step - loss: 0.3542 - val_loss: 0.3538\n",
      "Epoch 106/200\n",
      "363/363 [==============================] - 1s 2ms/step - loss: 0.3535 - val_loss: 0.3533\n",
      "Epoch 107/200\n",
      "363/363 [==============================] - 1s 2ms/step - loss: 0.3534 - val_loss: 0.3542\n",
      "Epoch 108/200\n",
      "363/363 [==============================] - 1s 2ms/step - loss: 0.3521 - val_loss: 0.3525\n",
      "Epoch 109/200\n",
      "363/363 [==============================] - 1s 2ms/step - loss: 0.3515 - val_loss: 0.3514\n",
      "Epoch 110/200\n",
      "363/363 [==============================] - 1s 2ms/step - loss: 0.3518 - val_loss: 0.3528\n",
      "Epoch 111/200\n",
      "363/363 [==============================] - 1s 2ms/step - loss: 0.3507 - val_loss: 0.3509\n",
      "Epoch 112/200\n",
      "363/363 [==============================] - 1s 2ms/step - loss: 0.3498 - val_loss: 0.3513\n",
      "Epoch 113/200\n",
      "363/363 [==============================] - 1s 2ms/step - loss: 0.3493 - val_loss: 0.3495\n",
      "Epoch 114/200\n",
      "363/363 [==============================] - 1s 2ms/step - loss: 0.3492 - val_loss: 0.3489\n",
      "Epoch 115/200\n",
      "363/363 [==============================] - 1s 2ms/step - loss: 0.3486 - val_loss: 0.3489\n",
      "Epoch 116/200\n",
      "363/363 [==============================] - 1s 2ms/step - loss: 0.3477 - val_loss: 0.3484\n",
      "Epoch 117/200\n",
      "363/363 [==============================] - 1s 2ms/step - loss: 0.3480 - val_loss: 0.3477\n",
      "Epoch 118/200\n",
      "363/363 [==============================] - 1s 2ms/step - loss: 0.3469 - val_loss: 0.3474\n",
      "Epoch 119/200\n",
      "363/363 [==============================] - 1s 2ms/step - loss: 0.3461 - val_loss: 0.3476\n",
      "Epoch 120/200\n",
      "363/363 [==============================] - 1s 2ms/step - loss: 0.3456 - val_loss: 0.3478\n",
      "Epoch 121/200\n",
      "363/363 [==============================] - 1s 2ms/step - loss: 0.3453 - val_loss: 0.3456\n",
      "Epoch 122/200\n",
      "363/363 [==============================] - 1s 2ms/step - loss: 0.3447 - val_loss: 0.3451\n",
      "Epoch 123/200\n",
      "363/363 [==============================] - 1s 2ms/step - loss: 0.3442 - val_loss: 0.3445\n",
      "Epoch 124/200\n",
      "363/363 [==============================] - 1s 2ms/step - loss: 0.3432 - val_loss: 0.3439\n",
      "Epoch 125/200\n",
      "363/363 [==============================] - 1s 2ms/step - loss: 0.3434 - val_loss: 0.3449\n",
      "Epoch 126/200\n",
      "363/363 [==============================] - 1s 2ms/step - loss: 0.3428 - val_loss: 0.3426\n",
      "Epoch 127/200\n",
      "363/363 [==============================] - 1s 2ms/step - loss: 0.3429 - val_loss: 0.3439\n",
      "Epoch 128/200\n",
      "363/363 [==============================] - 1s 2ms/step - loss: 0.3423 - val_loss: 0.3427\n",
      "Epoch 129/200\n",
      "363/363 [==============================] - 1s 2ms/step - loss: 0.3430 - val_loss: 0.3419\n",
      "Epoch 130/200\n",
      "363/363 [==============================] - 1s 2ms/step - loss: 0.3409 - val_loss: 0.3433\n",
      "Epoch 131/200\n",
      "363/363 [==============================] - 1s 2ms/step - loss: 0.3406 - val_loss: 0.3405\n",
      "Epoch 132/200\n",
      "363/363 [==============================] - 1s 2ms/step - loss: 0.3396 - val_loss: 0.3406\n",
      "Epoch 133/200\n",
      "363/363 [==============================] - 1s 2ms/step - loss: 0.3394 - val_loss: 0.3413\n",
      "Epoch 134/200\n",
      "363/363 [==============================] - 1s 2ms/step - loss: 0.3391 - val_loss: 0.3392\n",
      "Epoch 135/200\n",
      "363/363 [==============================] - 1s 2ms/step - loss: 0.3380 - val_loss: 0.3392\n",
      "Epoch 136/200\n",
      "363/363 [==============================] - 1s 2ms/step - loss: 0.3391 - val_loss: 0.3392\n",
      "Epoch 137/200\n",
      "363/363 [==============================] - 1s 2ms/step - loss: 0.3373 - val_loss: 0.3400\n",
      "Epoch 138/200\n",
      "363/363 [==============================] - 1s 2ms/step - loss: 0.3370 - val_loss: 0.3378\n",
      "Epoch 139/200\n",
      "363/363 [==============================] - 1s 2ms/step - loss: 0.3369 - val_loss: 0.3388\n",
      "Epoch 140/200\n",
      "363/363 [==============================] - 1s 2ms/step - loss: 0.3366 - val_loss: 0.3377\n",
      "Epoch 141/200\n",
      "363/363 [==============================] - 1s 2ms/step - loss: 0.3356 - val_loss: 0.3367\n",
      "Epoch 142/200\n",
      "363/363 [==============================] - 1s 2ms/step - loss: 0.3355 - val_loss: 0.3367\n",
      "Epoch 143/200\n",
      "363/363 [==============================] - 1s 2ms/step - loss: 0.3353 - val_loss: 0.3360\n",
      "Epoch 144/200\n",
      "363/363 [==============================] - 1s 2ms/step - loss: 0.3345 - val_loss: 0.3366\n",
      "Epoch 145/200\n",
      "363/363 [==============================] - 1s 2ms/step - loss: 0.3340 - val_loss: 0.3355\n",
      "Epoch 146/200\n",
      "363/363 [==============================] - 1s 2ms/step - loss: 0.3349 - val_loss: 0.3347\n",
      "Epoch 147/200\n",
      "363/363 [==============================] - 1s 2ms/step - loss: 0.3333 - val_loss: 0.3345\n",
      "Epoch 148/200\n",
      "363/363 [==============================] - 1s 2ms/step - loss: 0.3329 - val_loss: 0.3335\n",
      "Epoch 149/200\n",
      "363/363 [==============================] - 1s 2ms/step - loss: 0.3324 - val_loss: 0.3341\n",
      "Epoch 150/200\n",
      "363/363 [==============================] - 1s 2ms/step - loss: 0.3317 - val_loss: 0.3331\n",
      "Epoch 151/200\n",
      "363/363 [==============================] - 1s 2ms/step - loss: 0.3327 - val_loss: 0.3338\n",
      "Epoch 152/200\n",
      "363/363 [==============================] - 1s 2ms/step - loss: 0.3310 - val_loss: 0.3322\n",
      "Epoch 153/200\n",
      "363/363 [==============================] - 1s 2ms/step - loss: 0.3310 - val_loss: 0.3337\n",
      "Epoch 154/200\n",
      "363/363 [==============================] - 1s 2ms/step - loss: 0.3306 - val_loss: 0.3334\n",
      "Epoch 155/200\n",
      "363/363 [==============================] - 1s 2ms/step - loss: 0.3301 - val_loss: 0.3316\n",
      "Epoch 156/200\n",
      "363/363 [==============================] - 1s 2ms/step - loss: 0.3303 - val_loss: 0.3323\n",
      "Epoch 157/200\n",
      "363/363 [==============================] - 1s 2ms/step - loss: 0.3299 - val_loss: 0.3305\n",
      "Epoch 158/200\n",
      "363/363 [==============================] - 1s 2ms/step - loss: 0.3289 - val_loss: 0.3315\n",
      "Epoch 159/200\n",
      "363/363 [==============================] - 1s 2ms/step - loss: 0.3288 - val_loss: 0.3298\n",
      "Epoch 160/200\n",
      "363/363 [==============================] - 1s 2ms/step - loss: 0.3277 - val_loss: 0.3290\n"
     ]
    },
    {
     "name": "stdout",
     "output_type": "stream",
     "text": [
      "Epoch 161/200\n",
      "363/363 [==============================] - 1s 2ms/step - loss: 0.3282 - val_loss: 0.3301\n",
      "Epoch 162/200\n",
      "363/363 [==============================] - 1s 2ms/step - loss: 0.3271 - val_loss: 0.3283\n",
      "Epoch 163/200\n",
      "363/363 [==============================] - 1s 3ms/step - loss: 0.3269 - val_loss: 0.3289\n",
      "Epoch 164/200\n",
      "363/363 [==============================] - 1s 3ms/step - loss: 0.3264 - val_loss: 0.3293\n",
      "Epoch 165/200\n",
      "363/363 [==============================] - 1s 2ms/step - loss: 0.3260 - val_loss: 0.3272\n",
      "Epoch 166/200\n",
      "363/363 [==============================] - 1s 2ms/step - loss: 0.3263 - val_loss: 0.3294\n",
      "Epoch 167/200\n",
      "363/363 [==============================] - 1s 3ms/step - loss: 0.3261 - val_loss: 0.3263\n",
      "Epoch 168/200\n",
      "363/363 [==============================] - 1s 3ms/step - loss: 0.3250 - val_loss: 0.3280\n",
      "Epoch 169/200\n",
      "363/363 [==============================] - 1s 2ms/step - loss: 0.3251 - val_loss: 0.3280\n",
      "Epoch 170/200\n",
      "363/363 [==============================] - 1s 2ms/step - loss: 0.3232 - val_loss: 0.3255\n",
      "Epoch 171/200\n",
      "363/363 [==============================] - 1s 2ms/step - loss: 0.3237 - val_loss: 0.3273\n",
      "Epoch 172/200\n",
      "363/363 [==============================] - 1s 2ms/step - loss: 0.3235 - val_loss: 0.3255\n",
      "Epoch 173/200\n",
      "363/363 [==============================] - 1s 2ms/step - loss: 0.3227 - val_loss: 0.3245\n",
      "Epoch 174/200\n",
      "363/363 [==============================] - 1s 2ms/step - loss: 0.3223 - val_loss: 0.3259\n",
      "Epoch 175/200\n",
      "363/363 [==============================] - 1s 2ms/step - loss: 0.3230 - val_loss: 0.3245\n",
      "Epoch 176/200\n",
      "363/363 [==============================] - 1s 2ms/step - loss: 0.3234 - val_loss: 0.3274\n",
      "Epoch 177/200\n",
      "363/363 [==============================] - 1s 2ms/step - loss: 0.3229 - val_loss: 0.3242\n",
      "Epoch 178/200\n",
      "363/363 [==============================] - 1s 2ms/step - loss: 0.3221 - val_loss: 0.3255\n",
      "Epoch 179/200\n",
      "363/363 [==============================] - 1s 2ms/step - loss: 0.3217 - val_loss: 0.3221\n",
      "Epoch 180/200\n",
      "363/363 [==============================] - 1s 2ms/step - loss: 0.3212 - val_loss: 0.3221\n",
      "Epoch 181/200\n",
      "363/363 [==============================] - 1s 2ms/step - loss: 0.3195 - val_loss: 0.3223\n",
      "Epoch 182/200\n",
      "363/363 [==============================] - 1s 2ms/step - loss: 0.3200 - val_loss: 0.3229\n",
      "Epoch 183/200\n",
      "363/363 [==============================] - 1s 2ms/step - loss: 0.3189 - val_loss: 0.3210\n",
      "Epoch 184/200\n",
      "363/363 [==============================] - 1s 2ms/step - loss: 0.3188 - val_loss: 0.3215\n",
      "Epoch 185/200\n",
      "363/363 [==============================] - 1s 2ms/step - loss: 0.3187 - val_loss: 0.3224\n",
      "Epoch 186/200\n",
      "363/363 [==============================] - 1s 2ms/step - loss: 0.3195 - val_loss: 0.3222\n",
      "Epoch 187/200\n",
      "363/363 [==============================] - 1s 2ms/step - loss: 0.3196 - val_loss: 0.3229\n",
      "Epoch 188/200\n",
      "363/363 [==============================] - 1s 2ms/step - loss: 0.3199 - val_loss: 0.3238\n",
      "Epoch 189/200\n",
      "363/363 [==============================] - 1s 2ms/step - loss: 0.3218 - val_loss: 0.3212\n",
      "Epoch 190/200\n",
      "363/363 [==============================] - 1s 2ms/step - loss: 0.3243 - val_loss: 0.3212\n",
      "Epoch 191/200\n",
      "363/363 [==============================] - 1s 2ms/step - loss: 0.3174 - val_loss: 0.3197\n",
      "Epoch 192/200\n",
      "363/363 [==============================] - 1s 2ms/step - loss: 0.3180 - val_loss: 0.3215\n",
      "Epoch 193/200\n",
      "363/363 [==============================] - 1s 2ms/step - loss: 0.3172 - val_loss: 0.3190\n",
      "Epoch 194/200\n",
      "363/363 [==============================] - 1s 2ms/step - loss: 0.3160 - val_loss: 0.3179\n",
      "Epoch 195/200\n",
      "363/363 [==============================] - 1s 2ms/step - loss: 0.3150 - val_loss: 0.3185\n",
      "Epoch 196/200\n",
      "363/363 [==============================] - 1s 2ms/step - loss: 0.3150 - val_loss: 0.3171\n",
      "Epoch 197/200\n",
      "363/363 [==============================] - 1s 2ms/step - loss: 0.3140 - val_loss: 0.3166\n",
      "Epoch 198/200\n",
      "363/363 [==============================] - 1s 2ms/step - loss: 0.3144 - val_loss: 0.3181\n",
      "Epoch 199/200\n",
      "363/363 [==============================] - 1s 2ms/step - loss: 0.3137 - val_loss: 0.3169\n",
      "Epoch 200/200\n",
      "363/363 [==============================] - 1s 2ms/step - loss: 0.3135 - val_loss: 0.3157\n"
     ]
    }
   ],
   "source": [
    "history = model.fit(X_Train , Y_Train , epochs = 200 , validation_data = (X_Valid , Y_Valid) ,\n",
    "                    callbacks = [checkpoint_cb , early_stopping_cb])"
   ]
  },
  {
   "cell_type": "code",
   "execution_count": 237,
   "id": "ff427fc1",
   "metadata": {},
   "outputs": [],
   "source": [
    "model = keras.models.load_model('Early-Stop-Model.h5')"
   ]
  },
  {
   "cell_type": "code",
   "execution_count": 238,
   "id": "c67b9b9b",
   "metadata": {},
   "outputs": [
    {
     "name": "stdout",
     "output_type": "stream",
     "text": [
      "162/162 [==============================] - 1s 2ms/step - loss: 0.3403\n"
     ]
    }
   ],
   "source": [
    "mse_test = model.evaluate(X_Test , Y_Test)"
   ]
  },
  {
   "cell_type": "code",
   "execution_count": null,
   "id": "4dc699fe",
   "metadata": {},
   "outputs": [],
   "source": []
  }
 ],
 "metadata": {
  "kernelspec": {
   "display_name": "Python 3 (ipykernel)",
   "language": "python",
   "name": "python3"
  },
  "language_info": {
   "codemirror_mode": {
    "name": "ipython",
    "version": 3
   },
   "file_extension": ".py",
   "mimetype": "text/x-python",
   "name": "python",
   "nbconvert_exporter": "python",
   "pygments_lexer": "ipython3",
   "version": "3.9.13"
  }
 },
 "nbformat": 4,
 "nbformat_minor": 5
}
