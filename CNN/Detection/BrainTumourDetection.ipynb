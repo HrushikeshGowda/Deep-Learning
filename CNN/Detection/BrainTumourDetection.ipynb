{
 "cells": [
  {
   "cell_type": "code",
   "execution_count": 1,
   "id": "93e71fe4",
   "metadata": {},
   "outputs": [],
   "source": [
    "import warnings\n",
    "warnings.filterwarnings(\"ignore\")"
   ]
  },
  {
   "cell_type": "code",
   "execution_count": 2,
   "id": "0b378f1b",
   "metadata": {},
   "outputs": [],
   "source": [
    "import numpy as np\n",
    "import pandas as pd\n",
    "import matplotlib.pyplot as plt\n",
    "import glob\n",
    "import os\n",
    "import shutil\n",
    "import math\n",
    "import imutils\n",
    "import cv2"
   ]
  },
  {
   "cell_type": "code",
   "execution_count": 34,
   "id": "b7874f0e",
   "metadata": {},
   "outputs": [
    {
     "data": {
      "text/plain": [
       "{'Brain Tumor': 2513, 'Healthy': 2087}"
      ]
     },
     "execution_count": 34,
     "metadata": {},
     "output_type": "execute_result"
    }
   ],
   "source": [
    "root_dir = r'brain_tumour_healthy\\Brain Tumor Data Set\\Brain Tumor Data Set'\n",
    "\n",
    "num_of_images = {}\n",
    "\n",
    "for i in os.listdir(root_dir):\n",
    "    num_of_images[i] = len(os.listdir(os.path.join(root_dir , i)))\n",
    "        \n",
    "num_of_images"
   ]
  },
  {
   "cell_type": "code",
   "execution_count": null,
   "id": "59c52ebe",
   "metadata": {},
   "outputs": [],
   "source": [
    "if not os.path.exists(root_dir+'\\\\train'):\n",
    "    os.mkdir(root_dir+'\\\\train')\n",
    "    \n",
    "    for dirty in os.listdir(root_dir):\n",
    "        if (dirty == 'train') | (dirty=='test'):\n",
    "            pass\n",
    "        else:\n",
    "            os.mkdir(root_dir+'\\\\train/'+dirty)\n",
    "            for img in np.random.choice(a = os.listdir(os.path.join(root_dir,dirty)),\n",
    "                                       size = (math.floor(70/100*num_of_images[dirty])-5) , replace = False):\n",
    "                src = os.path.join(root_dir,dirty, img)\n",
    "                dest = os.path.join(root_dir+'\\\\train', dirty)\n",
    "                shutil.copy(src , dest)\n",
    "                os.remove(src)\n",
    "else:\n",
    "    print(\"Train Folder Exists\")"
   ]
  },
  {
   "cell_type": "code",
   "execution_count": 38,
   "id": "4edb8333",
   "metadata": {},
   "outputs": [],
   "source": [
    "if not os.path.exists(root_dir+'\\\\test'):\n",
    "    os.mkdir(root_dir+'\\\\test')\n",
    "    \n",
    "    for dirty in os.listdir(root_dir):\n",
    "        if (dirty == 'train') | (dirty=='test'):\n",
    "            pass\n",
    "        else:\n",
    "            os.mkdir(root_dir+'\\\\test/'+dirty)\n",
    "            for img in np.random.choice(a = os.listdir(os.path.join(root_dir,dirty)),\n",
    "                                       size = (math.floor(15/100*num_of_images[dirty])-5) , replace = False):\n",
    "                src = os.path.join(root_dir,dirty, img)\n",
    "                dest = os.path.join(root_dir+'\\\\test', dirty)\n",
    "                shutil.copy(src , dest)\n",
    "                os.remove(src)\n",
    "else:\n",
    "    print(\"Test Folder Exists\")"
   ]
  },
  {
   "cell_type": "code",
   "execution_count": 49,
   "id": "03da547a",
   "metadata": {},
   "outputs": [],
   "source": [
    "if not os.path.exists(root_dir+'\\\\val'):\n",
    "    os.mkdir(root_dir+'\\\\val')\n",
    "    \n",
    "    for dirty in os.listdir(root_dir):\n",
    "        if (dirty == 'train') | (dirty=='test') | (dirty == 'val'):\n",
    "            pass\n",
    "        else:\n",
    "            os.mkdir(root_dir+'\\\\val/'+dirty)\n",
    "            for img in np.random.choice(a = os.listdir(os.path.join(root_dir,dirty)),\n",
    "                                       size = (math.floor(15/100*num_of_images[dirty])-5) , replace = False):\n",
    "                src = os.path.join(root_dir,dirty, img)\n",
    "                dest = os.path.join(root_dir+'\\\\val', dirty)\n",
    "                shutil.copy(src , dest)\n",
    "                os.remove(src)\n",
    "else:\n",
    "    print(\"Val Folder Exists\")"
   ]
  },
  {
   "cell_type": "code",
   "execution_count": 40,
   "id": "fe520d80",
   "metadata": {},
   "outputs": [],
   "source": [
    "from keras.layers import Dense,Conv2D,Flatten,MaxPool2D,Dropout,BatchNormalization,MaxPooling2D,GlobalAvgPool2D\n",
    "from keras.preprocessing import image\n",
    "from keras.models import Sequential\n",
    "import keras"
   ]
  },
  {
   "cell_type": "markdown",
   "id": "e12965ca",
   "metadata": {},
   "source": [
    "## CNN MODEL"
   ]
  },
  {
   "cell_type": "code",
   "execution_count": 62,
   "id": "24c8ebd5",
   "metadata": {},
   "outputs": [],
   "source": [
    "model = Sequential()\n",
    "model.add(Conv2D(filters = 16,kernel_size = (3,3) , activation = 'relu', input_shape = (224,224,3)))\n",
    "\n",
    "model.add(Conv2D(filters = 32,kernel_size = (3,3) , activation = 'relu'))\n",
    "model.add(MaxPool2D(pool_size = (2,2)))\n",
    "\n",
    "model.add(Conv2D(filters = 64,kernel_size = (3,3) , activation = 'relu'))\n",
    "model.add(MaxPool2D(pool_size = (2,2)))\n",
    "\n",
    "model.add(Conv2D(filters = 128,kernel_size = (3,3) , activation = 'relu'))\n",
    "model.add(MaxPool2D(pool_size = (2,2)))\n",
    "\n",
    "model.add(Dropout(rate = 0.25))\n",
    "\n",
    "model.add(Flatten())\n",
    "model.add(Dense(units = 64 , activation = 'relu'))\n",
    "model.add(Dropout(rate = 0.25))\n",
    "model.add(Dense(units = 1,activation = 'sigmoid'))"
   ]
  },
  {
   "cell_type": "code",
   "execution_count": 63,
   "id": "75caebbb",
   "metadata": {},
   "outputs": [
    {
     "name": "stdout",
     "output_type": "stream",
     "text": [
      "Model: \"sequential_2\"\n",
      "_________________________________________________________________\n",
      "Layer (type)                 Output Shape              Param #   \n",
      "=================================================================\n",
      "conv2d_8 (Conv2D)            (None, 222, 222, 16)      448       \n",
      "_________________________________________________________________\n",
      "conv2d_9 (Conv2D)            (None, 220, 220, 32)      4640      \n",
      "_________________________________________________________________\n",
      "max_pooling2d_6 (MaxPooling2 (None, 110, 110, 32)      0         \n",
      "_________________________________________________________________\n",
      "conv2d_10 (Conv2D)           (None, 108, 108, 64)      18496     \n",
      "_________________________________________________________________\n",
      "max_pooling2d_7 (MaxPooling2 (None, 54, 54, 64)        0         \n",
      "_________________________________________________________________\n",
      "conv2d_11 (Conv2D)           (None, 52, 52, 128)       73856     \n",
      "_________________________________________________________________\n",
      "max_pooling2d_8 (MaxPooling2 (None, 26, 26, 128)       0         \n",
      "_________________________________________________________________\n",
      "dropout_4 (Dropout)          (None, 26, 26, 128)       0         \n",
      "_________________________________________________________________\n",
      "flatten_2 (Flatten)          (None, 86528)             0         \n",
      "_________________________________________________________________\n",
      "dense_4 (Dense)              (None, 64)                5537856   \n",
      "_________________________________________________________________\n",
      "dropout_5 (Dropout)          (None, 64)                0         \n",
      "_________________________________________________________________\n",
      "dense_5 (Dense)              (None, 1)                 65        \n",
      "=================================================================\n",
      "Total params: 5,635,361\n",
      "Trainable params: 5,635,361\n",
      "Non-trainable params: 0\n",
      "_________________________________________________________________\n"
     ]
    }
   ],
   "source": [
    "model.summary()"
   ]
  },
  {
   "cell_type": "code",
   "execution_count": 64,
   "id": "e9a22bfa",
   "metadata": {},
   "outputs": [],
   "source": [
    "model.compile(loss= keras.losses.binary_crossentropy , optimizer = 'adam' , metrics = ['accuracy'])"
   ]
  },
  {
   "cell_type": "code",
   "execution_count": 51,
   "id": "a2450d73",
   "metadata": {},
   "outputs": [],
   "source": [
    "train_datagen = image.ImageDataGenerator(\n",
    "                zoom_range = 0.2, shear_range = 0.2, rescale = 1./255 , horizontal_flip = True\n",
    ")\n",
    "\n",
    "val_datagen = image.ImageDataGenerator(rescale = 1./255)\n",
    "test_datagen = image.ImageDataGenerator(rescale = 1./255)"
   ]
  },
  {
   "cell_type": "code",
   "execution_count": 52,
   "id": "34ea8548",
   "metadata": {},
   "outputs": [
    {
     "name": "stdout",
     "output_type": "stream",
     "text": [
      "Found 3209 images belonging to 2 classes.\n"
     ]
    }
   ],
   "source": [
    "train_data = train_datagen.flow_from_directory(directory = r'brain_tumour_healthy\\Brain Tumor Data Set\\Brain Tumor Data Set\\train',\n",
    "                                              target_size = (224,224) , batch_size = 32 , class_mode = 'binary')"
   ]
  },
  {
   "cell_type": "code",
   "execution_count": 53,
   "id": "8060d966",
   "metadata": {},
   "outputs": [
    {
     "name": "stdout",
     "output_type": "stream",
     "text": [
      "Found 679 images belonging to 2 classes.\n"
     ]
    }
   ],
   "source": [
    "val_data = val_datagen.flow_from_directory(directory = r'brain_tumour_healthy\\Brain Tumor Data Set\\Brain Tumor Data Set\\val',\n",
    "                                              target_size = (224,224) , batch_size = 32 , class_mode = 'binary')"
   ]
  },
  {
   "cell_type": "code",
   "execution_count": 54,
   "id": "85202514",
   "metadata": {},
   "outputs": [
    {
     "name": "stdout",
     "output_type": "stream",
     "text": [
      "Found 679 images belonging to 2 classes.\n"
     ]
    }
   ],
   "source": [
    "test_data = test_datagen.flow_from_directory(directory = r'brain_tumour_healthy\\Brain Tumor Data Set\\Brain Tumor Data Set\\test',\n",
    "                                              target_size = (224,224) , batch_size = 32 , class_mode = 'binary')"
   ]
  },
  {
   "cell_type": "code",
   "execution_count": 56,
   "id": "946c28d1",
   "metadata": {},
   "outputs": [],
   "source": [
    "from keras.callbacks import ModelCheckpoint , EarlyStopping"
   ]
  },
  {
   "cell_type": "code",
   "execution_count": 65,
   "id": "2b7513ac",
   "metadata": {},
   "outputs": [],
   "source": [
    "es = EarlyStopping(monitor= 'val_accuracy', min_delta = 0.01, patience = 5,verbose = 1 , mode = 'auto')\n",
    "\n",
    "mc = ModelCheckpoint(filepath = 'braintumour_best_model.h5' , monitor= 'val_accuracy', min_delta = 0.01, patience = 5,verbose = 1 ,\n",
    "                     mode = 'auto', save_best_only = True)\n",
    "\n",
    "callback = [es,mc]"
   ]
  },
  {
   "cell_type": "code",
   "execution_count": null,
   "id": "85ff276d",
   "metadata": {},
   "outputs": [],
   "source": [
    "### Did two times == 30 epochs"
   ]
  },
  {
   "cell_type": "code",
   "execution_count": 66,
   "id": "3520ebb4",
   "metadata": {},
   "outputs": [
    {
     "name": "stdout",
     "output_type": "stream",
     "text": [
      "Epoch 1/30\n",
      "8/8 [==============================] - 19s 2s/step - loss: 0.7500 - accuracy: 0.5547 - val_loss: 0.6760 - val_accuracy: 0.5430\n",
      "\n",
      "Epoch 00001: val_accuracy improved from -inf to 0.54297, saving model to braintumour_best_model.h5\n",
      "Epoch 2/30\n",
      "8/8 [==============================] - 16s 2s/step - loss: 0.6909 - accuracy: 0.5469 - val_loss: 0.6814 - val_accuracy: 0.5645\n",
      "\n",
      "Epoch 00002: val_accuracy improved from 0.54297 to 0.56445, saving model to braintumour_best_model.h5\n",
      "Epoch 3/30\n",
      "8/8 [==============================] - 15s 2s/step - loss: 0.6921 - accuracy: 0.5039 - val_loss: 0.6410 - val_accuracy: 0.6250\n",
      "\n",
      "Epoch 00003: val_accuracy improved from 0.56445 to 0.62500, saving model to braintumour_best_model.h5\n",
      "Epoch 4/30\n",
      "8/8 [==============================] - 15s 2s/step - loss: 0.6699 - accuracy: 0.5859 - val_loss: 0.5893 - val_accuracy: 0.6680\n",
      "\n",
      "Epoch 00004: val_accuracy improved from 0.62500 to 0.66797, saving model to braintumour_best_model.h5\n",
      "Epoch 5/30\n",
      "8/8 [==============================] - 18s 2s/step - loss: 0.6584 - accuracy: 0.5938 - val_loss: 0.5956 - val_accuracy: 0.7324\n",
      "\n",
      "Epoch 00005: val_accuracy improved from 0.66797 to 0.73242, saving model to braintumour_best_model.h5\n",
      "Epoch 6/30\n",
      "8/8 [==============================] - 16s 2s/step - loss: 0.6271 - accuracy: 0.6680 - val_loss: 0.5817 - val_accuracy: 0.7227\n",
      "\n",
      "Epoch 00006: val_accuracy did not improve from 0.73242\n",
      "Epoch 7/30\n",
      "8/8 [==============================] - 15s 2s/step - loss: 0.6206 - accuracy: 0.7070 - val_loss: 0.5578 - val_accuracy: 0.7402\n",
      "\n",
      "Epoch 00007: val_accuracy improved from 0.73242 to 0.74023, saving model to braintumour_best_model.h5\n",
      "Epoch 8/30\n",
      "8/8 [==============================] - 16s 2s/step - loss: 0.6198 - accuracy: 0.7031 - val_loss: 0.5244 - val_accuracy: 0.7578\n",
      "\n",
      "Epoch 00008: val_accuracy improved from 0.74023 to 0.75781, saving model to braintumour_best_model.h5\n",
      "Epoch 9/30\n",
      "8/8 [==============================] - 15s 2s/step - loss: 0.5722 - accuracy: 0.7148 - val_loss: 0.4551 - val_accuracy: 0.7871\n",
      "\n",
      "Epoch 00009: val_accuracy improved from 0.75781 to 0.78711, saving model to braintumour_best_model.h5\n",
      "Epoch 10/30\n",
      "8/8 [==============================] - 13s 2s/step - loss: 0.6005 - accuracy: 0.7210 - val_loss: 0.5171 - val_accuracy: 0.7578\n",
      "\n",
      "Epoch 00010: val_accuracy did not improve from 0.78711\n",
      "Epoch 11/30\n",
      "8/8 [==============================] - 14s 2s/step - loss: 0.6216 - accuracy: 0.6719 - val_loss: 0.5368 - val_accuracy: 0.7871\n",
      "\n",
      "Epoch 00011: val_accuracy did not improve from 0.78711\n",
      "Epoch 12/30\n",
      "8/8 [==============================] - 15s 2s/step - loss: 0.6234 - accuracy: 0.6953 - val_loss: 0.4527 - val_accuracy: 0.8398\n",
      "\n",
      "Epoch 00012: val_accuracy improved from 0.78711 to 0.83984, saving model to braintumour_best_model.h5\n",
      "Epoch 13/30\n",
      "8/8 [==============================] - 15s 2s/step - loss: 0.5766 - accuracy: 0.7422 - val_loss: 0.4594 - val_accuracy: 0.7793\n",
      "\n",
      "Epoch 00013: val_accuracy did not improve from 0.83984\n",
      "Epoch 14/30\n",
      "8/8 [==============================] - 14s 2s/step - loss: 0.4934 - accuracy: 0.7773 - val_loss: 0.4509 - val_accuracy: 0.8027\n",
      "\n",
      "Epoch 00014: val_accuracy did not improve from 0.83984\n",
      "Epoch 15/30\n",
      "8/8 [==============================] - 14s 2s/step - loss: 0.5364 - accuracy: 0.7461 - val_loss: 0.5262 - val_accuracy: 0.7305\n",
      "\n",
      "Epoch 00015: val_accuracy did not improve from 0.83984\n",
      "Epoch 16/30\n",
      "8/8 [==============================] - 15s 2s/step - loss: 0.5795 - accuracy: 0.6875 - val_loss: 0.4992 - val_accuracy: 0.8027\n",
      "\n",
      "Epoch 00016: val_accuracy did not improve from 0.83984\n",
      "Epoch 17/30\n",
      "8/8 [==============================] - 14s 2s/step - loss: 0.5470 - accuracy: 0.7344 - val_loss: 0.4389 - val_accuracy: 0.8086\n",
      "\n",
      "Epoch 00017: val_accuracy did not improve from 0.83984\n",
      "Epoch 00017: early stopping\n"
     ]
    }
   ],
   "source": [
    "hist = model.fit_generator(generator = train_data , steps_per_epoch = 8 ,epochs = 30 , verbose = 1, validation_data = val_data,\n",
    "                          validation_steps = 16 , callbacks = callback) "
   ]
  },
  {
   "cell_type": "code",
   "execution_count": 67,
   "id": "e047295b",
   "metadata": {},
   "outputs": [],
   "source": [
    "from keras.models import load_model\n",
    "\n",
    "model= load_model(r'braintumour_best_model.h5')"
   ]
  },
  {
   "cell_type": "code",
   "execution_count": 68,
   "id": "4502a91c",
   "metadata": {},
   "outputs": [
    {
     "data": {
      "text/plain": [
       "[0.46641474962234497, 0.815905749797821]"
      ]
     },
     "execution_count": 68,
     "metadata": {},
     "output_type": "execute_result"
    }
   ],
   "source": [
    "model.evaluate_generator(generator = test_data)"
   ]
  },
  {
   "cell_type": "code",
   "execution_count": 69,
   "id": "33b7d187",
   "metadata": {},
   "outputs": [
    {
     "name": "stdout",
     "output_type": "stream",
     "text": [
      "the accuracy of the modelis = 81.5905749797821%\n"
     ]
    }
   ],
   "source": [
    "acc =  model.evaluate_generator(generator = test_data)[1]\n",
    "\n",
    "print(f\"the accuracy of the modelis = {acc*100}%\")"
   ]
  },
  {
   "cell_type": "code",
   "execution_count": 70,
   "id": "85ba394f",
   "metadata": {},
   "outputs": [
    {
     "data": {
      "text/plain": [
       "dict_keys(['loss', 'accuracy', 'val_loss', 'val_accuracy'])"
      ]
     },
     "execution_count": 70,
     "metadata": {},
     "output_type": "execute_result"
    }
   ],
   "source": [
    "h = hist.history\n",
    "h.keys()"
   ]
  },
  {
   "cell_type": "code",
   "execution_count": 74,
   "id": "df2ce8f1",
   "metadata": {},
   "outputs": [
    {
     "data": {
      "image/png": "[encoded data removed]",
      "text/plain": [
       "<Figure size 432x288 with 1 Axes>"
      ]
     },
     "metadata": {
      "needs_background": "light"
     },
     "output_type": "display_data"
    }
   ],
   "source": [
    "plt.plot(h['accuracy'], c = 'blue', label = 'acc')\n",
    "plt.plot(h['val_accuracy'],c = 'red' , label = 'val_acc')\n",
    "plt.title('acc vs v_acc')\n",
    "plt.legend()\n",
    "plt.show()"
   ]
  },
  {
   "cell_type": "code",
   "execution_count": 75,
   "id": "d9b34656",
   "metadata": {},
   "outputs": [
    {
     "data": {
      "image/png": "[encoded data removed]",
      "text/plain": [
       "<Figure size 432x288 with 1 Axes>"
      ]
     },
     "metadata": {
      "needs_background": "light"
     },
     "output_type": "display_data"
    }
   ],
   "source": [
    "plt.plot(h['loss'],c = 'blue',label = 'loss')\n",
    "plt.plot(h['val_loss'],c = 'red' , label = 'val_loss')\n",
    "plt.title('loss vs v_loss')\n",
    "plt.legend()\n",
    "plt.show()"
   ]
  },
  {
   "cell_type": "code",
   "execution_count": 76,
   "id": "2a1bebd6",
   "metadata": {},
   "outputs": [
    {
     "data": {
      "text/plain": [
       "(1, 224, 224, 3)"
      ]
     },
     "execution_count": 76,
     "metadata": {},
     "output_type": "execute_result"
    }
   ],
   "source": [
    "path = r'brain_tumour_healthy\\Brain Tumor Data Set\\Brain Tumor Data Set\\train\\Healthy\\Not Cancer  (20).jpg'\n",
    "img = image.load_img(path , target_size = (224,224),)\n",
    "\n",
    "i = image.img_to_array(img)/255\n",
    "input_arr = np.array([i])\n",
    "input_arr.shape"
   ]
  },
  {
   "cell_type": "code",
   "execution_count": 80,
   "id": "d14dc3c5",
   "metadata": {},
   "outputs": [
    {
     "data": {
      "text/plain": [
       "0.6229524"
      ]
     },
     "execution_count": 80,
     "metadata": {},
     "output_type": "execute_result"
    }
   ],
   "source": [
    "model.predict(input_arr)[0][0]"
   ]
  },
  {
   "cell_type": "code",
   "execution_count": 88,
   "id": "7221db09",
   "metadata": {},
   "outputs": [
    {
     "data": {
      "text/plain": [
       "0.6229524"
      ]
     },
     "execution_count": 88,
     "metadata": {},
     "output_type": "execute_result"
    }
   ],
   "source": [
    "pred = model.predict(input_arr)[0][0]\n",
    "pred"
   ]
  },
  {
   "cell_type": "code",
   "execution_count": 90,
   "id": "f8400194",
   "metadata": {},
   "outputs": [
    {
     "name": "stdout",
     "output_type": "stream",
     "text": [
      "He is healthy\n"
     ]
    }
   ],
   "source": [
    "if pred<0.5:\n",
    "    print(\"He has cancer\")\n",
    "else:\n",
    "    print(\"He is healthy\")"
   ]
  },
  {
   "cell_type": "code",
   "execution_count": null,
   "id": "c8aa99e7",
   "metadata": {},
   "outputs": [],
   "source": []
  }
 ],
 "metadata": {
  "kernelspec": {
   "display_name": "Python 3 (ipykernel)",
   "language": "python",
   "name": "python3"
  },
  "language_info": {
   "codemirror_mode": {
    "name": "ipython",
    "version": 3
   },
   "file_extension": ".py",
   "mimetype": "text/x-python",
   "name": "python",
   "nbconvert_exporter": "python",
   "pygments_lexer": "ipython3",
   "version": "3.9.13"
  }
 },
 "nbformat": 4,
 "nbformat_minor": 5
}
