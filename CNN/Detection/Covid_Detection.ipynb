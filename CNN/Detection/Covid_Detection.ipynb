{
 "cells": [
  {
   "cell_type": "code",
   "execution_count": 1,
   "id": "b3dc8f53",
   "metadata": {},
   "outputs": [],
   "source": [
    "import numpy as np\n",
    "import matplotlib.pyplot as plt\n",
    "from keras.layers import Dense,Conv2D,MaxPool2D,Dropout,Flatten\n",
    "from keras.models import Sequential\n",
    "from keras.preprocessing import image"
   ]
  },
  {
   "cell_type": "code",
   "execution_count": 3,
   "id": "ff45050b",
   "metadata": {},
   "outputs": [],
   "source": [
    "import numpy as np\n",
    "import pandas as pd\n",
    "import matplotlib.pyplot as plt\n",
    "import glob\n",
    "import os\n",
    "import shutil\n",
    "import math\n",
    "import imutils\n",
    "import cv2"
   ]
  },
  {
   "cell_type": "code",
   "execution_count": 4,
   "id": "7979aa54",
   "metadata": {},
   "outputs": [
    {
     "data": {
      "text/plain": [
       "{'COVID': 1252, 'non-COVID': 1229}"
      ]
     },
     "execution_count": 4,
     "metadata": {},
     "output_type": "execute_result"
    }
   ],
   "source": [
    "root_dir = r'coviddataset'\n",
    "\n",
    "num_of_images = {}\n",
    "\n",
    "for i in os.listdir(root_dir):\n",
    "    num_of_images[i] = len(os.listdir(os.path.join(root_dir , i)))\n",
    "        \n",
    "num_of_images"
   ]
  },
  {
   "cell_type": "code",
   "execution_count": 5,
   "id": "74945dbc",
   "metadata": {},
   "outputs": [],
   "source": [
    "if not os.path.exists(root_dir+'\\\\train'):\n",
    "    os.mkdir(root_dir+'\\\\train')\n",
    "    \n",
    "    for dirty in os.listdir(root_dir):\n",
    "        if (dirty == 'train') | (dirty=='test'):\n",
    "            pass\n",
    "        else:\n",
    "            os.mkdir(root_dir+'\\\\train/'+dirty)\n",
    "            for img in np.random.choice(a = os.listdir(os.path.join(root_dir,dirty)),\n",
    "                                       size = (math.floor(70/100*num_of_images[dirty])-5) , replace = False):\n",
    "                src = os.path.join(root_dir,dirty, img)\n",
    "                dest = os.path.join(root_dir+'\\\\train', dirty)\n",
    "                shutil.copy(src , dest)\n",
    "                os.remove(src)\n",
    "else:\n",
    "    print(\"Train Folder Exists\")"
   ]
  },
  {
   "cell_type": "code",
   "execution_count": 6,
   "id": "bf67b3ab",
   "metadata": {},
   "outputs": [],
   "source": [
    "if not os.path.exists(root_dir+'\\\\test'):\n",
    "    os.mkdir(root_dir+'\\\\test')\n",
    "    \n",
    "    for dirty in os.listdir(root_dir):\n",
    "        if (dirty == 'train') | (dirty=='test'):\n",
    "            pass\n",
    "        else:\n",
    "            os.mkdir(root_dir+'\\\\test/'+dirty)\n",
    "            for img in np.random.choice(a = os.listdir(os.path.join(root_dir,dirty)),\n",
    "                                       size = (math.floor(15/100*num_of_images[dirty])-5) , replace = False):\n",
    "                src = os.path.join(root_dir,dirty, img)\n",
    "                dest = os.path.join(root_dir+'\\\\test', dirty)\n",
    "                shutil.copy(src , dest)\n",
    "                os.remove(src)\n",
    "else:\n",
    "    print(\"Test Folder Exists\")"
   ]
  },
  {
   "cell_type": "code",
   "execution_count": 7,
   "id": "c70880bc",
   "metadata": {},
   "outputs": [],
   "source": [
    "if not os.path.exists(root_dir+'\\\\val'):\n",
    "    os.mkdir(root_dir+'\\\\val')\n",
    "    \n",
    "    for dirty in os.listdir(root_dir):\n",
    "        if (dirty == 'train') | (dirty=='test') | (dirty == 'val'):\n",
    "            pass\n",
    "        else:\n",
    "            os.mkdir(root_dir+'\\\\val/'+dirty)\n",
    "            for img in np.random.choice(a = os.listdir(os.path.join(root_dir,dirty)),\n",
    "                                       size = (math.floor(15/100*num_of_images[dirty])-5) , replace = False):\n",
    "                src = os.path.join(root_dir,dirty, img)\n",
    "                dest = os.path.join(root_dir+'\\\\val', dirty)\n",
    "                shutil.copy(src , dest)\n",
    "                os.remove(src)\n",
    "else:\n",
    "    print(\"Val Folder Exists\")"
   ]
  },
  {
   "cell_type": "code",
   "execution_count": 27,
   "id": "558b2f42",
   "metadata": {},
   "outputs": [
    {
     "name": "stdout",
     "output_type": "stream",
     "text": [
      "Found 1726 images belonging to 2 classes.\n"
     ]
    }
   ],
   "source": [
    "train_datagen = image.ImageDataGenerator(\n",
    "        rescale = 1./255,horizontal_flip = True,zoom_range = 0.2,shear_range = 0.2\n",
    ")\n",
    "\n",
    "train_data = train_datagen.flow_from_directory(directory = r'coviddataset\\train',\n",
    "                                              target_size = (256,256) , batch_size = 16 , class_mode = 'binary')"
   ]
  },
  {
   "cell_type": "code",
   "execution_count": 28,
   "id": "451adf1b",
   "metadata": {},
   "outputs": [
    {
     "data": {
      "text/plain": [
       "{'COVID': 0, 'non-COVID': 1}"
      ]
     },
     "execution_count": 28,
     "metadata": {},
     "output_type": "execute_result"
    }
   ],
   "source": [
    "train_data.class_indices"
   ]
  },
  {
   "cell_type": "code",
   "execution_count": 29,
   "id": "110f509f",
   "metadata": {},
   "outputs": [
    {
     "name": "stdout",
     "output_type": "stream",
     "text": [
      "Found 361 images belonging to 2 classes.\n"
     ]
    }
   ],
   "source": [
    "test_datagen = image.ImageDataGenerator(rescale = 1./255)\n",
    "\n",
    "test_data = test_datagen.flow_from_directory(directory = r'coviddataset\\test',\n",
    "                                              target_size = (256,256) , batch_size = 16 , class_mode = 'binary')"
   ]
  },
  {
   "cell_type": "code",
   "execution_count": 30,
   "id": "4cf37dea",
   "metadata": {},
   "outputs": [
    {
     "name": "stdout",
     "output_type": "stream",
     "text": [
      "Found 361 images belonging to 2 classes.\n"
     ]
    }
   ],
   "source": [
    "val_datagen = image.ImageDataGenerator(rescale = 1./255)\n",
    "\n",
    "val_data = val_datagen.flow_from_directory(directory = r'coviddataset\\val',\n",
    "                                              target_size = (256,256) , batch_size = 16 , class_mode = 'binary')"
   ]
  },
  {
   "cell_type": "code",
   "execution_count": 31,
   "id": "c075552a",
   "metadata": {},
   "outputs": [
    {
     "name": "stdout",
     "output_type": "stream",
     "text": [
      "Model: \"sequential_3\"\n",
      "_________________________________________________________________\n",
      "Layer (type)                 Output Shape              Param #   \n",
      "=================================================================\n",
      "conv2d_8 (Conv2D)            (None, 254, 254, 32)      896       \n",
      "_________________________________________________________________\n",
      "conv2d_9 (Conv2D)            (None, 252, 252, 64)      18496     \n",
      "_________________________________________________________________\n",
      "max_pooling2d_6 (MaxPooling2 (None, 126, 126, 64)      0         \n",
      "_________________________________________________________________\n",
      "dropout_8 (Dropout)          (None, 126, 126, 64)      0         \n",
      "_________________________________________________________________\n",
      "conv2d_10 (Conv2D)           (None, 124, 124, 64)      36928     \n",
      "_________________________________________________________________\n",
      "max_pooling2d_7 (MaxPooling2 (None, 62, 62, 64)        0         \n",
      "_________________________________________________________________\n",
      "dropout_9 (Dropout)          (None, 62, 62, 64)        0         \n",
      "_________________________________________________________________\n",
      "conv2d_11 (Conv2D)           (None, 60, 60, 128)       73856     \n",
      "_________________________________________________________________\n",
      "max_pooling2d_8 (MaxPooling2 (None, 30, 30, 128)       0         \n",
      "_________________________________________________________________\n",
      "dropout_10 (Dropout)         (None, 30, 30, 128)       0         \n",
      "_________________________________________________________________\n",
      "flatten_2 (Flatten)          (None, 115200)            0         \n",
      "_________________________________________________________________\n",
      "dense_4 (Dense)              (None, 64)                7372864   \n",
      "_________________________________________________________________\n",
      "dropout_11 (Dropout)         (None, 64)                0         \n",
      "_________________________________________________________________\n",
      "dense_5 (Dense)              (None, 1)                 65        \n",
      "=================================================================\n",
      "Total params: 7,503,105\n",
      "Trainable params: 7,503,105\n",
      "Non-trainable params: 0\n",
      "_________________________________________________________________\n"
     ]
    }
   ],
   "source": [
    "model = Sequential()\n",
    "model.add(Conv2D(filters = 32, kernel_size = (3,3) , activation = 'relu' , input_shape = (256,256,3)))\n",
    "\n",
    "model.add(Conv2D(filters = 64 , kernel_size = (3,3) , activation = 'relu'))\n",
    "model.add(MaxPool2D())\n",
    "model.add(Dropout(0.25))\n",
    "\n",
    "model.add(Conv2D(filters = 64 , kernel_size = (3,3) , activation = 'relu'))\n",
    "model.add(MaxPool2D())\n",
    "model.add(Dropout(0.25))\n",
    "\n",
    "model.add(Conv2D(filters = 128 , kernel_size = (3,3) , activation = 'relu'))\n",
    "model.add(MaxPool2D())\n",
    "model.add(Dropout(0.25))\n",
    "\n",
    "model.add(Flatten())\n",
    "model.add(Dense(units = 64, activation = 'relu'))\n",
    "model.add(Dropout(0.50))\n",
    "model.add(Dense(units = 1, activation = 'sigmoid'))\n",
    "\n",
    "model.summary()"
   ]
  },
  {
   "cell_type": "code",
   "execution_count": 17,
   "id": "d7f11be1",
   "metadata": {},
   "outputs": [],
   "source": [
    "import keras"
   ]
  },
  {
   "cell_type": "code",
   "execution_count": 36,
   "id": "cb4e6b3d",
   "metadata": {},
   "outputs": [],
   "source": [
    "model.compile(optimizer = 'adam' , loss = keras.losses.binary_crossentropy, metrics = ['accuracy'])"
   ]
  },
  {
   "cell_type": "code",
   "execution_count": 33,
   "id": "9843f385",
   "metadata": {},
   "outputs": [],
   "source": [
    "from keras.callbacks import ModelCheckpoint , EarlyStopping"
   ]
  },
  {
   "cell_type": "code",
   "execution_count": 34,
   "id": "eeea6cd3",
   "metadata": {},
   "outputs": [],
   "source": [
    "es = EarlyStopping(monitor= 'val_accuracy', min_delta = 0.01, patience = 5,verbose = 1 , mode = 'auto')\n",
    "\n",
    "mc = ModelCheckpoint(filepath = 'coviddetectcnn_best_model.h5' , monitor= 'val_accuracy', min_delta = 0.01, patience = 5,verbose = 1 ,\n",
    "                     mode = 'auto', save_best_only = True)\n",
    "\n",
    "callback = [es,mc]"
   ]
  },
  {
   "cell_type": "code",
   "execution_count": 35,
   "id": "bc28a5d8",
   "metadata": {},
   "outputs": [
    {
     "name": "stdout",
     "output_type": "stream",
     "text": [
      "Epoch 1/30\n",
      "20/20 [==============================] - 23s 988ms/step - loss: 1.2524 - accuracy: 0.4497 - val_loss: 0.6915 - val_accuracy: 0.5312\n",
      "\n",
      "Epoch 00001: val_accuracy improved from -inf to 0.53125, saving model to coviddetectcnn_best_model.h5\n",
      "Epoch 2/30\n",
      "20/20 [==============================] - 18s 901ms/step - loss: 0.6897 - accuracy: 0.5344 - val_loss: 0.6930 - val_accuracy: 0.4883\n",
      "\n",
      "Epoch 00002: val_accuracy did not improve from 0.53125\n",
      "Epoch 3/30\n",
      "20/20 [==============================] - 18s 886ms/step - loss: 0.6951 - accuracy: 0.5344 - val_loss: 0.6930 - val_accuracy: 0.5039\n",
      "\n",
      "Epoch 00003: val_accuracy did not improve from 0.53125\n",
      "Epoch 4/30\n",
      "20/20 [==============================] - 18s 881ms/step - loss: 0.6833 - accuracy: 0.5531 - val_loss: 0.6791 - val_accuracy: 0.5078\n",
      "\n",
      "Epoch 00004: val_accuracy did not improve from 0.53125\n",
      "Epoch 5/30\n",
      "20/20 [==============================] - 18s 900ms/step - loss: 0.7008 - accuracy: 0.5188 - val_loss: 0.6930 - val_accuracy: 0.4961\n",
      "\n",
      "Epoch 00005: val_accuracy did not improve from 0.53125\n",
      "Epoch 6/30\n",
      "20/20 [==============================] - 17s 865ms/step - loss: 0.6895 - accuracy: 0.5562 - val_loss: 0.6866 - val_accuracy: 0.6992\n",
      "\n",
      "Epoch 00006: val_accuracy improved from 0.53125 to 0.69922, saving model to coviddetectcnn_best_model.h5\n",
      "Epoch 7/30\n",
      "20/20 [==============================] - 18s 876ms/step - loss: 0.6841 - accuracy: 0.5437 - val_loss: 0.6793 - val_accuracy: 0.6406\n",
      "\n",
      "Epoch 00007: val_accuracy did not improve from 0.69922\n",
      "Epoch 8/30\n",
      "20/20 [==============================] - 18s 877ms/step - loss: 0.6841 - accuracy: 0.5281 - val_loss: 0.6854 - val_accuracy: 0.5781\n",
      "\n",
      "Epoch 00008: val_accuracy did not improve from 0.69922\n",
      "Epoch 9/30\n",
      "20/20 [==============================] - 18s 890ms/step - loss: 0.6769 - accuracy: 0.5938 - val_loss: 0.6545 - val_accuracy: 0.7109\n",
      "\n",
      "Epoch 00009: val_accuracy improved from 0.69922 to 0.71094, saving model to coviddetectcnn_best_model.h5\n",
      "Epoch 10/30\n",
      "20/20 [==============================] - 18s 892ms/step - loss: 0.6656 - accuracy: 0.5781 - val_loss: 0.6639 - val_accuracy: 0.6680\n",
      "\n",
      "Epoch 00010: val_accuracy did not improve from 0.71094\n",
      "Epoch 11/30\n",
      "20/20 [==============================] - 18s 887ms/step - loss: 0.6511 - accuracy: 0.6132 - val_loss: 0.6361 - val_accuracy: 0.7188\n",
      "\n",
      "Epoch 00011: val_accuracy improved from 0.71094 to 0.71875, saving model to coviddetectcnn_best_model.h5\n",
      "Epoch 12/30\n",
      "20/20 [==============================] - 18s 909ms/step - loss: 0.6518 - accuracy: 0.5943 - val_loss: 0.6594 - val_accuracy: 0.7344\n",
      "\n",
      "Epoch 00012: val_accuracy improved from 0.71875 to 0.73438, saving model to coviddetectcnn_best_model.h5\n",
      "Epoch 13/30\n",
      "20/20 [==============================] - 18s 891ms/step - loss: 0.6715 - accuracy: 0.6195 - val_loss: 0.6283 - val_accuracy: 0.7773\n",
      "\n",
      "Epoch 00013: val_accuracy improved from 0.73438 to 0.77734, saving model to coviddetectcnn_best_model.h5\n",
      "Epoch 14/30\n",
      "20/20 [==============================] - 18s 883ms/step - loss: 0.6719 - accuracy: 0.5813 - val_loss: 0.6425 - val_accuracy: 0.7188\n",
      "\n",
      "Epoch 00014: val_accuracy did not improve from 0.77734\n",
      "Epoch 15/30\n",
      "20/20 [==============================] - 18s 879ms/step - loss: 0.6503 - accuracy: 0.6406 - val_loss: 0.6177 - val_accuracy: 0.6875\n",
      "\n",
      "Epoch 00015: val_accuracy did not improve from 0.77734\n",
      "Epoch 16/30\n",
      "20/20 [==============================] - 17s 863ms/step - loss: 0.6527 - accuracy: 0.6187 - val_loss: 0.6631 - val_accuracy: 0.7656\n",
      "\n",
      "Epoch 00016: val_accuracy did not improve from 0.77734\n",
      "Epoch 17/30\n",
      "20/20 [==============================] - 17s 874ms/step - loss: 0.6758 - accuracy: 0.6132 - val_loss: 0.6414 - val_accuracy: 0.7539\n",
      "\n",
      "Epoch 00017: val_accuracy did not improve from 0.77734\n",
      "Epoch 18/30\n",
      "20/20 [==============================] - 17s 872ms/step - loss: 0.6255 - accuracy: 0.6094 - val_loss: 0.6460 - val_accuracy: 0.7188\n",
      "\n",
      "Epoch 00018: val_accuracy did not improve from 0.77734\n",
      "Epoch 00018: early stopping\n"
     ]
    }
   ],
   "source": [
    "hist = model.fit(train_data , steps_per_epoch = 20 ,epochs = 30 , verbose = 1, validation_data = val_data,\n",
    "                          validation_steps = 16 , callbacks = callback) "
   ]
  },
  {
   "cell_type": "code",
   "execution_count": 54,
   "id": "778f930b",
   "metadata": {},
   "outputs": [
    {
     "name": "stdout",
     "output_type": "stream",
     "text": [
      "Epoch 1/30\n",
      "20/20 [==============================] - 17s 787ms/step - loss: 0.4391 - accuracy: 0.7844 - val_loss: 0.3254 - val_accuracy: 0.8438\n",
      "\n",
      "Epoch 00001: val_accuracy improved from -inf to 0.84375, saving model to coviddetectcnn_best_model.h5\n",
      "Epoch 2/30\n",
      "20/20 [==============================] - 15s 761ms/step - loss: 0.5510 - accuracy: 0.7312 - val_loss: 0.4918 - val_accuracy: 0.9062\n",
      "\n",
      "Epoch 00002: val_accuracy improved from 0.84375 to 0.90625, saving model to coviddetectcnn_best_model.h5\n",
      "Epoch 3/30\n",
      "20/20 [==============================] - 16s 794ms/step - loss: 0.4813 - accuracy: 0.7358 - val_loss: 0.4094 - val_accuracy: 0.8750\n",
      "\n",
      "Epoch 00003: val_accuracy did not improve from 0.90625\n",
      "Epoch 4/30\n",
      "20/20 [==============================] - 16s 778ms/step - loss: 0.4542 - accuracy: 0.7906 - val_loss: 0.3995 - val_accuracy: 0.7500\n",
      "\n",
      "Epoch 00004: val_accuracy did not improve from 0.90625\n",
      "Epoch 5/30\n",
      "20/20 [==============================] - 15s 769ms/step - loss: 0.4676 - accuracy: 0.7812 - val_loss: 0.4015 - val_accuracy: 0.9375\n",
      "\n",
      "Epoch 00005: val_accuracy improved from 0.90625 to 0.93750, saving model to coviddetectcnn_best_model.h5\n",
      "Epoch 6/30\n",
      "20/20 [==============================] - 17s 798ms/step - loss: 0.5562 - accuracy: 0.7673 - val_loss: 0.5147 - val_accuracy: 0.9062\n",
      "\n",
      "Epoch 00006: val_accuracy did not improve from 0.93750\n",
      "Epoch 7/30\n",
      "20/20 [==============================] - 17s 822ms/step - loss: 0.5474 - accuracy: 0.7344 - val_loss: 0.4182 - val_accuracy: 0.8750\n",
      "\n",
      "Epoch 00007: val_accuracy did not improve from 0.93750\n",
      "Epoch 8/30\n",
      "20/20 [==============================] - 16s 768ms/step - loss: 0.5140 - accuracy: 0.7437 - val_loss: 0.3902 - val_accuracy: 0.7812\n",
      "\n",
      "Epoch 00008: val_accuracy did not improve from 0.93750\n",
      "Epoch 9/30\n",
      "20/20 [==============================] - 16s 781ms/step - loss: 0.4473 - accuracy: 0.7750 - val_loss: 0.3061 - val_accuracy: 0.9062\n",
      "\n",
      "Epoch 00009: val_accuracy did not improve from 0.93750\n",
      "Epoch 10/30\n",
      "20/20 [==============================] - 16s 753ms/step - loss: 0.5284 - accuracy: 0.7642 - val_loss: 0.3987 - val_accuracy: 0.7812\n",
      "\n",
      "Epoch 00010: val_accuracy did not improve from 0.93750\n",
      "Epoch 00010: early stopping\n"
     ]
    }
   ],
   "source": [
    "mc1 = ModelCheckpoint(filepath = 'coviddetectcnn_best_model.h5' , monitor= 'val_accuracy', min_delta = 0.01, patience = 5,verbose = 1 ,\n",
    "                     mode = 'auto', save_best_only = True)\n",
    "\n",
    "es1 = EarlyStopping(monitor= 'val_accuracy', min_delta = 0.01, patience = 5,verbose = 1 , mode = 'auto')\n",
    "\n",
    "callback1 = [es1, mc1]\n",
    "\n",
    "hist = model.fit(train_data , steps_per_epoch = 20 ,epochs = 30 , verbose = 1, validation_data = val_data,\n",
    "                          validation_steps = 2 , callbacks = callback1) "
   ]
  },
  {
   "cell_type": "code",
   "execution_count": 55,
   "id": "df8a76e8",
   "metadata": {},
   "outputs": [
    {
     "data": {
      "text/plain": [
       "dict_keys(['loss', 'accuracy', 'val_loss', 'val_accuracy'])"
      ]
     },
     "execution_count": 55,
     "metadata": {},
     "output_type": "execute_result"
    }
   ],
   "source": [
    "hist.history.keys()"
   ]
  },
  {
   "cell_type": "code",
   "execution_count": 56,
   "id": "6eb058fa",
   "metadata": {},
   "outputs": [
    {
     "data": {
      "text/plain": [
       "[0.84375,\n",
       " 0.90625,\n",
       " 0.875,\n",
       " 0.75,\n",
       " 0.9375,\n",
       " 0.90625,\n",
       " 0.875,\n",
       " 0.78125,\n",
       " 0.90625,\n",
       " 0.78125]"
      ]
     },
     "execution_count": 56,
     "metadata": {},
     "output_type": "execute_result"
    }
   ],
   "source": [
    "hist.history['val_accuracy']"
   ]
  },
  {
   "cell_type": "code",
   "execution_count": 57,
   "id": "d082031d",
   "metadata": {},
   "outputs": [],
   "source": [
    "from keras.models import load_model"
   ]
  },
  {
   "cell_type": "code",
   "execution_count": 58,
   "id": "f1455274",
   "metadata": {},
   "outputs": [],
   "source": [
    "model = load_model(r'coviddetectcnn_best_model.h5')"
   ]
  },
  {
   "cell_type": "code",
   "execution_count": 88,
   "id": "d01c7c90",
   "metadata": {},
   "outputs": [
    {
     "data": {
      "text/plain": [
       "(1, 256, 256, 3)"
      ]
     },
     "execution_count": 88,
     "metadata": {},
     "output_type": "execute_result"
    }
   ],
   "source": [
    "path = 'D:\\PYTHON_OVERALL\\jupyter files\\coviddataset\\COVID\\Covid (1074).png'\n",
    "img = image.load_img(path , target_size = (256,256))\n",
    "\n",
    "img = image.img_to_array(img)/255.\n",
    "img = np.array([img])\n",
    "img.shape"
   ]
  },
  {
   "cell_type": "code",
   "execution_count": 87,
   "id": "8398904d",
   "metadata": {},
   "outputs": [
    {
     "data": {
      "text/plain": [
       "['Covid (1074).png',\n",
       " 'Covid (1207).png',\n",
       " 'Covid (296).png',\n",
       " 'Covid (299).png',\n",
       " 'Covid (320).png',\n",
       " 'Covid (372).png',\n",
       " 'Covid (373).png',\n",
       " 'Covid (375).png',\n",
       " 'Covid (549).png',\n",
       " 'Covid (55).png',\n",
       " 'Covid (594).png',\n",
       " 'Covid (638).png',\n",
       " 'Covid (663).png',\n",
       " 'Covid (669).png',\n",
       " 'Covid (801).png',\n",
       " 'Covid (869).png',\n",
       " 'Covid (924).png']"
      ]
     },
     "execution_count": 87,
     "metadata": {},
     "output_type": "execute_result"
    }
   ],
   "source": [
    "os.listdir(r'coviddataset\\COVID')"
   ]
  },
  {
   "cell_type": "code",
   "execution_count": 89,
   "id": "55bb51e3",
   "metadata": {},
   "outputs": [],
   "source": [
    "pred = model.predict(img)"
   ]
  },
  {
   "cell_type": "code",
   "execution_count": 90,
   "id": "91f26473",
   "metadata": {},
   "outputs": [
    {
     "name": "stdout",
     "output_type": "stream",
     "text": [
      "He has covid\n"
     ]
    }
   ],
   "source": [
    "if pred<0.5:\n",
    "    print(\"He has covid\")\n",
    "else:\n",
    "    print(\"He is healthy\")"
   ]
  },
  {
   "cell_type": "code",
   "execution_count": 93,
   "id": "d5b5814f",
   "metadata": {},
   "outputs": [],
   "source": [
    "dirt = r'coviddataset\\COVID'\n",
    "covid = []\n",
    "for i in os.listdir(dirt):\n",
    "    path = os.path.join(dirt , i)\n",
    "    img = image.load_img(path , target_size = (256,256))\n",
    "    img = image.img_to_array(img)/255.\n",
    "    img = np.array([img])\n",
    "    pred = model.predict(img)\n",
    "    if pred < 0.5:\n",
    "        covid.append(0)\n",
    "    else:\n",
    "        covid.append(1)"
   ]
  },
  {
   "cell_type": "code",
   "execution_count": 94,
   "id": "694df370",
   "metadata": {},
   "outputs": [
    {
     "data": {
      "text/plain": [
       "[0, 1, 0, 0, 0, 0, 0, 0, 0, 0, 0, 0, 1, 1, 0, 1, 1]"
      ]
     },
     "execution_count": 94,
     "metadata": {},
     "output_type": "execute_result"
    }
   ],
   "source": [
    "covid"
   ]
  },
  {
   "cell_type": "code",
   "execution_count": 95,
   "id": "85e17f48",
   "metadata": {},
   "outputs": [],
   "source": [
    "dirt = r'coviddataset\\non-COVID'\n",
    "nocovid = []\n",
    "for i in os.listdir(dirt):\n",
    "    path = os.path.join(dirt , i)\n",
    "    img = image.load_img(path , target_size = (256,256))\n",
    "    img = image.img_to_array(img)/255.\n",
    "    img = np.array([img])\n",
    "    pred = model.predict(img)\n",
    "    if pred < 0.5:\n",
    "        nocovid.append(0)\n",
    "    else:\n",
    "        nocovid.append(1)"
   ]
  },
  {
   "cell_type": "code",
   "execution_count": null,
   "id": "e7358fc6",
   "metadata": {},
   "outputs": [],
   "source": []
  }
 ],
 "metadata": {
  "kernelspec": {
   "display_name": "Python 3 (ipykernel)",
   "language": "python",
   "name": "python3"
  },
  "language_info": {
   "codemirror_mode": {
    "name": "ipython",
    "version": 3
   },
   "file_extension": ".py",
   "mimetype": "text/x-python",
   "name": "python",
   "nbconvert_exporter": "python",
   "pygments_lexer": "ipython3",
   "version": "3.9.13"
  }
 },
 "nbformat": 4,
 "nbformat_minor": 5
}
