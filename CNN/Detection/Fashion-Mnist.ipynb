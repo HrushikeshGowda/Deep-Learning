{
 "cells": [
  {
   "cell_type": "code",
   "execution_count": 1,
   "id": "c8b432f6",
   "metadata": {},
   "outputs": [],
   "source": [
    "import tensorflow as tf\n",
    "import pandas as pd\n",
    "import numpy as np\n",
    "import matplotlib.pyplot as plt\n",
    "from tensorflow import keras\n",
    "import sklearn"
   ]
  },
  {
   "cell_type": "code",
   "execution_count": 2,
   "id": "74d8e59b",
   "metadata": {},
   "outputs": [],
   "source": [
    "import os"
   ]
  },
  {
   "cell_type": "code",
   "execution_count": 3,
   "id": "efeb5e40",
   "metadata": {},
   "outputs": [],
   "source": [
    "from tensorflow.keras.datasets import mnist"
   ]
  },
  {
   "cell_type": "code",
   "execution_count": 4,
   "id": "e46338a9",
   "metadata": {},
   "outputs": [],
   "source": [
    "import sys\n",
    "\n",
    "sys.path.insert(0 , r'fashion-mnist\\fashion-mnist-master\\fashion-mnist-master\\utils')\n",
    "\n",
    "import mnist_reader"
   ]
  },
  {
   "cell_type": "code",
   "execution_count": 5,
   "id": "941a865b",
   "metadata": {},
   "outputs": [],
   "source": [
    "(X_train), (y_train) = mnist_reader.load_mnist(r'fashion-mnist\\fashion-mnist-master\\fashion-mnist-master\\data\\fashion', kind='train')\n",
    "(X_test), (y_test) = mnist_reader.load_mnist(r'fashion-mnist\\fashion-mnist-master\\fashion-mnist-master\\data\\fashion', kind='t10k')"
   ]
  },
  {
   "cell_type": "code",
   "execution_count": 6,
   "id": "35a639f8",
   "metadata": {},
   "outputs": [
    {
     "data": {
      "image/png": "[encoded data removed]",
      "text/plain": [
       "<Figure size 432x288 with 1 Axes>"
      ]
     },
     "metadata": {
      "needs_background": "light"
     },
     "output_type": "display_data"
    }
   ],
   "source": [
    "plt.imshow(X_train.reshape(60000,28,28)[0])\n",
    "plt.show()"
   ]
  },
  {
   "cell_type": "code",
   "execution_count": 7,
   "id": "bd349533",
   "metadata": {},
   "outputs": [],
   "source": [
    "X_Train = X_train.reshape(60000,28,28,1)\n",
    "X_Test = X_test.reshape(10000,28,28,1)"
   ]
  },
  {
   "cell_type": "code",
   "execution_count": 8,
   "id": "f75ac1ca",
   "metadata": {},
   "outputs": [],
   "source": [
    "Y_Train = y_train.copy()\n",
    "Y_Test = y_test.copy()"
   ]
  },
  {
   "cell_type": "code",
   "execution_count": 9,
   "id": "74f5ae5a",
   "metadata": {},
   "outputs": [
    {
     "data": {
      "text/plain": [
       "'Ankle boot'"
      ]
     },
     "execution_count": 9,
     "metadata": {},
     "output_type": "execute_result"
    }
   ],
   "source": [
    "class_names = ['T-shirt/top','Trouser','Pullover','Dress','Coat','Sandal','Shirt','Sneaker','Bag','Ankle boot']\n",
    "\n",
    "class_names[Y_Train[0]]"
   ]
  },
  {
   "cell_type": "code",
   "execution_count": 10,
   "id": "8787ea83",
   "metadata": {},
   "outputs": [],
   "source": [
    "X_Train = X_Train /255.\n",
    "X_Test = X_Test /255."
   ]
  },
  {
   "cell_type": "code",
   "execution_count": 11,
   "id": "1170958f",
   "metadata": {},
   "outputs": [],
   "source": [
    "X_Valid , X_Train = X_Train[:5000] , X_Train[5000:]\n",
    "Y_Valid , Y_Train = Y_Train[:5000] , Y_Train[5000:]"
   ]
  },
  {
   "cell_type": "code",
   "execution_count": 12,
   "id": "a3167c01",
   "metadata": {},
   "outputs": [
    {
     "name": "stdout",
     "output_type": "stream",
     "text": [
      "X Train:  (55000, 28, 28, 1)\n",
      "Y Train:  (55000,)\n",
      "X Valid:  (5000, 28, 28, 1)\n",
      "Y Valid:  (5000,)\n",
      "X Test:  (10000, 28, 28, 1)\n",
      "Y Test:  (10000,)\n"
     ]
    }
   ],
   "source": [
    "print('X Train: ' , X_Train.shape)\n",
    "print('Y Train: ' , Y_Train.shape)\n",
    "print('X Valid: ' , X_Valid.shape)\n",
    "print('Y Valid: ' , Y_Valid.shape)\n",
    "print('X Test: ' , X_Test.shape)\n",
    "print('Y Test: ' , Y_Test.shape)"
   ]
  },
  {
   "cell_type": "code",
   "execution_count": 13,
   "id": "aec6208f",
   "metadata": {},
   "outputs": [],
   "source": [
    "np.random.seed(42)\n",
    "tf.random.set_seed(42)"
   ]
  },
  {
   "cell_type": "code",
   "execution_count": 14,
   "id": "f052a77b",
   "metadata": {},
   "outputs": [],
   "source": [
    "model = keras.models.Sequential()\n",
    "model.add(keras.layers.Conv2D(filters = 32 , kernel_size = (3,3) , strides = 1 , padding = 'valid' , activation = 'relu' ,\n",
    "                              input_shape= (28,28 , 1)))\n",
    "model.add(keras.layers.MaxPooling2D(2,2))\n",
    "\n",
    "\n",
    "model.add(keras.layers.Flatten())\n",
    "model.add(keras.layers.Dense(300 , activation = 'relu')) \n",
    "model.add(keras.layers.Dense(100 , activation = 'relu'))  \n",
    "model.add(keras.layers.Dense(10 , activation = 'softmax'))  "
   ]
  },
  {
   "cell_type": "code",
   "execution_count": 15,
   "id": "757ecb14",
   "metadata": {},
   "outputs": [
    {
     "name": "stdout",
     "output_type": "stream",
     "text": [
      "Model: \"sequential\"\n",
      "_________________________________________________________________\n",
      "Layer (type)                 Output Shape              Param #   \n",
      "=================================================================\n",
      "conv2d (Conv2D)              (None, 26, 26, 32)        320       \n",
      "_________________________________________________________________\n",
      "max_pooling2d (MaxPooling2D) (None, 13, 13, 32)        0         \n",
      "_________________________________________________________________\n",
      "flatten (Flatten)            (None, 5408)              0         \n",
      "_________________________________________________________________\n",
      "dense (Dense)                (None, 300)               1622700   \n",
      "_________________________________________________________________\n",
      "dense_1 (Dense)              (None, 100)               30100     \n",
      "_________________________________________________________________\n",
      "dense_2 (Dense)              (None, 10)                1010      \n",
      "=================================================================\n",
      "Total params: 1,654,130\n",
      "Trainable params: 1,654,130\n",
      "Non-trainable params: 0\n",
      "_________________________________________________________________\n"
     ]
    }
   ],
   "source": [
    "model.summary()"
   ]
  },
  {
   "cell_type": "code",
   "execution_count": 16,
   "id": "892102a8",
   "metadata": {},
   "outputs": [],
   "source": [
    "model.compile(loss = 'sparse_categorical_crossentropy', #loss function = cross entropy,for binary classify = binary_crossentropy\n",
    "             optimizer = 'sgd',                          # sigmoid optimizer\n",
    "             metrics = ['accuracy'])                     "
   ]
  },
  {
   "cell_type": "code",
   "execution_count": 17,
   "id": "5747e5c2",
   "metadata": {},
   "outputs": [],
   "source": [
    "os.environ['TF_FORCE_GPU_ALLOW_GROWTH'] = 'true'"
   ]
  },
  {
   "cell_type": "code",
   "execution_count": 19,
   "id": "3006e60b",
   "metadata": {},
   "outputs": [
    {
     "name": "stdout",
     "output_type": "stream",
     "text": [
      "Epoch 1/10\n",
      "1719/1719 [==============================] - 8s 5ms/step - loss: 0.2653 - accuracy: 0.9029 - val_loss: 0.2920 - val_accuracy: 0.8966\n",
      "Epoch 2/10\n",
      "1719/1719 [==============================] - 8s 5ms/step - loss: 0.2554 - accuracy: 0.9075 - val_loss: 0.2757 - val_accuracy: 0.9006\n",
      "Epoch 3/10\n",
      "1719/1719 [==============================] - 8s 5ms/step - loss: 0.2459 - accuracy: 0.9092 - val_loss: 0.3361 - val_accuracy: 0.8778\n",
      "Epoch 4/10\n",
      "1719/1719 [==============================] - 8s 5ms/step - loss: 0.2373 - accuracy: 0.9135 - val_loss: 0.2721 - val_accuracy: 0.9026\n",
      "Epoch 5/10\n",
      "1719/1719 [==============================] - 8s 5ms/step - loss: 0.2309 - accuracy: 0.9151 - val_loss: 0.2651 - val_accuracy: 0.9042\n",
      "Epoch 6/10\n",
      "1719/1719 [==============================] - 8s 5ms/step - loss: 0.2207 - accuracy: 0.9189 - val_loss: 0.2653 - val_accuracy: 0.9046\n",
      "Epoch 7/10\n",
      "1719/1719 [==============================] - 8s 5ms/step - loss: 0.2139 - accuracy: 0.9221 - val_loss: 0.2690 - val_accuracy: 0.9046\n",
      "Epoch 8/10\n",
      "1719/1719 [==============================] - 8s 5ms/step - loss: 0.2077 - accuracy: 0.9246 - val_loss: 0.2837 - val_accuracy: 0.8966\n",
      "Epoch 9/10\n",
      "1719/1719 [==============================] - 8s 5ms/step - loss: 0.1988 - accuracy: 0.9278 - val_loss: 0.2612 - val_accuracy: 0.9078\n",
      "Epoch 10/10\n",
      "1719/1719 [==============================] - 8s 5ms/step - loss: 0.1929 - accuracy: 0.9298 - val_loss: 0.2592 - val_accuracy: 0.9072\n"
     ]
    }
   ],
   "source": [
    "model_history = model.fit(X_Train , Y_Train , epochs = 10 , validation_data = (X_Valid , Y_Valid))"
   ]
  },
  {
   "cell_type": "code",
   "execution_count": 22,
   "id": "1cf190a5",
   "metadata": {},
   "outputs": [
    {
     "data": {
      "image/png": "[encoded data removed]",
      "text/plain": [
       "<Figure size 576x360 with 1 Axes>"
      ]
     },
     "metadata": {
      "needs_background": "light"
     },
     "output_type": "display_data"
    }
   ],
   "source": [
    "pd.DataFrame(model_history.history).plot(figsize = (8,5))\n",
    "plt.grid(True)\n",
    "plt.gca().set_ylim(0 , 1)\n",
    "plt.gca().set_xlim(0 , 10)\n",
    "plt.show()"
   ]
  },
  {
   "cell_type": "code",
   "execution_count": 23,
   "id": "79d80129",
   "metadata": {},
   "outputs": [
    {
     "name": "stdout",
     "output_type": "stream",
     "text": [
      "313/313 [==============================] - 1s 4ms/step - loss: 0.2774 - accuracy: 0.8990\n"
     ]
    }
   ],
   "source": [
    "ev = model.evaluate(X_Test , Y_Test)"
   ]
  },
  {
   "cell_type": "code",
   "execution_count": 24,
   "id": "4f33040d",
   "metadata": {},
   "outputs": [
    {
     "data": {
      "text/plain": [
       "[0.27741435170173645, 0.8989999890327454]"
      ]
     },
     "execution_count": 24,
     "metadata": {},
     "output_type": "execute_result"
    }
   ],
   "source": [
    "ev"
   ]
  },
  {
   "cell_type": "code",
   "execution_count": 25,
   "id": "14353996",
   "metadata": {},
   "outputs": [],
   "source": [
    "X_new = X_Test[:3]"
   ]
  },
  {
   "cell_type": "code",
   "execution_count": 32,
   "id": "7046f0c2",
   "metadata": {},
   "outputs": [
    {
     "data": {
      "text/plain": [
       "array([9, 2, 1], dtype=int64)"
      ]
     },
     "execution_count": 32,
     "metadata": {},
     "output_type": "execute_result"
    }
   ],
   "source": [
    "Y_Pred = np.argmax(model.predict(X_new) , axis = -1)\n",
    "Y_Pred"
   ]
  },
  {
   "cell_type": "code",
   "execution_count": 33,
   "id": "542c9238",
   "metadata": {},
   "outputs": [
    {
     "name": "stdout",
     "output_type": "stream",
     "text": [
      "AxesImage(54,36;334.8x217.44)\n"
     ]
    },
    {
     "data": {
      "image/png": "[encoded data removed]",
      "text/plain": [
       "<Figure size 432x288 with 1 Axes>"
      ]
     },
     "metadata": {
      "needs_background": "light"
     },
     "output_type": "display_data"
    }
   ],
   "source": [
    "print(plt.imshow(X_Test[0].reshape(28,28)))"
   ]
  },
  {
   "cell_type": "code",
   "execution_count": 39,
   "id": "3172c0ca",
   "metadata": {},
   "outputs": [
    {
     "name": "stdout",
     "output_type": "stream",
     "text": [
      "Ankle boot Pullover Trouser\n"
     ]
    }
   ],
   "source": [
    "print(class_names[9],\n",
    "class_names[2],\n",
    "class_names[1])"
   ]
  },
  {
   "cell_type": "code",
   "execution_count": 40,
   "id": "123d6c94",
   "metadata": {},
   "outputs": [
    {
     "name": "stdout",
     "output_type": "stream",
     "text": [
      "AxesImage(54,36;334.8x217.44)\n"
     ]
    },
    {
     "data": {
      "image/png": "[encoded data removed]",
      "text/plain": [
       "<Figure size 432x288 with 1 Axes>"
      ]
     },
     "metadata": {
      "needs_background": "light"
     },
     "output_type": "display_data"
    }
   ],
   "source": [
    "print(plt.imshow(X_Test[1].reshape(28,28)))"
   ]
  },
  {
   "cell_type": "code",
   "execution_count": 41,
   "id": "cf4c4c13",
   "metadata": {},
   "outputs": [
    {
     "name": "stdout",
     "output_type": "stream",
     "text": [
      "AxesImage(54,36;334.8x217.44)\n"
     ]
    },
    {
     "data": {
      "image/png": "[encoded data removed]",
      "text/plain": [
       "<Figure size 432x288 with 1 Axes>"
      ]
     },
     "metadata": {
      "needs_background": "light"
     },
     "output_type": "display_data"
    }
   ],
   "source": [
    "print(plt.imshow(X_Test[2].reshape(28,28)))"
   ]
  },
  {
   "cell_type": "code",
   "execution_count": null,
   "id": "4cb87a97",
   "metadata": {},
   "outputs": [],
   "source": []
  }
 ],
 "metadata": {
  "kernelspec": {
   "display_name": "Python 3 (ipykernel)",
   "language": "python",
   "name": "python3"
  },
  "language_info": {
   "codemirror_mode": {
    "name": "ipython",
    "version": 3
   },
   "file_extension": ".py",
   "mimetype": "text/x-python",
   "name": "python",
   "nbconvert_exporter": "python",
   "pygments_lexer": "ipython3",
   "version": "3.9.13"
  }
 },
 "nbformat": 4,
 "nbformat_minor": 5
}
