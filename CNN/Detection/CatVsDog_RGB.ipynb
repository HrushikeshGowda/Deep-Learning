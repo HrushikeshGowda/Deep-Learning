{
 "cells": [
  {
   "cell_type": "code",
   "execution_count": 1,
   "id": "0db5c4c2",
   "metadata": {},
   "outputs": [],
   "source": [
    "import tensorflow as tf"
   ]
  },
  {
   "cell_type": "code",
   "execution_count": 7,
   "id": "2d4eb89c",
   "metadata": {},
   "outputs": [],
   "source": [
    "from keras.models import Sequential\n",
    "from keras.layers import Conv2D\n",
    "from keras.layers import MaxPooling2D\n",
    "from keras.layers import Flatten\n",
    "from keras.layers import Dense"
   ]
  },
  {
   "cell_type": "code",
   "execution_count": 9,
   "id": "e99bc479",
   "metadata": {},
   "outputs": [],
   "source": [
    "from tensorflow.keras.applications import VGG16"
   ]
  },
  {
   "cell_type": "code",
   "execution_count": 10,
   "id": "46190624",
   "metadata": {},
   "outputs": [],
   "source": [
    "conv_base = VGG16(weights = 'imagenet' , include_top = False , input_shape = (64,64,3))"
   ]
  },
  {
   "cell_type": "code",
   "execution_count": 11,
   "id": "0ee98d40",
   "metadata": {},
   "outputs": [],
   "source": [
    "classifier = Sequential()\n",
    "\n",
    "# classifier.add(Conv2D(32 , (3,3) , input_shape = (64,64,3) , activation = 'relu'))\n",
    "# classifier.add(Conv2D(32 , (3,3) , activation = 'relu'))\n",
    "# classifier.add(MaxPooling2D(pool_size = (2,2)))"
   ]
  },
  {
   "cell_type": "code",
   "execution_count": 12,
   "id": "ad294da6",
   "metadata": {},
   "outputs": [],
   "source": [
    "classifier.add(conv_base)\n",
    "classifier.add(Flatten())\n",
    "classifier.add(Dense(units = 256 , activation = 'relu'))\n",
    "classifier.add(Dense(units = 1 , activation = 'sigmoid'))"
   ]
  },
  {
   "cell_type": "code",
   "execution_count": 13,
   "id": "f5def0f6",
   "metadata": {},
   "outputs": [],
   "source": [
    "classifier.compile(optimizer = 'adam' , loss = 'binary_crossentropy' , metrics = ['accuracy'])"
   ]
  },
  {
   "cell_type": "code",
   "execution_count": 14,
   "id": "acb6a37b",
   "metadata": {},
   "outputs": [],
   "source": [
    "from keras.preprocessing.image import ImageDataGenerator"
   ]
  },
  {
   "cell_type": "code",
   "execution_count": 16,
   "id": "a9e019aa",
   "metadata": {},
   "outputs": [],
   "source": [
    "import random\n",
    "import shutil"
   ]
  },
  {
   "cell_type": "code",
   "execution_count": 17,
   "id": "38e8ed90",
   "metadata": {},
   "outputs": [
    {
     "data": {
      "text/plain": [
       "['Cat', 'Dog']"
      ]
     },
     "execution_count": 17,
     "metadata": {},
     "output_type": "execute_result"
    }
   ],
   "source": [
    "all_images = os.listdir('kagglecatsanddogs_3367a\\PetImages')\n",
    "all_images"
   ]
  },
  {
   "cell_type": "code",
   "execution_count": 18,
   "id": "4b87dd3d",
   "metadata": {},
   "outputs": [],
   "source": [
    "# all_cats = os.listdir(r'dataset\\train\\cats')"
   ]
  },
  {
   "cell_type": "code",
   "execution_count": 19,
   "id": "53f5246b",
   "metadata": {},
   "outputs": [],
   "source": [
    "# all_dogs = os.listdir(r'dataset\\train\\dogs')"
   ]
  },
  {
   "cell_type": "code",
   "execution_count": 20,
   "id": "9e3d84b1",
   "metadata": {},
   "outputs": [
    {
     "data": {
      "text/plain": [
       "7999"
      ]
     },
     "execution_count": 20,
     "metadata": {},
     "output_type": "execute_result"
    }
   ],
   "source": [
    "# int(len(all_dogs) - len(all_dogs)*0.2)"
   ]
  },
  {
   "cell_type": "code",
   "execution_count": 21,
   "id": "6c871ed5",
   "metadata": {},
   "outputs": [],
   "source": [
    "# index_to_split = int(len(all_dogs) - len(all_dogs)*0.2)\n",
    "# train_dog = all_dogs[:index_to_split]\n",
    "# valid_dog = all_dogs[index_to_split:]\n",
    "\n",
    "# index_to_split = int(len(all_cats) - len(all_cats)*0.2)\n",
    "# train_cat = all_cats[:index_to_split]\n",
    "# valid_cat = all_cats[index_to_split:]"
   ]
  },
  {
   "cell_type": "code",
   "execution_count": 22,
   "id": "c9b87d5f",
   "metadata": {},
   "outputs": [],
   "source": [
    "# shutil.rmtree('./dataset')"
   ]
  },
  {
   "cell_type": "code",
   "execution_count": 24,
   "id": "8413d448",
   "metadata": {},
   "outputs": [],
   "source": [
    "# os.makedirs('./dataset/train/dogs' , exist_ok = True)"
   ]
  },
  {
   "cell_type": "code",
   "execution_count": 25,
   "id": "3a14425a",
   "metadata": {},
   "outputs": [],
   "source": [
    "# os.makedirs('./dataset/valid/dogs' , exist_ok = True)\n",
    "# os.makedirs('./dataset/train/cats' , exist_ok = True)\n",
    "# os.makedirs('./dataset/valid/cats' , exist_ok = True)"
   ]
  },
  {
   "cell_type": "code",
   "execution_count": 26,
   "id": "6420ad7a",
   "metadata": {},
   "outputs": [],
   "source": [
    "# def copy_images(images_to_copy , destination , category):\n",
    "#     for image in images_to_copy:\n",
    "#         shutil.copyfile(f'D:\\PYTHON_OVERALL\\jupyter files\\kagglecatsanddogs_3367a\\PetImages\\/{category}\\/{image}',\n",
    "#                        f'{destination}/{image}')"
   ]
  },
  {
   "cell_type": "code",
   "execution_count": 27,
   "id": "afa66707",
   "metadata": {},
   "outputs": [],
   "source": [
    "# copy_images(train_dog , './dataset/train/dogs' , 'Dog')"
   ]
  },
  {
   "cell_type": "code",
   "execution_count": 28,
   "id": "58834762",
   "metadata": {},
   "outputs": [],
   "source": [
    "# copy_images(valid_dog , './dataset/valid/dogs' , 'Dog')\n",
    "# copy_images(train_cat , './dataset/train/cats' , 'Cat')\n",
    "# copy_images(valid_cat , './dataset/valid/cats' , 'Cat')"
   ]
  },
  {
   "cell_type": "code",
   "execution_count": 29,
   "id": "4837e05f",
   "metadata": {},
   "outputs": [],
   "source": [
    "train = ImageDataGenerator(rescale = 1./255 , shear_range = 0.2 , zoom_range = 0.2 , horizontal_flip = True)"
   ]
  },
  {
   "cell_type": "code",
   "execution_count": 30,
   "id": "6faa1c5c",
   "metadata": {},
   "outputs": [
    {
     "name": "stdout",
     "output_type": "stream",
     "text": [
      "Found 19998 images belonging to 2 classes.\n"
     ]
    }
   ],
   "source": [
    "train_gen = train.flow_from_directory(r'dataset\\train',\n",
    "                                  target_size = (64,64) , batch_size = 32 , class_mode = 'binary')"
   ]
  },
  {
   "cell_type": "code",
   "execution_count": 31,
   "id": "7ff25066",
   "metadata": {},
   "outputs": [],
   "source": [
    "test = ImageDataGenerator(rescale = 1./255 , shear_range = 0.2 , zoom_range = 0.2 , horizontal_flip = True)"
   ]
  },
  {
   "cell_type": "code",
   "execution_count": 32,
   "id": "f4ce186a",
   "metadata": {},
   "outputs": [
    {
     "name": "stdout",
     "output_type": "stream",
     "text": [
      "Found 5000 images belonging to 2 classes.\n"
     ]
    }
   ],
   "source": [
    "test_gen = test.flow_from_directory(r'dataset\\valid',\n",
    "                                  target_size = (64,64) , batch_size = 32 , class_mode = 'binary')"
   ]
  },
  {
   "cell_type": "code",
   "execution_count": 35,
   "id": "ff2b0e28",
   "metadata": {},
   "outputs": [],
   "source": [
    "steps_per_epoch = train_gen.samples//train_gen.batch_size\n",
    "valid_steps = test_gen.samples//test_gen.batch_size"
   ]
  },
  {
   "cell_type": "code",
   "execution_count": 36,
   "id": "17c589b2",
   "metadata": {},
   "outputs": [],
   "source": [
    "from PIL import ImageFile\n",
    "ImageFile.LOAAD_TRUNCATED_IMAGES = True"
   ]
  },
  {
   "cell_type": "code",
   "execution_count": 37,
   "id": "4ec23dcd",
   "metadata": {},
   "outputs": [
    {
     "name": "stdout",
     "output_type": "stream",
     "text": [
      "Epoch 1/25\n",
      "624/624 [==============================] - ETA: 0s - loss: 0.7000 - accuracy: 0.5454"
     ]
    },
    {
     "name": "stderr",
     "output_type": "stream",
     "text": [
      "D:\\Anaconda\\envs\\myenv\\lib\\site-packages\\PIL\\TiffImagePlugin.py:819: UserWarning: Truncated File Read\n",
      "  warnings.warn(str(msg))\n"
     ]
    },
    {
     "name": "stdout",
     "output_type": "stream",
     "text": [
      "624/624 [==============================] - 77s 115ms/step - loss: 0.7000 - accuracy: 0.5454 - val_loss: 0.6894 - val_accuracy: 0.5527\n",
      "Epoch 2/25\n",
      "624/624 [==============================] - 69s 110ms/step - loss: 0.5458 - accuracy: 0.7269 - val_loss: 0.4368 - val_accuracy: 0.7973\n",
      "Epoch 3/25\n",
      "624/624 [==============================] - 69s 110ms/step - loss: 0.4231 - accuracy: 0.8066 - val_loss: 0.3956 - val_accuracy: 0.8267\n",
      "Epoch 4/25\n",
      "624/624 [==============================] - 69s 110ms/step - loss: 0.3729 - accuracy: 0.8334 - val_loss: 0.3288 - val_accuracy: 0.8550\n",
      "Epoch 5/25\n",
      "624/624 [==============================] - 69s 110ms/step - loss: 0.3378 - accuracy: 0.8509 - val_loss: 0.3573 - val_accuracy: 0.8377\n",
      "Epoch 6/25\n",
      "624/624 [==============================] - 69s 111ms/step - loss: 0.3146 - accuracy: 0.8646 - val_loss: 0.3538 - val_accuracy: 0.8496\n",
      "Epoch 7/25\n",
      "624/624 [==============================] - 69s 111ms/step - loss: 0.3133 - accuracy: 0.8645 - val_loss: 0.3091 - val_accuracy: 0.8646\n",
      "Epoch 8/25\n",
      "624/624 [==============================] - 69s 111ms/step - loss: 0.3204 - accuracy: 0.8611 - val_loss: 0.3462 - val_accuracy: 0.8548\n",
      "Epoch 9/25\n",
      "624/624 [==============================] - 69s 111ms/step - loss: 0.3017 - accuracy: 0.8737 - val_loss: 0.3098 - val_accuracy: 0.8754\n",
      "Epoch 10/25\n",
      "624/624 [==============================] - 69s 110ms/step - loss: 0.2684 - accuracy: 0.8893 - val_loss: 0.2809 - val_accuracy: 0.8828\n",
      "Epoch 11/25\n",
      "624/624 [==============================] - 69s 111ms/step - loss: 0.2724 - accuracy: 0.8851 - val_loss: 0.2671 - val_accuracy: 0.8878\n",
      "Epoch 12/25\n",
      "624/624 [==============================] - 69s 111ms/step - loss: 0.3295 - accuracy: 0.8536 - val_loss: 0.5122 - val_accuracy: 0.7644\n",
      "Epoch 13/25\n",
      "624/624 [==============================] - 69s 111ms/step - loss: 0.3995 - accuracy: 0.8210 - val_loss: 0.4404 - val_accuracy: 0.7881\n",
      "Epoch 14/25\n",
      "624/624 [==============================] - 69s 110ms/step - loss: 0.2920 - accuracy: 0.8758 - val_loss: 0.2534 - val_accuracy: 0.8896\n",
      "Epoch 15/25\n",
      "624/624 [==============================] - 69s 111ms/step - loss: 0.3084 - accuracy: 0.8608 - val_loss: 0.3416 - val_accuracy: 0.8550\n",
      "Epoch 16/25\n",
      "624/624 [==============================] - 69s 111ms/step - loss: 0.3001 - accuracy: 0.8701 - val_loss: 0.2467 - val_accuracy: 0.8952\n",
      "Epoch 17/25\n",
      "624/624 [==============================] - 69s 110ms/step - loss: 0.2312 - accuracy: 0.9045 - val_loss: 0.2503 - val_accuracy: 0.8926\n",
      "Epoch 18/25\n",
      "624/624 [==============================] - 69s 111ms/step - loss: 0.5455 - accuracy: 0.8173 - val_loss: 0.6561 - val_accuracy: 0.6440\n",
      "Epoch 19/25\n",
      "624/624 [==============================] - 70s 112ms/step - loss: 0.5410 - accuracy: 0.7277 - val_loss: 0.4310 - val_accuracy: 0.8089\n",
      "Epoch 20/25\n",
      "624/624 [==============================] - 70s 112ms/step - loss: 0.3992 - accuracy: 0.8206 - val_loss: 0.3909 - val_accuracy: 0.8287\n",
      "Epoch 21/25\n",
      "624/624 [==============================] - 69s 111ms/step - loss: 0.3670 - accuracy: 0.8406 - val_loss: 0.3933 - val_accuracy: 0.8351\n",
      "Epoch 22/25\n",
      "624/624 [==============================] - 69s 111ms/step - loss: 0.3218 - accuracy: 0.8617 - val_loss: 0.3617 - val_accuracy: 0.8357\n",
      "Epoch 23/25\n",
      "624/624 [==============================] - 69s 111ms/step - loss: 0.3039 - accuracy: 0.8703 - val_loss: 0.2846 - val_accuracy: 0.8754\n",
      "Epoch 24/25\n",
      "624/624 [==============================] - 70s 111ms/step - loss: 0.2701 - accuracy: 0.8857 - val_loss: 0.3118 - val_accuracy: 0.8588\n",
      "Epoch 25/25\n",
      "624/624 [==============================] - 69s 111ms/step - loss: 0.4290 - accuracy: 0.8035 - val_loss: 0.3697 - val_accuracy: 0.8403\n"
     ]
    },
    {
     "data": {
      "text/plain": [
       "<keras.callbacks.History at 0x24c3deb5640>"
      ]
     },
     "execution_count": 37,
     "metadata": {},
     "output_type": "execute_result"
    }
   ],
   "source": [
    "classifier.fit(train_gen , steps_per_epoch = steps_per_epoch , epochs = 25 ,\n",
    "               validation_data = test_gen , validation_steps = valid_steps , verbose = 1)"
   ]
  },
  {
   "cell_type": "code",
   "execution_count": 38,
   "id": "7f5ce45f",
   "metadata": {},
   "outputs": [
    {
     "data": {
      "text/plain": [
       "624"
      ]
     },
     "execution_count": 38,
     "metadata": {},
     "output_type": "execute_result"
    }
   ],
   "source": [
    "steps_per_epoch"
   ]
  },
  {
   "cell_type": "code",
   "execution_count": 39,
   "id": "e5fdd536",
   "metadata": {},
   "outputs": [
    {
     "data": {
      "text/plain": [
       "156"
      ]
     },
     "execution_count": 39,
     "metadata": {},
     "output_type": "execute_result"
    }
   ],
   "source": [
    "valid_steps"
   ]
  },
  {
   "cell_type": "code",
   "execution_count": 40,
   "id": "d17b7165",
   "metadata": {},
   "outputs": [],
   "source": [
    "import numpy as np\n",
    "from keras.preprocessing import image"
   ]
  },
  {
   "cell_type": "code",
   "execution_count": 61,
   "id": "45ebf77a",
   "metadata": {},
   "outputs": [],
   "source": [
    "test_image = image.load_img(r'dataset\\train\\cats\\44.jpg' ,\n",
    "                            target_size = (150,150))"
   ]
  },
  {
   "cell_type": "code",
   "execution_count": 63,
   "id": "5b69e8a9",
   "metadata": {},
   "outputs": [
    {
     "data": {
      "image/png": "[encoded data removed]",
      "text/plain": [
       "<PIL.Image.Image image mode=RGB size=150x150 at 0x24D0B5E7040>"
      ]
     },
     "execution_count": 63,
     "metadata": {},
     "output_type": "execute_result"
    }
   ],
   "source": [
    "test_image"
   ]
  },
  {
   "cell_type": "code",
   "execution_count": 51,
   "id": "ba3aae11",
   "metadata": {},
   "outputs": [
    {
     "data": {
      "text/plain": [
       "array([[[1.1995387e-03, 4.4598238e-04, 5.0749717e-04],\n",
       "        [1.1534026e-03, 6.3052680e-04, 2.1530184e-04],\n",
       "        [1.0457517e-03, 5.8439065e-04, 9.5347955e-04],\n",
       "        ...,\n",
       "        [5.9976935e-04, 3.0757405e-04, 1.9992313e-04],\n",
       "        [7.0742029e-04, 4.3060369e-04, 2.7681663e-04],\n",
       "        [7.6893513e-04, 4.4598238e-04, 1.8454443e-04]],\n",
       "\n",
       "       [[1.2610536e-03, 5.5363326e-04, 5.9976935e-04],\n",
       "        [9.0734346e-04, 4.3060369e-04, 0.0000000e+00],\n",
       "        [9.6885825e-04, 5.5363326e-04, 8.4582862e-04],\n",
       "        ...,\n",
       "        [5.8439065e-04, 2.9219533e-04, 1.9992313e-04],\n",
       "        [6.4590550e-04, 3.3833145e-04, 1.9992313e-04],\n",
       "        [7.5355644e-04, 4.3060369e-04, 1.6916572e-04]],\n",
       "\n",
       "       [[1.1687813e-03, 5.5363326e-04, 5.6901196e-04],\n",
       "        [8.1507122e-04, 3.9984626e-04, 0.0000000e+00],\n",
       "        [7.3817774e-04, 3.9984626e-04, 5.8439065e-04],\n",
       "        ...,\n",
       "        [3.5371014e-04, 6.1514809e-05, 0.0000000e+00],\n",
       "        [6.6128420e-04, 3.5371014e-04, 2.1530184e-04],\n",
       "        [9.5347955e-04, 5.9976935e-04, 3.5371014e-04]],\n",
       "\n",
       "       ...,\n",
       "\n",
       "       [[4.1522496e-04, 1.3533258e-03, 2.2299117e-03],\n",
       "        [4.4598238e-04, 1.3687045e-03, 2.2914265e-03],\n",
       "        [3.9984626e-04, 1.3533258e-03, 2.2606691e-03],\n",
       "        ...,\n",
       "        [9.0734346e-04, 1.1380239e-03, 1.6147638e-03],\n",
       "        [1.0457517e-03, 1.0457517e-03, 1.4148406e-03],\n",
       "        [1.0149943e-03, 9.8423695e-04, 1.3225684e-03]],\n",
       "\n",
       "       [[3.9984626e-04, 1.3994619e-03, 2.2914265e-03],\n",
       "        [4.3060369e-04, 1.4302193e-03, 2.3221839e-03],\n",
       "        [3.6908887e-04, 1.3840832e-03, 2.3068052e-03],\n",
       "        ...,\n",
       "        [9.6885825e-04, 1.2456749e-03, 1.6147638e-03],\n",
       "        [9.2272216e-04, 1.0918878e-03, 1.3994619e-03],\n",
       "        [9.3810086e-04, 1.0611304e-03, 1.3533258e-03]],\n",
       "\n",
       "       [[2.9219533e-04, 1.3533258e-03, 2.2299117e-03],\n",
       "        [3.8446757e-04, 1.4455980e-03, 2.3529413e-03],\n",
       "        [3.8446757e-04, 1.4609767e-03, 2.3683200e-03],\n",
       "        ...,\n",
       "        [8.7658607e-04, 1.1995387e-03, 1.4917342e-03],\n",
       "        [9.0734346e-04, 1.2456749e-03, 1.4609767e-03],\n",
       "        [9.9961564e-04, 1.2918110e-03, 1.5224916e-03]]], dtype=float32)"
      ]
     },
     "execution_count": 51,
     "metadata": {},
     "output_type": "execute_result"
    }
   ],
   "source": [
    "test_image = image.img_to_array(test_image)\n",
    "test_image = test_image*(1./255)\n",
    "test_image"
   ]
  },
  {
   "cell_type": "code",
   "execution_count": 53,
   "id": "81cd3365",
   "metadata": {},
   "outputs": [],
   "source": [
    "test_image2 = np.expand_dims(test_image , axis = 0)"
   ]
  },
  {
   "cell_type": "code",
   "execution_count": 54,
   "id": "32af6477",
   "metadata": {},
   "outputs": [],
   "source": [
    "result = classifier.predict(test_image2)"
   ]
  },
  {
   "cell_type": "code",
   "execution_count": 55,
   "id": "5ebb165e",
   "metadata": {},
   "outputs": [
    {
     "data": {
      "text/plain": [
       "array([[0.13908051]], dtype=float32)"
      ]
     },
     "execution_count": 55,
     "metadata": {},
     "output_type": "execute_result"
    }
   ],
   "source": [
    "result"
   ]
  },
  {
   "cell_type": "code",
   "execution_count": 48,
   "id": "053f7ad0",
   "metadata": {},
   "outputs": [
    {
     "name": "stdout",
     "output_type": "stream",
     "text": [
      "Dog\n"
     ]
    }
   ],
   "source": [
    "if (result[0][0]==1):\n",
    "    prediction = 'Dog'\n",
    "else:\n",
    "    prediction = 'Cat'\n",
    "    \n",
    "print(prediction)"
   ]
  },
  {
   "cell_type": "code",
   "execution_count": null,
   "id": "20db0a39",
   "metadata": {},
   "outputs": [],
   "source": []
  }
 ],
 "metadata": {
  "kernelspec": {
   "display_name": "Python 3 (ipykernel)",
   "language": "python",
   "name": "python3"
  },
  "language_info": {
   "codemirror_mode": {
    "name": "ipython",
    "version": 3
   },
   "file_extension": ".py",
   "mimetype": "text/x-python",
   "name": "python",
   "nbconvert_exporter": "python",
   "pygments_lexer": "ipython3",
   "version": "3.9.13"
  }
 },
 "nbformat": 4,
 "nbformat_minor": 5
}
